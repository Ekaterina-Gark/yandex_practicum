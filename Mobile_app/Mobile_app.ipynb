{
 "cells": [
  {
   "cell_type": "markdown",
   "metadata": {
    "toc": true
   },
   "source": [
    "<h1>Table of Contents<span class=\"tocSkip\"></span></h1>\n",
    "<div class=\"toc\"><ul class=\"toc-item\"><li><span><a href=\"#Загружаем-данные-и-готовим-их-к-анализу\" data-toc-modified-id=\"Загружаем-данные-и-готовим-их-к-анализу-1\"><span class=\"toc-item-num\">1&nbsp;&nbsp;</span>Загружаем данные и готовим их к анализу</a></span></li><li><span><a href=\"#Изучение-и-проверка-данных\" data-toc-modified-id=\"Изучение-и-проверка-данных-2\"><span class=\"toc-item-num\">2&nbsp;&nbsp;</span>Изучение и проверка данных</a></span></li><li><span><a href=\"#Изучим-воронку-событий\" data-toc-modified-id=\"Изучим-воронку-событий-3\"><span class=\"toc-item-num\">3&nbsp;&nbsp;</span>Изучим воронку событий</a></span></li><li><span><a href=\"#Изучим-результаты-эксперимента\" data-toc-modified-id=\"Изучим-результаты-эксперимента-4\"><span class=\"toc-item-num\">4&nbsp;&nbsp;</span>Изучим результаты эксперимента</a></span></li><li><span><a href=\"#Вывод\" data-toc-modified-id=\"Вывод-5\"><span class=\"toc-item-num\">5&nbsp;&nbsp;</span>Вывод</a></span></li></ul></div>"
   ]
  },
  {
   "cell_type": "markdown",
   "metadata": {},
   "source": [
    "# Анализ поведения пользователей в мобильном приложении"
   ]
  },
  {
   "cell_type": "markdown",
   "metadata": {},
   "source": [
    "В данном исследование проводится анализ гипотез по изменению шрифта в мобильном приложении. Необходимо изучить:\n",
    "- воронку событий;\n",
    "- сколько пользователей доходит до покупки;\n",
    "- сколько пользователей застревают на других шагах;\n",
    "- исследовать результаты A/A/B-эксперимента, по измению шрифта в приложении.\n",
    "\n",
    "В нашем распоряжении логи пользователей. Каждая запись в логе — это действие пользователя, или событие. \n"
   ]
  },
  {
   "cell_type": "markdown",
   "metadata": {},
   "source": [
    "## Загружаем данные и готовим их к анализу"
   ]
  },
  {
   "cell_type": "code",
   "execution_count": 1,
   "metadata": {},
   "outputs": [],
   "source": [
    "#импортируем библиотеки\n",
    "import pandas as pd\n",
    "import scipy.stats as stats\n",
    "import datetime as dt\n",
    "import numpy as np\n",
    "import matplotlib.pyplot as plt\n",
    "import matplotlib.pyplot as plot\n",
    "from plotly import graph_objects as go\n",
    "import math as mth\n",
    "from scipy import stats as st"
   ]
  },
  {
   "cell_type": "code",
   "execution_count": 2,
   "metadata": {},
   "outputs": [],
   "source": [
    "data = pd.read_csv('/datasets/logs_exp.csv', sep ='\\t')\n",
    "#читаем файл"
   ]
  },
  {
   "cell_type": "code",
   "execution_count": 3,
   "metadata": {},
   "outputs": [
    {
     "name": "stdout",
     "output_type": "stream",
     "text": [
      "<class 'pandas.core.frame.DataFrame'>\n",
      "RangeIndex: 244126 entries, 0 to 244125\n",
      "Data columns (total 4 columns):\n",
      " #   Column          Non-Null Count   Dtype \n",
      "---  ------          --------------   ----- \n",
      " 0   EventName       244126 non-null  object\n",
      " 1   DeviceIDHash    244126 non-null  int64 \n",
      " 2   EventTimestamp  244126 non-null  int64 \n",
      " 3   ExpId           244126 non-null  int64 \n",
      "dtypes: int64(3), object(1)\n",
      "memory usage: 7.5+ MB\n"
     ]
    },
    {
     "data": {
      "text/html": [
       "<div>\n",
       "<style scoped>\n",
       "    .dataframe tbody tr th:only-of-type {\n",
       "        vertical-align: middle;\n",
       "    }\n",
       "\n",
       "    .dataframe tbody tr th {\n",
       "        vertical-align: top;\n",
       "    }\n",
       "\n",
       "    .dataframe thead th {\n",
       "        text-align: right;\n",
       "    }\n",
       "</style>\n",
       "<table border=\"1\" class=\"dataframe\">\n",
       "  <thead>\n",
       "    <tr style=\"text-align: right;\">\n",
       "      <th></th>\n",
       "      <th>EventName</th>\n",
       "      <th>DeviceIDHash</th>\n",
       "      <th>EventTimestamp</th>\n",
       "      <th>ExpId</th>\n",
       "    </tr>\n",
       "  </thead>\n",
       "  <tbody>\n",
       "    <tr>\n",
       "      <th>0</th>\n",
       "      <td>MainScreenAppear</td>\n",
       "      <td>4575588528974610257</td>\n",
       "      <td>1564029816</td>\n",
       "      <td>246</td>\n",
       "    </tr>\n",
       "    <tr>\n",
       "      <th>1</th>\n",
       "      <td>MainScreenAppear</td>\n",
       "      <td>7416695313311560658</td>\n",
       "      <td>1564053102</td>\n",
       "      <td>246</td>\n",
       "    </tr>\n",
       "    <tr>\n",
       "      <th>2</th>\n",
       "      <td>PaymentScreenSuccessful</td>\n",
       "      <td>3518123091307005509</td>\n",
       "      <td>1564054127</td>\n",
       "      <td>248</td>\n",
       "    </tr>\n",
       "    <tr>\n",
       "      <th>3</th>\n",
       "      <td>CartScreenAppear</td>\n",
       "      <td>3518123091307005509</td>\n",
       "      <td>1564054127</td>\n",
       "      <td>248</td>\n",
       "    </tr>\n",
       "    <tr>\n",
       "      <th>4</th>\n",
       "      <td>PaymentScreenSuccessful</td>\n",
       "      <td>6217807653094995999</td>\n",
       "      <td>1564055322</td>\n",
       "      <td>248</td>\n",
       "    </tr>\n",
       "    <tr>\n",
       "      <th>...</th>\n",
       "      <td>...</td>\n",
       "      <td>...</td>\n",
       "      <td>...</td>\n",
       "      <td>...</td>\n",
       "    </tr>\n",
       "    <tr>\n",
       "      <th>244121</th>\n",
       "      <td>MainScreenAppear</td>\n",
       "      <td>4599628364049201812</td>\n",
       "      <td>1565212345</td>\n",
       "      <td>247</td>\n",
       "    </tr>\n",
       "    <tr>\n",
       "      <th>244122</th>\n",
       "      <td>MainScreenAppear</td>\n",
       "      <td>5849806612437486590</td>\n",
       "      <td>1565212439</td>\n",
       "      <td>246</td>\n",
       "    </tr>\n",
       "    <tr>\n",
       "      <th>244123</th>\n",
       "      <td>MainScreenAppear</td>\n",
       "      <td>5746969938801999050</td>\n",
       "      <td>1565212483</td>\n",
       "      <td>246</td>\n",
       "    </tr>\n",
       "    <tr>\n",
       "      <th>244124</th>\n",
       "      <td>MainScreenAppear</td>\n",
       "      <td>5746969938801999050</td>\n",
       "      <td>1565212498</td>\n",
       "      <td>246</td>\n",
       "    </tr>\n",
       "    <tr>\n",
       "      <th>244125</th>\n",
       "      <td>OffersScreenAppear</td>\n",
       "      <td>5746969938801999050</td>\n",
       "      <td>1565212517</td>\n",
       "      <td>246</td>\n",
       "    </tr>\n",
       "  </tbody>\n",
       "</table>\n",
       "<p>244126 rows × 4 columns</p>\n",
       "</div>"
      ],
      "text/plain": [
       "                      EventName         DeviceIDHash  EventTimestamp  ExpId\n",
       "0              MainScreenAppear  4575588528974610257      1564029816    246\n",
       "1              MainScreenAppear  7416695313311560658      1564053102    246\n",
       "2       PaymentScreenSuccessful  3518123091307005509      1564054127    248\n",
       "3              CartScreenAppear  3518123091307005509      1564054127    248\n",
       "4       PaymentScreenSuccessful  6217807653094995999      1564055322    248\n",
       "...                         ...                  ...             ...    ...\n",
       "244121         MainScreenAppear  4599628364049201812      1565212345    247\n",
       "244122         MainScreenAppear  5849806612437486590      1565212439    246\n",
       "244123         MainScreenAppear  5746969938801999050      1565212483    246\n",
       "244124         MainScreenAppear  5746969938801999050      1565212498    246\n",
       "244125       OffersScreenAppear  5746969938801999050      1565212517    246\n",
       "\n",
       "[244126 rows x 4 columns]"
      ]
     },
     "execution_count": 3,
     "metadata": {},
     "output_type": "execute_result"
    }
   ],
   "source": [
    "#получение общей информации о датафрейме\n",
    "data.info()\n",
    "data"
   ]
  },
  {
   "cell_type": "code",
   "execution_count": 4,
   "metadata": {},
   "outputs": [],
   "source": [
    "#заменяем названия столбцов\n",
    "data = data.rename(columns ={'EventName':'event', 'DeviceIDHash':'user_id', 'EventTimestamp':'event_time', 'ExpId':'group'})"
   ]
  },
  {
   "cell_type": "code",
   "execution_count": 5,
   "metadata": {},
   "outputs": [
    {
     "data": {
      "text/plain": [
       "413"
      ]
     },
     "execution_count": 5,
     "metadata": {},
     "output_type": "execute_result"
    }
   ],
   "source": [
    "data.duplicated().sum()\n",
    "#проверка на наличие дубликатов"
   ]
  },
  {
   "cell_type": "markdown",
   "metadata": {},
   "source": [
    "Дубликатов 413 строк, а всего строк 244125, процент дубликатов менее 1%, их можно удалить:"
   ]
  },
  {
   "cell_type": "code",
   "execution_count": 6,
   "metadata": {},
   "outputs": [
    {
     "name": "stdout",
     "output_type": "stream",
     "text": [
      "0\n"
     ]
    }
   ],
   "source": [
    "data = data.drop_duplicates()\n",
    "#удаляем дубликаты\n",
    "print(data.duplicated().sum()) "
   ]
  },
  {
   "cell_type": "code",
   "execution_count": 7,
   "metadata": {},
   "outputs": [
    {
     "data": {
      "text/plain": [
       "event         0\n",
       "user_id       0\n",
       "event_time    0\n",
       "group         0\n",
       "dtype: int64"
      ]
     },
     "execution_count": 7,
     "metadata": {},
     "output_type": "execute_result"
    }
   ],
   "source": [
    "data.isna().sum()\n",
    "#проверка на пропуски"
   ]
  },
  {
   "cell_type": "code",
   "execution_count": 8,
   "metadata": {},
   "outputs": [],
   "source": [
    "#меняем тип данных, у столбца со временем, получаем столбец с датой и временем, добавляем отдельный столбнц с датой\n",
    "data['event_time'] = pd.to_datetime(data['event_time'], unit='s')\n",
    "data['date'] = data['event_time'].dt.date"
   ]
  },
  {
   "cell_type": "code",
   "execution_count": 9,
   "metadata": {},
   "outputs": [
    {
     "data": {
      "text/html": [
       "<div>\n",
       "<style scoped>\n",
       "    .dataframe tbody tr th:only-of-type {\n",
       "        vertical-align: middle;\n",
       "    }\n",
       "\n",
       "    .dataframe tbody tr th {\n",
       "        vertical-align: top;\n",
       "    }\n",
       "\n",
       "    .dataframe thead th {\n",
       "        text-align: right;\n",
       "    }\n",
       "</style>\n",
       "<table border=\"1\" class=\"dataframe\">\n",
       "  <thead>\n",
       "    <tr style=\"text-align: right;\">\n",
       "      <th></th>\n",
       "      <th>event</th>\n",
       "      <th>user_id</th>\n",
       "      <th>event_time</th>\n",
       "      <th>group</th>\n",
       "      <th>date</th>\n",
       "    </tr>\n",
       "  </thead>\n",
       "  <tbody>\n",
       "    <tr>\n",
       "      <th>0</th>\n",
       "      <td>MainScreenAppear</td>\n",
       "      <td>4575588528974610257</td>\n",
       "      <td>2019-07-25 04:43:36</td>\n",
       "      <td>246</td>\n",
       "      <td>2019-07-25</td>\n",
       "    </tr>\n",
       "    <tr>\n",
       "      <th>1</th>\n",
       "      <td>MainScreenAppear</td>\n",
       "      <td>7416695313311560658</td>\n",
       "      <td>2019-07-25 11:11:42</td>\n",
       "      <td>246</td>\n",
       "      <td>2019-07-25</td>\n",
       "    </tr>\n",
       "    <tr>\n",
       "      <th>2</th>\n",
       "      <td>PaymentScreenSuccessful</td>\n",
       "      <td>3518123091307005509</td>\n",
       "      <td>2019-07-25 11:28:47</td>\n",
       "      <td>248</td>\n",
       "      <td>2019-07-25</td>\n",
       "    </tr>\n",
       "    <tr>\n",
       "      <th>3</th>\n",
       "      <td>CartScreenAppear</td>\n",
       "      <td>3518123091307005509</td>\n",
       "      <td>2019-07-25 11:28:47</td>\n",
       "      <td>248</td>\n",
       "      <td>2019-07-25</td>\n",
       "    </tr>\n",
       "    <tr>\n",
       "      <th>4</th>\n",
       "      <td>PaymentScreenSuccessful</td>\n",
       "      <td>6217807653094995999</td>\n",
       "      <td>2019-07-25 11:48:42</td>\n",
       "      <td>248</td>\n",
       "      <td>2019-07-25</td>\n",
       "    </tr>\n",
       "    <tr>\n",
       "      <th>...</th>\n",
       "      <td>...</td>\n",
       "      <td>...</td>\n",
       "      <td>...</td>\n",
       "      <td>...</td>\n",
       "      <td>...</td>\n",
       "    </tr>\n",
       "    <tr>\n",
       "      <th>244121</th>\n",
       "      <td>MainScreenAppear</td>\n",
       "      <td>4599628364049201812</td>\n",
       "      <td>2019-08-07 21:12:25</td>\n",
       "      <td>247</td>\n",
       "      <td>2019-08-07</td>\n",
       "    </tr>\n",
       "    <tr>\n",
       "      <th>244122</th>\n",
       "      <td>MainScreenAppear</td>\n",
       "      <td>5849806612437486590</td>\n",
       "      <td>2019-08-07 21:13:59</td>\n",
       "      <td>246</td>\n",
       "      <td>2019-08-07</td>\n",
       "    </tr>\n",
       "    <tr>\n",
       "      <th>244123</th>\n",
       "      <td>MainScreenAppear</td>\n",
       "      <td>5746969938801999050</td>\n",
       "      <td>2019-08-07 21:14:43</td>\n",
       "      <td>246</td>\n",
       "      <td>2019-08-07</td>\n",
       "    </tr>\n",
       "    <tr>\n",
       "      <th>244124</th>\n",
       "      <td>MainScreenAppear</td>\n",
       "      <td>5746969938801999050</td>\n",
       "      <td>2019-08-07 21:14:58</td>\n",
       "      <td>246</td>\n",
       "      <td>2019-08-07</td>\n",
       "    </tr>\n",
       "    <tr>\n",
       "      <th>244125</th>\n",
       "      <td>OffersScreenAppear</td>\n",
       "      <td>5746969938801999050</td>\n",
       "      <td>2019-08-07 21:15:17</td>\n",
       "      <td>246</td>\n",
       "      <td>2019-08-07</td>\n",
       "    </tr>\n",
       "  </tbody>\n",
       "</table>\n",
       "<p>243713 rows × 5 columns</p>\n",
       "</div>"
      ],
      "text/plain": [
       "                          event              user_id          event_time  \\\n",
       "0              MainScreenAppear  4575588528974610257 2019-07-25 04:43:36   \n",
       "1              MainScreenAppear  7416695313311560658 2019-07-25 11:11:42   \n",
       "2       PaymentScreenSuccessful  3518123091307005509 2019-07-25 11:28:47   \n",
       "3              CartScreenAppear  3518123091307005509 2019-07-25 11:28:47   \n",
       "4       PaymentScreenSuccessful  6217807653094995999 2019-07-25 11:48:42   \n",
       "...                         ...                  ...                 ...   \n",
       "244121         MainScreenAppear  4599628364049201812 2019-08-07 21:12:25   \n",
       "244122         MainScreenAppear  5849806612437486590 2019-08-07 21:13:59   \n",
       "244123         MainScreenAppear  5746969938801999050 2019-08-07 21:14:43   \n",
       "244124         MainScreenAppear  5746969938801999050 2019-08-07 21:14:58   \n",
       "244125       OffersScreenAppear  5746969938801999050 2019-08-07 21:15:17   \n",
       "\n",
       "        group        date  \n",
       "0         246  2019-07-25  \n",
       "1         246  2019-07-25  \n",
       "2         248  2019-07-25  \n",
       "3         248  2019-07-25  \n",
       "4         248  2019-07-25  \n",
       "...       ...         ...  \n",
       "244121    247  2019-08-07  \n",
       "244122    246  2019-08-07  \n",
       "244123    246  2019-08-07  \n",
       "244124    246  2019-08-07  \n",
       "244125    246  2019-08-07  \n",
       "\n",
       "[243713 rows x 5 columns]"
      ]
     },
     "execution_count": 9,
     "metadata": {},
     "output_type": "execute_result"
    }
   ],
   "source": [
    "data"
   ]
  },
  {
   "cell_type": "markdown",
   "metadata": {},
   "source": [
    "Предоставленный файл содержит информацию о 244125 строках, содержит 4 столбца.  Провели необходимую предобработку данных, привели названия столбцов к удобным и понятным названиям, столбец с датой к правильному типу. Проверили на наличие пропусков, дубликатов, исключили найденные дубликаты, т.к. их процент от общего количества строк менее 1%."
   ]
  },
  {
   "cell_type": "markdown",
   "metadata": {},
   "source": [
    "## Изучение и проверка данных"
   ]
  },
  {
   "cell_type": "code",
   "execution_count": 10,
   "metadata": {},
   "outputs": [
    {
     "data": {
      "text/plain": [
       "243713"
      ]
     },
     "execution_count": 10,
     "metadata": {},
     "output_type": "execute_result"
    }
   ],
   "source": [
    "event_count = len(data)\n",
    "event_count\n",
    "#подсчет событий в логе"
   ]
  },
  {
   "cell_type": "code",
   "execution_count": 11,
   "metadata": {},
   "outputs": [
    {
     "data": {
      "text/plain": [
       "7551"
      ]
     },
     "execution_count": 11,
     "metadata": {},
     "output_type": "execute_result"
    }
   ],
   "source": [
    "user_id_count = data['user_id'].nunique()\n",
    "user_id_count\n",
    "#подсчет уникальных пользователей в логе"
   ]
  },
  {
   "cell_type": "code",
   "execution_count": 12,
   "metadata": {},
   "outputs": [
    {
     "data": {
      "text/plain": [
       "(32, 0)"
      ]
     },
     "execution_count": 12,
     "metadata": {},
     "output_type": "execute_result"
    }
   ],
   "source": [
    "event_mean = event_count/user_id_count\n",
    "round(event_mean),0\n",
    "#Сколько в среднем событий приходится на пользователя"
   ]
  },
  {
   "cell_type": "code",
   "execution_count": 13,
   "metadata": {},
   "outputs": [
    {
     "data": {
      "text/plain": [
       "datetime.date(2019, 7, 25)"
      ]
     },
     "execution_count": 13,
     "metadata": {},
     "output_type": "execute_result"
    }
   ],
   "source": [
    "min_date = data['date'].min()\n",
    "min_date"
   ]
  },
  {
   "cell_type": "code",
   "execution_count": 14,
   "metadata": {},
   "outputs": [
    {
     "data": {
      "text/plain": [
       "datetime.date(2019, 8, 7)"
      ]
     },
     "execution_count": 14,
     "metadata": {},
     "output_type": "execute_result"
    }
   ],
   "source": [
    "max_date = data['date'].max()\n",
    "max_date"
   ]
  },
  {
   "cell_type": "code",
   "execution_count": 15,
   "metadata": {},
   "outputs": [
    {
     "data": {
      "text/plain": [
       "datetime.timedelta(days=13)"
      ]
     },
     "execution_count": 15,
     "metadata": {},
     "output_type": "execute_result"
    }
   ],
   "source": [
    "date_count = max_date - min_date\n",
    "date_count"
   ]
  },
  {
   "cell_type": "markdown",
   "metadata": {},
   "source": [
    "Всего событий в логе - 243713. Уникальных пользователей - 7551. На одного пользователя в среднем приходится 32 события. Минимальная дата в датафрейме - 25 июля 2019 г, максимальная - 7 августа 2019 г. Мы распологаем данными за 13 дней.\n"
   ]
  },
  {
   "cell_type": "code",
   "execution_count": 16,
   "metadata": {},
   "outputs": [
    {
     "data": {
      "image/png": "[encoded data removed]",
      "text/plain": [
       "<Figure size 864x576 with 1 Axes>"
      ]
     },
     "metadata": {
      "needs_background": "light"
     },
     "output_type": "display_data"
    }
   ],
   "source": [
    "fig = plt.figure(figsize=(12, 8))\n",
    "data['date'].hist()\n",
    "plt.title('График количества событий, распределенных по днях')\n",
    "plt.ylabel('Колиечство')\n",
    "plt.xlabel('Дата')\n",
    "plt.xticks(rotation=30)\n",
    "plt.show()"
   ]
  },
  {
   "cell_type": "markdown",
   "metadata": {},
   "source": [
    "Наиболее полные данные есть за период с 1.07.2019 по 07.08.2019. Данные за период с 25.07.2019 по 31.07.2019 стоит откинуть. Откинем не полные данные:\n"
   ]
  },
  {
   "cell_type": "code",
   "execution_count": 17,
   "metadata": {},
   "outputs": [],
   "source": [
    "new_data = data.loc[data['event_time'] > '2019-08-01']"
   ]
  },
  {
   "cell_type": "code",
   "execution_count": 18,
   "metadata": {},
   "outputs": [
    {
     "data": {
      "text/plain": [
       "240887"
      ]
     },
     "execution_count": 18,
     "metadata": {},
     "output_type": "execute_result"
    }
   ],
   "source": [
    "event_count_new = len(new_data)\n",
    "event_count_new\n",
    "#подсчет событий в очищенном логе"
   ]
  },
  {
   "cell_type": "code",
   "execution_count": 19,
   "metadata": {},
   "outputs": [
    {
     "data": {
      "text/plain": [
       "7534"
      ]
     },
     "execution_count": 19,
     "metadata": {},
     "output_type": "execute_result"
    }
   ],
   "source": [
    "user_id_count_new = new_data['user_id'].nunique()\n",
    "user_id_count_new\n",
    "#подсчет уникальных пользователей в очищенном логе"
   ]
  },
  {
   "cell_type": "code",
   "execution_count": 20,
   "metadata": {},
   "outputs": [
    {
     "name": "stdout",
     "output_type": "stream",
     "text": [
      "Количество потерянных событий после очистки лога 2826 или 1.16 %\n",
      "Количество потерянных уникальных пользователей после очистки лога 17 или 0.23 %\n"
     ]
    }
   ],
   "source": [
    "#подсчитаем на сколько событий и пользлвателей изменился очищенный датафрем\n",
    "difference_event = event_count - event_count_new\n",
    "percent_event = round(difference_event / event_count * 100, 2)\n",
    "difference_user_id = user_id_count - user_id_count_new\n",
    "percent_user_id = round(difference_user_id / user_id_count * 100, 2)\n",
    "print('Количество потерянных событий после очистки лога', difference_event, 'или',percent_event,'%')\n",
    "print('Количество потерянных уникальных пользователей после очистки лога', difference_user_id, 'или',percent_user_id,'%')\n"
   ]
  },
  {
   "cell_type": "code",
   "execution_count": 21,
   "metadata": {},
   "outputs": [
    {
     "data": {
      "text/html": [
       "<div>\n",
       "<style scoped>\n",
       "    .dataframe tbody tr th:only-of-type {\n",
       "        vertical-align: middle;\n",
       "    }\n",
       "\n",
       "    .dataframe tbody tr th {\n",
       "        vertical-align: top;\n",
       "    }\n",
       "\n",
       "    .dataframe thead th {\n",
       "        text-align: right;\n",
       "    }\n",
       "</style>\n",
       "<table border=\"1\" class=\"dataframe\">\n",
       "  <thead>\n",
       "    <tr style=\"text-align: right;\">\n",
       "      <th></th>\n",
       "      <th>user_id</th>\n",
       "    </tr>\n",
       "    <tr>\n",
       "      <th>group</th>\n",
       "      <th></th>\n",
       "    </tr>\n",
       "  </thead>\n",
       "  <tbody>\n",
       "    <tr>\n",
       "      <th>246</th>\n",
       "      <td>79302</td>\n",
       "    </tr>\n",
       "    <tr>\n",
       "      <th>247</th>\n",
       "      <td>77022</td>\n",
       "    </tr>\n",
       "    <tr>\n",
       "      <th>248</th>\n",
       "      <td>84563</td>\n",
       "    </tr>\n",
       "  </tbody>\n",
       "</table>\n",
       "</div>"
      ],
      "text/plain": [
       "       user_id\n",
       "group         \n",
       "246      79302\n",
       "247      77022\n",
       "248      84563"
      ]
     },
     "execution_count": 21,
     "metadata": {},
     "output_type": "execute_result"
    }
   ],
   "source": [
    "new_data.groupby('group').agg({'user_id': 'count'})\n",
    "#подсчет количества пользователей в каждой группе"
   ]
  },
  {
   "cell_type": "markdown",
   "metadata": {},
   "source": [
    "После очистки датафрейма удалилось 2826 или 1.16 % событий, уникальных пользователей - 17 или 0.23 %. Выше проверили, что в каждой из трех эксперементальных групп есть пользователи."
   ]
  },
  {
   "cell_type": "markdown",
   "metadata": {},
   "source": [
    "Изучили предоставленные данные, всего событий в логе - 243713. Уникальных пользователей - 7551. На одного пользователя в среднем приходится 32 события. Минимальная дата в датафрейме - 25 июля 2019 г, максимальная - 7 августа 2019 г. Мы распологаем данными за 13 дней. Данные необходимо было очистить, т.к. более 95% всех событий приходилось на последнюю неделю. После очистки датафрейма удалилось 2826 или 1.16 % событий, уникальных пользователей - 17 или 0.23 %."
   ]
  },
  {
   "cell_type": "markdown",
   "metadata": {},
   "source": [
    "## Изучим воронку событий"
   ]
  },
  {
   "cell_type": "markdown",
   "metadata": {},
   "source": [
    "Посмотрим, какие события есть в логах, как часто они встречаются. Отсортируем события по частоте."
   ]
  },
  {
   "cell_type": "code",
   "execution_count": 22,
   "metadata": {},
   "outputs": [
    {
     "data": {
      "text/html": [
       "<div>\n",
       "<style scoped>\n",
       "    .dataframe tbody tr th:only-of-type {\n",
       "        vertical-align: middle;\n",
       "    }\n",
       "\n",
       "    .dataframe tbody tr th {\n",
       "        vertical-align: top;\n",
       "    }\n",
       "\n",
       "    .dataframe thead th {\n",
       "        text-align: right;\n",
       "    }\n",
       "</style>\n",
       "<table border=\"1\" class=\"dataframe\">\n",
       "  <thead>\n",
       "    <tr style=\"text-align: right;\">\n",
       "      <th></th>\n",
       "      <th>event</th>\n",
       "      <th>user_id</th>\n",
       "    </tr>\n",
       "  </thead>\n",
       "  <tbody>\n",
       "    <tr>\n",
       "      <th>1</th>\n",
       "      <td>MainScreenAppear</td>\n",
       "      <td>117328</td>\n",
       "    </tr>\n",
       "    <tr>\n",
       "      <th>2</th>\n",
       "      <td>OffersScreenAppear</td>\n",
       "      <td>46333</td>\n",
       "    </tr>\n",
       "    <tr>\n",
       "      <th>0</th>\n",
       "      <td>CartScreenAppear</td>\n",
       "      <td>42303</td>\n",
       "    </tr>\n",
       "    <tr>\n",
       "      <th>3</th>\n",
       "      <td>PaymentScreenSuccessful</td>\n",
       "      <td>33918</td>\n",
       "    </tr>\n",
       "    <tr>\n",
       "      <th>4</th>\n",
       "      <td>Tutorial</td>\n",
       "      <td>1005</td>\n",
       "    </tr>\n",
       "  </tbody>\n",
       "</table>\n",
       "</div>"
      ],
      "text/plain": [
       "                     event  user_id\n",
       "1         MainScreenAppear   117328\n",
       "2       OffersScreenAppear    46333\n",
       "0         CartScreenAppear    42303\n",
       "3  PaymentScreenSuccessful    33918\n",
       "4                 Tutorial     1005"
      ]
     },
     "execution_count": 22,
     "metadata": {},
     "output_type": "execute_result"
    }
   ],
   "source": [
    "new_data.groupby('event').agg({'user_id': 'count'}).reset_index().sort_values(by='user_id', ascending = False)\n",
    "#какие события встречаются в логе, как часто они встречаются, сортировка по убыванию"
   ]
  },
  {
   "cell_type": "markdown",
   "metadata": {},
   "source": [
    "В логах встречается 5 событий, наиболее часто встречающиеся - MainScreenAppear. Рассчитаем сколько пользователей совершали каждое событие:\t"
   ]
  },
  {
   "cell_type": "code",
   "execution_count": 23,
   "metadata": {},
   "outputs": [
    {
     "data": {
      "text/html": [
       "<div>\n",
       "<style scoped>\n",
       "    .dataframe tbody tr th:only-of-type {\n",
       "        vertical-align: middle;\n",
       "    }\n",
       "\n",
       "    .dataframe tbody tr th {\n",
       "        vertical-align: top;\n",
       "    }\n",
       "\n",
       "    .dataframe thead th {\n",
       "        text-align: right;\n",
       "    }\n",
       "</style>\n",
       "<table border=\"1\" class=\"dataframe\">\n",
       "  <thead>\n",
       "    <tr style=\"text-align: right;\">\n",
       "      <th></th>\n",
       "      <th>event</th>\n",
       "      <th>user_id</th>\n",
       "      <th>percent</th>\n",
       "    </tr>\n",
       "  </thead>\n",
       "  <tbody>\n",
       "    <tr>\n",
       "      <th>0</th>\n",
       "      <td>MainScreenAppear</td>\n",
       "      <td>7419</td>\n",
       "      <td>98.47</td>\n",
       "    </tr>\n",
       "    <tr>\n",
       "      <th>1</th>\n",
       "      <td>OffersScreenAppear</td>\n",
       "      <td>4593</td>\n",
       "      <td>60.96</td>\n",
       "    </tr>\n",
       "    <tr>\n",
       "      <th>2</th>\n",
       "      <td>CartScreenAppear</td>\n",
       "      <td>3734</td>\n",
       "      <td>49.56</td>\n",
       "    </tr>\n",
       "    <tr>\n",
       "      <th>3</th>\n",
       "      <td>PaymentScreenSuccessful</td>\n",
       "      <td>3539</td>\n",
       "      <td>46.97</td>\n",
       "    </tr>\n",
       "    <tr>\n",
       "      <th>4</th>\n",
       "      <td>Tutorial</td>\n",
       "      <td>840</td>\n",
       "      <td>11.15</td>\n",
       "    </tr>\n",
       "  </tbody>\n",
       "</table>\n",
       "</div>"
      ],
      "text/plain": [
       "                     event  user_id  percent\n",
       "0         MainScreenAppear     7419    98.47\n",
       "1       OffersScreenAppear     4593    60.96\n",
       "2         CartScreenAppear     3734    49.56\n",
       "3  PaymentScreenSuccessful     3539    46.97\n",
       "4                 Tutorial      840    11.15"
      ]
     },
     "execution_count": 23,
     "metadata": {},
     "output_type": "execute_result"
    }
   ],
   "source": [
    "percent_user_id = new_data.groupby('event')['user_id'].nunique().to_frame().sort_values(by='user_id',ascending=False).reset_index()\n",
    "percent_user_id['percent'] = (percent_user_id['user_id']/7534)*100\n",
    "round(percent_user_id,2)\n",
    "#какое количество уникальных пользователей совершают каждое из событий"
   ]
  },
  {
   "cell_type": "markdown",
   "metadata": {},
   "source": [
    "Рассчитали количество пользователей, которые совершают каждое из событий. Всего уникальных пользователей, после очистки данных - 7534 пользователя, их и взяли за - 100%."
   ]
  },
  {
   "cell_type": "markdown",
   "metadata": {},
   "source": [
    "Этапы событий можно перевести следующим образом:\n",
    "- MainScreenAppear - Главный экран\n",
    "- OffersScreenAppear - Экран предлжения\n",
    "- CartScreenAppear - Экран корзины\n",
    "- PaymentScreenSuccessful\t- Экран оплаты, со статусом успешно\n",
    "- Tutorial\t - Руководство, по пользованию приложением."
   ]
  },
  {
   "cell_type": "markdown",
   "metadata": {},
   "source": [
    "Предпологаю, что события происходят в следующем порядке:\n",
    "- Появляется главный экран;\n",
    "- Предложение о прохождении обучения по работе с приложением;\n",
    "- Экран с предложениями товаров;\n",
    "- Экран с корзиной;\n",
    "- Экран с успешной оплатой заказа.\n",
    "\n",
    "Этап Tutorial - Руководство, по пользованию приложением, можно исключить из воронки, т.к. предпологаю, что он является не обязательным, а добровольным, и никак не повлияет на пользователя, на его решение о покупки. "
   ]
  },
  {
   "cell_type": "code",
   "execution_count": 24,
   "metadata": {},
   "outputs": [
    {
     "data": {
      "text/html": [
       "<div>\n",
       "<style scoped>\n",
       "    .dataframe tbody tr th:only-of-type {\n",
       "        vertical-align: middle;\n",
       "    }\n",
       "\n",
       "    .dataframe tbody tr th {\n",
       "        vertical-align: top;\n",
       "    }\n",
       "\n",
       "    .dataframe thead th {\n",
       "        text-align: right;\n",
       "    }\n",
       "</style>\n",
       "<table border=\"1\" class=\"dataframe\">\n",
       "  <thead>\n",
       "    <tr style=\"text-align: right;\">\n",
       "      <th></th>\n",
       "      <th>event</th>\n",
       "      <th>user_id</th>\n",
       "      <th>percent</th>\n",
       "    </tr>\n",
       "  </thead>\n",
       "  <tbody>\n",
       "    <tr>\n",
       "      <th>0</th>\n",
       "      <td>MainScreenAppear</td>\n",
       "      <td>7419</td>\n",
       "      <td>98.47</td>\n",
       "    </tr>\n",
       "    <tr>\n",
       "      <th>1</th>\n",
       "      <td>OffersScreenAppear</td>\n",
       "      <td>4593</td>\n",
       "      <td>60.96</td>\n",
       "    </tr>\n",
       "    <tr>\n",
       "      <th>2</th>\n",
       "      <td>CartScreenAppear</td>\n",
       "      <td>3734</td>\n",
       "      <td>49.56</td>\n",
       "    </tr>\n",
       "    <tr>\n",
       "      <th>3</th>\n",
       "      <td>PaymentScreenSuccessful</td>\n",
       "      <td>3539</td>\n",
       "      <td>46.97</td>\n",
       "    </tr>\n",
       "  </tbody>\n",
       "</table>\n",
       "</div>"
      ],
      "text/plain": [
       "                     event  user_id  percent\n",
       "0         MainScreenAppear     7419    98.47\n",
       "1       OffersScreenAppear     4593    60.96\n",
       "2         CartScreenAppear     3734    49.56\n",
       "3  PaymentScreenSuccessful     3539    46.97"
      ]
     },
     "execution_count": 24,
     "metadata": {},
     "output_type": "execute_result"
    }
   ],
   "source": [
    "percent_user_id = percent_user_id[:4]\n",
    "round(percent_user_id,2)\n",
    "#удалим из воронки обучение(Tutorial)"
   ]
  },
  {
   "cell_type": "markdown",
   "metadata": {},
   "source": [
    "Как видим, что не все пользователи попадают на главный экран, возможно часть пользователей попадает с рекланмых источников, сразу на другие события."
   ]
  },
  {
   "cell_type": "markdown",
   "metadata": {},
   "source": [
    "Рассчитаем какая доля пользователей, переходит от одного шага к другому, сравнивать шаг будем с предыдущем, т.е. OffersScreenAppear будем считать относительно MainScreenAppear, CartScreenAppear относительно OffersScreenAppear, а PaymentScreenSuccessful\tотносительно CartScreenAppear:"
   ]
  },
  {
   "cell_type": "code",
   "execution_count": 25,
   "metadata": {},
   "outputs": [
    {
     "data": {
      "text/html": [
       "<div>\n",
       "<style scoped>\n",
       "    .dataframe tbody tr th:only-of-type {\n",
       "        vertical-align: middle;\n",
       "    }\n",
       "\n",
       "    .dataframe tbody tr th {\n",
       "        vertical-align: top;\n",
       "    }\n",
       "\n",
       "    .dataframe thead th {\n",
       "        text-align: right;\n",
       "    }\n",
       "</style>\n",
       "<table border=\"1\" class=\"dataframe\">\n",
       "  <thead>\n",
       "    <tr style=\"text-align: right;\">\n",
       "      <th></th>\n",
       "      <th>event</th>\n",
       "      <th>user_id</th>\n",
       "      <th>percent</th>\n",
       "      <th>%_previous</th>\n",
       "    </tr>\n",
       "  </thead>\n",
       "  <tbody>\n",
       "    <tr>\n",
       "      <th>0</th>\n",
       "      <td>MainScreenAppear</td>\n",
       "      <td>7419</td>\n",
       "      <td>98.473586</td>\n",
       "      <td>NaN</td>\n",
       "    </tr>\n",
       "    <tr>\n",
       "      <th>1</th>\n",
       "      <td>OffersScreenAppear</td>\n",
       "      <td>4593</td>\n",
       "      <td>60.963632</td>\n",
       "      <td>61.91</td>\n",
       "    </tr>\n",
       "    <tr>\n",
       "      <th>2</th>\n",
       "      <td>CartScreenAppear</td>\n",
       "      <td>3734</td>\n",
       "      <td>49.561986</td>\n",
       "      <td>81.30</td>\n",
       "    </tr>\n",
       "    <tr>\n",
       "      <th>3</th>\n",
       "      <td>PaymentScreenSuccessful</td>\n",
       "      <td>3539</td>\n",
       "      <td>46.973719</td>\n",
       "      <td>94.78</td>\n",
       "    </tr>\n",
       "  </tbody>\n",
       "</table>\n",
       "</div>"
      ],
      "text/plain": [
       "                     event  user_id    percent  %_previous\n",
       "0         MainScreenAppear     7419  98.473586         NaN\n",
       "1       OffersScreenAppear     4593  60.963632       61.91\n",
       "2         CartScreenAppear     3734  49.561986       81.30\n",
       "3  PaymentScreenSuccessful     3539  46.973719       94.78"
      ]
     },
     "execution_count": 25,
     "metadata": {},
     "output_type": "execute_result"
    }
   ],
   "source": [
    "percent_user_id['%_previous'] = round(percent_user_id['user_id']/percent_user_id['user_id'].shift(1)*100,2)\n",
    "percent_user_id"
   ]
  },
  {
   "cell_type": "code",
   "execution_count": 48,
   "metadata": {},
   "outputs": [
    {
     "data": {
      "application/vnd.plotly.v1+json": {
       "config": {
        "plotlyServerURL": "https://plot.ly"
       },
       "data": [
        {
         "connector": {
          "line": {
           "color": "royalblue",
           "dash": "dot",
           "width": 3
          }
         },
         "marker": {
          "color": [
           "deepskyblue",
           "lightsalmon",
           "tan",
           "teal",
           "silver"
          ],
          "line": {
           "color": [
            "wheat",
            "wheat",
            "wheat",
            "wheat"
           ],
           "width": [
            4,
            2,
            2,
            3,
            1,
            1
           ]
          }
         },
         "opacity": 0.65,
         "textinfo": "value+percent previous",
         "textposition": "inside",
         "type": "funnel",
         "x": [
          7419,
          4593,
          3734,
          3539
         ],
         "y": [
          "MainScreenAppear",
          "OffersScreenAppear",
          "CartScreenAppear",
          "PaymentScreenSuccessful"
         ]
        }
       ],
       "layout": {
        "template": {
         "data": {
          "bar": [
           {
            "error_x": {
             "color": "#2a3f5f"
            },
            "error_y": {
             "color": "#2a3f5f"
            },
            "marker": {
             "line": {
              "color": "#E5ECF6",
              "width": 0.5
             },
             "pattern": {
              "fillmode": "overlay",
              "size": 10,
              "solidity": 0.2
             }
            },
            "type": "bar"
           }
          ],
          "barpolar": [
           {
            "marker": {
             "line": {
              "color": "#E5ECF6",
              "width": 0.5
             },
             "pattern": {
              "fillmode": "overlay",
              "size": 10,
              "solidity": 0.2
             }
            },
            "type": "barpolar"
           }
          ],
          "carpet": [
           {
            "aaxis": {
             "endlinecolor": "#2a3f5f",
             "gridcolor": "white",
             "linecolor": "white",
             "minorgridcolor": "white",
             "startlinecolor": "#2a3f5f"
            },
            "baxis": {
             "endlinecolor": "#2a3f5f",
             "gridcolor": "white",
             "linecolor": "white",
             "minorgridcolor": "white",
             "startlinecolor": "#2a3f5f"
            },
            "type": "carpet"
           }
          ],
          "choropleth": [
           {
            "colorbar": {
             "outlinewidth": 0,
             "ticks": ""
            },
            "type": "choropleth"
           }
          ],
          "contour": [
           {
            "colorbar": {
             "outlinewidth": 0,
             "ticks": ""
            },
            "colorscale": [
             [
              0,
              "#0d0887"
             ],
             [
              0.1111111111111111,
              "#46039f"
             ],
             [
              0.2222222222222222,
              "#7201a8"
             ],
             [
              0.3333333333333333,
              "#9c179e"
             ],
             [
              0.4444444444444444,
              "#bd3786"
             ],
             [
              0.5555555555555556,
              "#d8576b"
             ],
             [
              0.6666666666666666,
              "#ed7953"
             ],
             [
              0.7777777777777778,
              "#fb9f3a"
             ],
             [
              0.8888888888888888,
              "#fdca26"
             ],
             [
              1,
              "#f0f921"
             ]
            ],
            "type": "contour"
           }
          ],
          "contourcarpet": [
           {
            "colorbar": {
             "outlinewidth": 0,
             "ticks": ""
            },
            "type": "contourcarpet"
           }
          ],
          "heatmap": [
           {
            "colorbar": {
             "outlinewidth": 0,
             "ticks": ""
            },
            "colorscale": [
             [
              0,
              "#0d0887"
             ],
             [
              0.1111111111111111,
              "#46039f"
             ],
             [
              0.2222222222222222,
              "#7201a8"
             ],
             [
              0.3333333333333333,
              "#9c179e"
             ],
             [
              0.4444444444444444,
              "#bd3786"
             ],
             [
              0.5555555555555556,
              "#d8576b"
             ],
             [
              0.6666666666666666,
              "#ed7953"
             ],
             [
              0.7777777777777778,
              "#fb9f3a"
             ],
             [
              0.8888888888888888,
              "#fdca26"
             ],
             [
              1,
              "#f0f921"
             ]
            ],
            "type": "heatmap"
           }
          ],
          "heatmapgl": [
           {
            "colorbar": {
             "outlinewidth": 0,
             "ticks": ""
            },
            "colorscale": [
             [
              0,
              "#0d0887"
             ],
             [
              0.1111111111111111,
              "#46039f"
             ],
             [
              0.2222222222222222,
              "#7201a8"
             ],
             [
              0.3333333333333333,
              "#9c179e"
             ],
             [
              0.4444444444444444,
              "#bd3786"
             ],
             [
              0.5555555555555556,
              "#d8576b"
             ],
             [
              0.6666666666666666,
              "#ed7953"
             ],
             [
              0.7777777777777778,
              "#fb9f3a"
             ],
             [
              0.8888888888888888,
              "#fdca26"
             ],
             [
              1,
              "#f0f921"
             ]
            ],
            "type": "heatmapgl"
           }
          ],
          "histogram": [
           {
            "marker": {
             "pattern": {
              "fillmode": "overlay",
              "size": 10,
              "solidity": 0.2
             }
            },
            "type": "histogram"
           }
          ],
          "histogram2d": [
           {
            "colorbar": {
             "outlinewidth": 0,
             "ticks": ""
            },
            "colorscale": [
             [
              0,
              "#0d0887"
             ],
             [
              0.1111111111111111,
              "#46039f"
             ],
             [
              0.2222222222222222,
              "#7201a8"
             ],
             [
              0.3333333333333333,
              "#9c179e"
             ],
             [
              0.4444444444444444,
              "#bd3786"
             ],
             [
              0.5555555555555556,
              "#d8576b"
             ],
             [
              0.6666666666666666,
              "#ed7953"
             ],
             [
              0.7777777777777778,
              "#fb9f3a"
             ],
             [
              0.8888888888888888,
              "#fdca26"
             ],
             [
              1,
              "#f0f921"
             ]
            ],
            "type": "histogram2d"
           }
          ],
          "histogram2dcontour": [
           {
            "colorbar": {
             "outlinewidth": 0,
             "ticks": ""
            },
            "colorscale": [
             [
              0,
              "#0d0887"
             ],
             [
              0.1111111111111111,
              "#46039f"
             ],
             [
              0.2222222222222222,
              "#7201a8"
             ],
             [
              0.3333333333333333,
              "#9c179e"
             ],
             [
              0.4444444444444444,
              "#bd3786"
             ],
             [
              0.5555555555555556,
              "#d8576b"
             ],
             [
              0.6666666666666666,
              "#ed7953"
             ],
             [
              0.7777777777777778,
              "#fb9f3a"
             ],
             [
              0.8888888888888888,
              "#fdca26"
             ],
             [
              1,
              "#f0f921"
             ]
            ],
            "type": "histogram2dcontour"
           }
          ],
          "mesh3d": [
           {
            "colorbar": {
             "outlinewidth": 0,
             "ticks": ""
            },
            "type": "mesh3d"
           }
          ],
          "parcoords": [
           {
            "line": {
             "colorbar": {
              "outlinewidth": 0,
              "ticks": ""
             }
            },
            "type": "parcoords"
           }
          ],
          "pie": [
           {
            "automargin": true,
            "type": "pie"
           }
          ],
          "scatter": [
           {
            "marker": {
             "colorbar": {
              "outlinewidth": 0,
              "ticks": ""
             }
            },
            "type": "scatter"
           }
          ],
          "scatter3d": [
           {
            "line": {
             "colorbar": {
              "outlinewidth": 0,
              "ticks": ""
             }
            },
            "marker": {
             "colorbar": {
              "outlinewidth": 0,
              "ticks": ""
             }
            },
            "type": "scatter3d"
           }
          ],
          "scattercarpet": [
           {
            "marker": {
             "colorbar": {
              "outlinewidth": 0,
              "ticks": ""
             }
            },
            "type": "scattercarpet"
           }
          ],
          "scattergeo": [
           {
            "marker": {
             "colorbar": {
              "outlinewidth": 0,
              "ticks": ""
             }
            },
            "type": "scattergeo"
           }
          ],
          "scattergl": [
           {
            "marker": {
             "colorbar": {
              "outlinewidth": 0,
              "ticks": ""
             }
            },
            "type": "scattergl"
           }
          ],
          "scattermapbox": [
           {
            "marker": {
             "colorbar": {
              "outlinewidth": 0,
              "ticks": ""
             }
            },
            "type": "scattermapbox"
           }
          ],
          "scatterpolar": [
           {
            "marker": {
             "colorbar": {
              "outlinewidth": 0,
              "ticks": ""
             }
            },
            "type": "scatterpolar"
           }
          ],
          "scatterpolargl": [
           {
            "marker": {
             "colorbar": {
              "outlinewidth": 0,
              "ticks": ""
             }
            },
            "type": "scatterpolargl"
           }
          ],
          "scatterternary": [
           {
            "marker": {
             "colorbar": {
              "outlinewidth": 0,
              "ticks": ""
             }
            },
            "type": "scatterternary"
           }
          ],
          "surface": [
           {
            "colorbar": {
             "outlinewidth": 0,
             "ticks": ""
            },
            "colorscale": [
             [
              0,
              "#0d0887"
             ],
             [
              0.1111111111111111,
              "#46039f"
             ],
             [
              0.2222222222222222,
              "#7201a8"
             ],
             [
              0.3333333333333333,
              "#9c179e"
             ],
             [
              0.4444444444444444,
              "#bd3786"
             ],
             [
              0.5555555555555556,
              "#d8576b"
             ],
             [
              0.6666666666666666,
              "#ed7953"
             ],
             [
              0.7777777777777778,
              "#fb9f3a"
             ],
             [
              0.8888888888888888,
              "#fdca26"
             ],
             [
              1,
              "#f0f921"
             ]
            ],
            "type": "surface"
           }
          ],
          "table": [
           {
            "cells": {
             "fill": {
              "color": "#EBF0F8"
             },
             "line": {
              "color": "white"
             }
            },
            "header": {
             "fill": {
              "color": "#C8D4E3"
             },
             "line": {
              "color": "white"
             }
            },
            "type": "table"
           }
          ]
         },
         "layout": {
          "annotationdefaults": {
           "arrowcolor": "#2a3f5f",
           "arrowhead": 0,
           "arrowwidth": 1
          },
          "autotypenumbers": "strict",
          "coloraxis": {
           "colorbar": {
            "outlinewidth": 0,
            "ticks": ""
           }
          },
          "colorscale": {
           "diverging": [
            [
             0,
             "#8e0152"
            ],
            [
             0.1,
             "#c51b7d"
            ],
            [
             0.2,
             "#de77ae"
            ],
            [
             0.3,
             "#f1b6da"
            ],
            [
             0.4,
             "#fde0ef"
            ],
            [
             0.5,
             "#f7f7f7"
            ],
            [
             0.6,
             "#e6f5d0"
            ],
            [
             0.7,
             "#b8e186"
            ],
            [
             0.8,
             "#7fbc41"
            ],
            [
             0.9,
             "#4d9221"
            ],
            [
             1,
             "#276419"
            ]
           ],
           "sequential": [
            [
             0,
             "#0d0887"
            ],
            [
             0.1111111111111111,
             "#46039f"
            ],
            [
             0.2222222222222222,
             "#7201a8"
            ],
            [
             0.3333333333333333,
             "#9c179e"
            ],
            [
             0.4444444444444444,
             "#bd3786"
            ],
            [
             0.5555555555555556,
             "#d8576b"
            ],
            [
             0.6666666666666666,
             "#ed7953"
            ],
            [
             0.7777777777777778,
             "#fb9f3a"
            ],
            [
             0.8888888888888888,
             "#fdca26"
            ],
            [
             1,
             "#f0f921"
            ]
           ],
           "sequentialminus": [
            [
             0,
             "#0d0887"
            ],
            [
             0.1111111111111111,
             "#46039f"
            ],
            [
             0.2222222222222222,
             "#7201a8"
            ],
            [
             0.3333333333333333,
             "#9c179e"
            ],
            [
             0.4444444444444444,
             "#bd3786"
            ],
            [
             0.5555555555555556,
             "#d8576b"
            ],
            [
             0.6666666666666666,
             "#ed7953"
            ],
            [
             0.7777777777777778,
             "#fb9f3a"
            ],
            [
             0.8888888888888888,
             "#fdca26"
            ],
            [
             1,
             "#f0f921"
            ]
           ]
          },
          "colorway": [
           "#636efa",
           "#EF553B",
           "#00cc96",
           "#ab63fa",
           "#FFA15A",
           "#19d3f3",
           "#FF6692",
           "#B6E880",
           "#FF97FF",
           "#FECB52"
          ],
          "font": {
           "color": "#2a3f5f"
          },
          "geo": {
           "bgcolor": "white",
           "lakecolor": "white",
           "landcolor": "#E5ECF6",
           "showlakes": true,
           "showland": true,
           "subunitcolor": "white"
          },
          "hoverlabel": {
           "align": "left"
          },
          "hovermode": "closest",
          "mapbox": {
           "style": "light"
          },
          "paper_bgcolor": "white",
          "plot_bgcolor": "#E5ECF6",
          "polar": {
           "angularaxis": {
            "gridcolor": "white",
            "linecolor": "white",
            "ticks": ""
           },
           "bgcolor": "#E5ECF6",
           "radialaxis": {
            "gridcolor": "white",
            "linecolor": "white",
            "ticks": ""
           }
          },
          "scene": {
           "xaxis": {
            "backgroundcolor": "#E5ECF6",
            "gridcolor": "white",
            "gridwidth": 2,
            "linecolor": "white",
            "showbackground": true,
            "ticks": "",
            "zerolinecolor": "white"
           },
           "yaxis": {
            "backgroundcolor": "#E5ECF6",
            "gridcolor": "white",
            "gridwidth": 2,
            "linecolor": "white",
            "showbackground": true,
            "ticks": "",
            "zerolinecolor": "white"
           },
           "zaxis": {
            "backgroundcolor": "#E5ECF6",
            "gridcolor": "white",
            "gridwidth": 2,
            "linecolor": "white",
            "showbackground": true,
            "ticks": "",
            "zerolinecolor": "white"
           }
          },
          "shapedefaults": {
           "line": {
            "color": "#2a3f5f"
           }
          },
          "ternary": {
           "aaxis": {
            "gridcolor": "white",
            "linecolor": "white",
            "ticks": ""
           },
           "baxis": {
            "gridcolor": "white",
            "linecolor": "white",
            "ticks": ""
           },
           "bgcolor": "#E5ECF6",
           "caxis": {
            "gridcolor": "white",
            "linecolor": "white",
            "ticks": ""
           }
          },
          "title": {
           "x": 0.05
          },
          "xaxis": {
           "automargin": true,
           "gridcolor": "white",
           "linecolor": "white",
           "ticks": "",
           "title": {
            "standoff": 15
           },
           "zerolinecolor": "white",
           "zerolinewidth": 2
          },
          "yaxis": {
           "automargin": true,
           "gridcolor": "white",
           "linecolor": "white",
           "ticks": "",
           "title": {
            "standoff": 15
           },
           "zerolinecolor": "white",
           "zerolinewidth": 2
          }
         }
        },
        "title": {
         "text": "Доля пользователей, переходящая с одного шага на другой"
        }
       }
      },
      "text/html": [
       "<div>                            <div id=\"7b286af7-4992-4c55-b191-9b1798aa3dfe\" class=\"plotly-graph-div\" style=\"height:525px; width:100%;\"></div>            <script type=\"text/javascript\">                require([\"plotly\"], function(Plotly) {                    window.PLOTLYENV=window.PLOTLYENV || {};                                    if (document.getElementById(\"7b286af7-4992-4c55-b191-9b1798aa3dfe\")) {                    Plotly.newPlot(                        \"7b286af7-4992-4c55-b191-9b1798aa3dfe\",                        [{\"connector\":{\"line\":{\"color\":\"royalblue\",\"dash\":\"dot\",\"width\":3}},\"marker\":{\"color\":[\"deepskyblue\",\"lightsalmon\",\"tan\",\"teal\",\"silver\"],\"line\":{\"color\":[\"wheat\",\"wheat\",\"wheat\",\"wheat\"],\"width\":[4,2,2,3,1,1]}},\"opacity\":0.65,\"textinfo\":\"value+percent previous\",\"textposition\":\"inside\",\"x\":[7419,4593,3734,3539],\"y\":[\"MainScreenAppear\",\"OffersScreenAppear\",\"CartScreenAppear\",\"PaymentScreenSuccessful\"],\"type\":\"funnel\"}],                        {\"template\":{\"data\":{\"bar\":[{\"error_x\":{\"color\":\"#2a3f5f\"},\"error_y\":{\"color\":\"#2a3f5f\"},\"marker\":{\"line\":{\"color\":\"#E5ECF6\",\"width\":0.5},\"pattern\":{\"fillmode\":\"overlay\",\"size\":10,\"solidity\":0.2}},\"type\":\"bar\"}],\"barpolar\":[{\"marker\":{\"line\":{\"color\":\"#E5ECF6\",\"width\":0.5},\"pattern\":{\"fillmode\":\"overlay\",\"size\":10,\"solidity\":0.2}},\"type\":\"barpolar\"}],\"carpet\":[{\"aaxis\":{\"endlinecolor\":\"#2a3f5f\",\"gridcolor\":\"white\",\"linecolor\":\"white\",\"minorgridcolor\":\"white\",\"startlinecolor\":\"#2a3f5f\"},\"baxis\":{\"endlinecolor\":\"#2a3f5f\",\"gridcolor\":\"white\",\"linecolor\":\"white\",\"minorgridcolor\":\"white\",\"startlinecolor\":\"#2a3f5f\"},\"type\":\"carpet\"}],\"choropleth\":[{\"colorbar\":{\"outlinewidth\":0,\"ticks\":\"\"},\"type\":\"choropleth\"}],\"contour\":[{\"colorbar\":{\"outlinewidth\":0,\"ticks\":\"\"},\"colorscale\":[[0.0,\"#0d0887\"],[0.1111111111111111,\"#46039f\"],[0.2222222222222222,\"#7201a8\"],[0.3333333333333333,\"#9c179e\"],[0.4444444444444444,\"#bd3786\"],[0.5555555555555556,\"#d8576b\"],[0.6666666666666666,\"#ed7953\"],[0.7777777777777778,\"#fb9f3a\"],[0.8888888888888888,\"#fdca26\"],[1.0,\"#f0f921\"]],\"type\":\"contour\"}],\"contourcarpet\":[{\"colorbar\":{\"outlinewidth\":0,\"ticks\":\"\"},\"type\":\"contourcarpet\"}],\"heatmap\":[{\"colorbar\":{\"outlinewidth\":0,\"ticks\":\"\"},\"colorscale\":[[0.0,\"#0d0887\"],[0.1111111111111111,\"#46039f\"],[0.2222222222222222,\"#7201a8\"],[0.3333333333333333,\"#9c179e\"],[0.4444444444444444,\"#bd3786\"],[0.5555555555555556,\"#d8576b\"],[0.6666666666666666,\"#ed7953\"],[0.7777777777777778,\"#fb9f3a\"],[0.8888888888888888,\"#fdca26\"],[1.0,\"#f0f921\"]],\"type\":\"heatmap\"}],\"heatmapgl\":[{\"colorbar\":{\"outlinewidth\":0,\"ticks\":\"\"},\"colorscale\":[[0.0,\"#0d0887\"],[0.1111111111111111,\"#46039f\"],[0.2222222222222222,\"#7201a8\"],[0.3333333333333333,\"#9c179e\"],[0.4444444444444444,\"#bd3786\"],[0.5555555555555556,\"#d8576b\"],[0.6666666666666666,\"#ed7953\"],[0.7777777777777778,\"#fb9f3a\"],[0.8888888888888888,\"#fdca26\"],[1.0,\"#f0f921\"]],\"type\":\"heatmapgl\"}],\"histogram\":[{\"marker\":{\"pattern\":{\"fillmode\":\"overlay\",\"size\":10,\"solidity\":0.2}},\"type\":\"histogram\"}],\"histogram2d\":[{\"colorbar\":{\"outlinewidth\":0,\"ticks\":\"\"},\"colorscale\":[[0.0,\"#0d0887\"],[0.1111111111111111,\"#46039f\"],[0.2222222222222222,\"#7201a8\"],[0.3333333333333333,\"#9c179e\"],[0.4444444444444444,\"#bd3786\"],[0.5555555555555556,\"#d8576b\"],[0.6666666666666666,\"#ed7953\"],[0.7777777777777778,\"#fb9f3a\"],[0.8888888888888888,\"#fdca26\"],[1.0,\"#f0f921\"]],\"type\":\"histogram2d\"}],\"histogram2dcontour\":[{\"colorbar\":{\"outlinewidth\":0,\"ticks\":\"\"},\"colorscale\":[[0.0,\"#0d0887\"],[0.1111111111111111,\"#46039f\"],[0.2222222222222222,\"#7201a8\"],[0.3333333333333333,\"#9c179e\"],[0.4444444444444444,\"#bd3786\"],[0.5555555555555556,\"#d8576b\"],[0.6666666666666666,\"#ed7953\"],[0.7777777777777778,\"#fb9f3a\"],[0.8888888888888888,\"#fdca26\"],[1.0,\"#f0f921\"]],\"type\":\"histogram2dcontour\"}],\"mesh3d\":[{\"colorbar\":{\"outlinewidth\":0,\"ticks\":\"\"},\"type\":\"mesh3d\"}],\"parcoords\":[{\"line\":{\"colorbar\":{\"outlinewidth\":0,\"ticks\":\"\"}},\"type\":\"parcoords\"}],\"pie\":[{\"automargin\":true,\"type\":\"pie\"}],\"scatter\":[{\"marker\":{\"colorbar\":{\"outlinewidth\":0,\"ticks\":\"\"}},\"type\":\"scatter\"}],\"scatter3d\":[{\"line\":{\"colorbar\":{\"outlinewidth\":0,\"ticks\":\"\"}},\"marker\":{\"colorbar\":{\"outlinewidth\":0,\"ticks\":\"\"}},\"type\":\"scatter3d\"}],\"scattercarpet\":[{\"marker\":{\"colorbar\":{\"outlinewidth\":0,\"ticks\":\"\"}},\"type\":\"scattercarpet\"}],\"scattergeo\":[{\"marker\":{\"colorbar\":{\"outlinewidth\":0,\"ticks\":\"\"}},\"type\":\"scattergeo\"}],\"scattergl\":[{\"marker\":{\"colorbar\":{\"outlinewidth\":0,\"ticks\":\"\"}},\"type\":\"scattergl\"}],\"scattermapbox\":[{\"marker\":{\"colorbar\":{\"outlinewidth\":0,\"ticks\":\"\"}},\"type\":\"scattermapbox\"}],\"scatterpolar\":[{\"marker\":{\"colorbar\":{\"outlinewidth\":0,\"ticks\":\"\"}},\"type\":\"scatterpolar\"}],\"scatterpolargl\":[{\"marker\":{\"colorbar\":{\"outlinewidth\":0,\"ticks\":\"\"}},\"type\":\"scatterpolargl\"}],\"scatterternary\":[{\"marker\":{\"colorbar\":{\"outlinewidth\":0,\"ticks\":\"\"}},\"type\":\"scatterternary\"}],\"surface\":[{\"colorbar\":{\"outlinewidth\":0,\"ticks\":\"\"},\"colorscale\":[[0.0,\"#0d0887\"],[0.1111111111111111,\"#46039f\"],[0.2222222222222222,\"#7201a8\"],[0.3333333333333333,\"#9c179e\"],[0.4444444444444444,\"#bd3786\"],[0.5555555555555556,\"#d8576b\"],[0.6666666666666666,\"#ed7953\"],[0.7777777777777778,\"#fb9f3a\"],[0.8888888888888888,\"#fdca26\"],[1.0,\"#f0f921\"]],\"type\":\"surface\"}],\"table\":[{\"cells\":{\"fill\":{\"color\":\"#EBF0F8\"},\"line\":{\"color\":\"white\"}},\"header\":{\"fill\":{\"color\":\"#C8D4E3\"},\"line\":{\"color\":\"white\"}},\"type\":\"table\"}]},\"layout\":{\"annotationdefaults\":{\"arrowcolor\":\"#2a3f5f\",\"arrowhead\":0,\"arrowwidth\":1},\"autotypenumbers\":\"strict\",\"coloraxis\":{\"colorbar\":{\"outlinewidth\":0,\"ticks\":\"\"}},\"colorscale\":{\"diverging\":[[0,\"#8e0152\"],[0.1,\"#c51b7d\"],[0.2,\"#de77ae\"],[0.3,\"#f1b6da\"],[0.4,\"#fde0ef\"],[0.5,\"#f7f7f7\"],[0.6,\"#e6f5d0\"],[0.7,\"#b8e186\"],[0.8,\"#7fbc41\"],[0.9,\"#4d9221\"],[1,\"#276419\"]],\"sequential\":[[0.0,\"#0d0887\"],[0.1111111111111111,\"#46039f\"],[0.2222222222222222,\"#7201a8\"],[0.3333333333333333,\"#9c179e\"],[0.4444444444444444,\"#bd3786\"],[0.5555555555555556,\"#d8576b\"],[0.6666666666666666,\"#ed7953\"],[0.7777777777777778,\"#fb9f3a\"],[0.8888888888888888,\"#fdca26\"],[1.0,\"#f0f921\"]],\"sequentialminus\":[[0.0,\"#0d0887\"],[0.1111111111111111,\"#46039f\"],[0.2222222222222222,\"#7201a8\"],[0.3333333333333333,\"#9c179e\"],[0.4444444444444444,\"#bd3786\"],[0.5555555555555556,\"#d8576b\"],[0.6666666666666666,\"#ed7953\"],[0.7777777777777778,\"#fb9f3a\"],[0.8888888888888888,\"#fdca26\"],[1.0,\"#f0f921\"]]},\"colorway\":[\"#636efa\",\"#EF553B\",\"#00cc96\",\"#ab63fa\",\"#FFA15A\",\"#19d3f3\",\"#FF6692\",\"#B6E880\",\"#FF97FF\",\"#FECB52\"],\"font\":{\"color\":\"#2a3f5f\"},\"geo\":{\"bgcolor\":\"white\",\"lakecolor\":\"white\",\"landcolor\":\"#E5ECF6\",\"showlakes\":true,\"showland\":true,\"subunitcolor\":\"white\"},\"hoverlabel\":{\"align\":\"left\"},\"hovermode\":\"closest\",\"mapbox\":{\"style\":\"light\"},\"paper_bgcolor\":\"white\",\"plot_bgcolor\":\"#E5ECF6\",\"polar\":{\"angularaxis\":{\"gridcolor\":\"white\",\"linecolor\":\"white\",\"ticks\":\"\"},\"bgcolor\":\"#E5ECF6\",\"radialaxis\":{\"gridcolor\":\"white\",\"linecolor\":\"white\",\"ticks\":\"\"}},\"scene\":{\"xaxis\":{\"backgroundcolor\":\"#E5ECF6\",\"gridcolor\":\"white\",\"gridwidth\":2,\"linecolor\":\"white\",\"showbackground\":true,\"ticks\":\"\",\"zerolinecolor\":\"white\"},\"yaxis\":{\"backgroundcolor\":\"#E5ECF6\",\"gridcolor\":\"white\",\"gridwidth\":2,\"linecolor\":\"white\",\"showbackground\":true,\"ticks\":\"\",\"zerolinecolor\":\"white\"},\"zaxis\":{\"backgroundcolor\":\"#E5ECF6\",\"gridcolor\":\"white\",\"gridwidth\":2,\"linecolor\":\"white\",\"showbackground\":true,\"ticks\":\"\",\"zerolinecolor\":\"white\"}},\"shapedefaults\":{\"line\":{\"color\":\"#2a3f5f\"}},\"ternary\":{\"aaxis\":{\"gridcolor\":\"white\",\"linecolor\":\"white\",\"ticks\":\"\"},\"baxis\":{\"gridcolor\":\"white\",\"linecolor\":\"white\",\"ticks\":\"\"},\"bgcolor\":\"#E5ECF6\",\"caxis\":{\"gridcolor\":\"white\",\"linecolor\":\"white\",\"ticks\":\"\"}},\"title\":{\"x\":0.05},\"xaxis\":{\"automargin\":true,\"gridcolor\":\"white\",\"linecolor\":\"white\",\"ticks\":\"\",\"title\":{\"standoff\":15},\"zerolinecolor\":\"white\",\"zerolinewidth\":2},\"yaxis\":{\"automargin\":true,\"gridcolor\":\"white\",\"linecolor\":\"white\",\"ticks\":\"\",\"title\":{\"standoff\":15},\"zerolinecolor\":\"white\",\"zerolinewidth\":2}}},\"title\":{\"text\":\"\\u0414\\u043e\\u043b\\u044f \\u043f\\u043e\\u043b\\u044c\\u0437\\u043e\\u0432\\u0430\\u0442\\u0435\\u043b\\u0435\\u0439, \\u043f\\u0435\\u0440\\u0435\\u0445\\u043e\\u0434\\u044f\\u0449\\u0430\\u044f \\u0441 \\u043e\\u0434\\u043d\\u043e\\u0433\\u043e \\u0448\\u0430\\u0433\\u0430 \\u043d\\u0430 \\u0434\\u0440\\u0443\\u0433\\u043e\\u0439\"}},                        {\"responsive\": true}                    ).then(function(){\n",
       "                            \n",
       "var gd = document.getElementById('7b286af7-4992-4c55-b191-9b1798aa3dfe');\n",
       "var x = new MutationObserver(function (mutations, observer) {{\n",
       "        var display = window.getComputedStyle(gd).display;\n",
       "        if (!display || display === 'none') {{\n",
       "            console.log([gd, 'removed!']);\n",
       "            Plotly.purge(gd);\n",
       "            observer.disconnect();\n",
       "        }}\n",
       "}});\n",
       "\n",
       "// Listen for the removal of the full notebook cells\n",
       "var notebookContainer = gd.closest('#notebook-container');\n",
       "if (notebookContainer) {{\n",
       "    x.observe(notebookContainer, {childList: true});\n",
       "}}\n",
       "\n",
       "// Listen for the clearing of the current output cell\n",
       "var outputEl = gd.closest('.output');\n",
       "if (outputEl) {{\n",
       "    x.observe(outputEl, {childList: true});\n",
       "}}\n",
       "\n",
       "                        })                };                });            </script>        </div>"
      ]
     },
     "metadata": {},
     "output_type": "display_data"
    }
   ],
   "source": [
    "fig = go.Figure()\n",
    "fig = go.Figure(go.Funnel(\n",
    "    y = percent_user_id['event'],\n",
    "    x = percent_user_id['user_id'],\n",
    "textposition = \"inside\",\n",
    "    textinfo = \"value+percent previous\",\n",
    "opacity = 0.65, marker = {\"color\": [\"deepskyblue\", \"lightsalmon\", \"tan\", \"teal\", \"silver\"],\n",
    "    \"line\": {\"width\": [4, 2, 2, 3, 1, 1], \"color\": [\"wheat\", \"wheat\", \"wheat\", \"wheat\"]}},\n",
    "connector = {\"line\": {\"color\": \"royalblue\", \"dash\": \"dot\", \"width\": 3}}))\n",
    "fig.update_layout(title='Доля пользователей, переходящая с одного шага на другой')\n",
    "fig.show()"
   ]
  },
  {
   "cell_type": "markdown",
   "metadata": {},
   "source": [
    "Больше всего пользователей теряется на шаге перехода с главной страницы на страницу с предложениями товаров. Из 100% на второй шаг переходит только 62%. Теперь посмотрим какая доля пользователей доходит от первого этапа до последнего, успешной оплаты заказа:"
   ]
  },
  {
   "cell_type": "code",
   "execution_count": 27,
   "metadata": {},
   "outputs": [
    {
     "data": {
      "application/vnd.plotly.v1+json": {
       "config": {
        "plotlyServerURL": "https://plot.ly"
       },
       "data": [
        {
         "connector": {
          "line": {
           "color": "royalblue",
           "dash": "dot",
           "width": 3
          }
         },
         "marker": {
          "color": [
           "deepskyblue",
           "lightsalmon",
           "tan",
           "teal",
           "silver"
          ],
          "line": {
           "color": [
            "wheat",
            "wheat",
            "wheat",
            "wheat"
           ],
           "width": [
            4,
            2,
            2,
            3,
            1,
            1
           ]
          }
         },
         "opacity": 0.65,
         "textinfo": "value+percent initial",
         "textposition": "inside",
         "type": "funnel",
         "x": [
          7419,
          4593,
          3734,
          3539
         ],
         "y": [
          "MainScreenAppear",
          "OffersScreenAppear",
          "CartScreenAppear",
          "PaymentScreenSuccessful"
         ]
        }
       ],
       "layout": {
        "template": {
         "data": {
          "bar": [
           {
            "error_x": {
             "color": "#2a3f5f"
            },
            "error_y": {
             "color": "#2a3f5f"
            },
            "marker": {
             "line": {
              "color": "#E5ECF6",
              "width": 0.5
             },
             "pattern": {
              "fillmode": "overlay",
              "size": 10,
              "solidity": 0.2
             }
            },
            "type": "bar"
           }
          ],
          "barpolar": [
           {
            "marker": {
             "line": {
              "color": "#E5ECF6",
              "width": 0.5
             },
             "pattern": {
              "fillmode": "overlay",
              "size": 10,
              "solidity": 0.2
             }
            },
            "type": "barpolar"
           }
          ],
          "carpet": [
           {
            "aaxis": {
             "endlinecolor": "#2a3f5f",
             "gridcolor": "white",
             "linecolor": "white",
             "minorgridcolor": "white",
             "startlinecolor": "#2a3f5f"
            },
            "baxis": {
             "endlinecolor": "#2a3f5f",
             "gridcolor": "white",
             "linecolor": "white",
             "minorgridcolor": "white",
             "startlinecolor": "#2a3f5f"
            },
            "type": "carpet"
           }
          ],
          "choropleth": [
           {
            "colorbar": {
             "outlinewidth": 0,
             "ticks": ""
            },
            "type": "choropleth"
           }
          ],
          "contour": [
           {
            "colorbar": {
             "outlinewidth": 0,
             "ticks": ""
            },
            "colorscale": [
             [
              0,
              "#0d0887"
             ],
             [
              0.1111111111111111,
              "#46039f"
             ],
             [
              0.2222222222222222,
              "#7201a8"
             ],
             [
              0.3333333333333333,
              "#9c179e"
             ],
             [
              0.4444444444444444,
              "#bd3786"
             ],
             [
              0.5555555555555556,
              "#d8576b"
             ],
             [
              0.6666666666666666,
              "#ed7953"
             ],
             [
              0.7777777777777778,
              "#fb9f3a"
             ],
             [
              0.8888888888888888,
              "#fdca26"
             ],
             [
              1,
              "#f0f921"
             ]
            ],
            "type": "contour"
           }
          ],
          "contourcarpet": [
           {
            "colorbar": {
             "outlinewidth": 0,
             "ticks": ""
            },
            "type": "contourcarpet"
           }
          ],
          "heatmap": [
           {
            "colorbar": {
             "outlinewidth": 0,
             "ticks": ""
            },
            "colorscale": [
             [
              0,
              "#0d0887"
             ],
             [
              0.1111111111111111,
              "#46039f"
             ],
             [
              0.2222222222222222,
              "#7201a8"
             ],
             [
              0.3333333333333333,
              "#9c179e"
             ],
             [
              0.4444444444444444,
              "#bd3786"
             ],
             [
              0.5555555555555556,
              "#d8576b"
             ],
             [
              0.6666666666666666,
              "#ed7953"
             ],
             [
              0.7777777777777778,
              "#fb9f3a"
             ],
             [
              0.8888888888888888,
              "#fdca26"
             ],
             [
              1,
              "#f0f921"
             ]
            ],
            "type": "heatmap"
           }
          ],
          "heatmapgl": [
           {
            "colorbar": {
             "outlinewidth": 0,
             "ticks": ""
            },
            "colorscale": [
             [
              0,
              "#0d0887"
             ],
             [
              0.1111111111111111,
              "#46039f"
             ],
             [
              0.2222222222222222,
              "#7201a8"
             ],
             [
              0.3333333333333333,
              "#9c179e"
             ],
             [
              0.4444444444444444,
              "#bd3786"
             ],
             [
              0.5555555555555556,
              "#d8576b"
             ],
             [
              0.6666666666666666,
              "#ed7953"
             ],
             [
              0.7777777777777778,
              "#fb9f3a"
             ],
             [
              0.8888888888888888,
              "#fdca26"
             ],
             [
              1,
              "#f0f921"
             ]
            ],
            "type": "heatmapgl"
           }
          ],
          "histogram": [
           {
            "marker": {
             "pattern": {
              "fillmode": "overlay",
              "size": 10,
              "solidity": 0.2
             }
            },
            "type": "histogram"
           }
          ],
          "histogram2d": [
           {
            "colorbar": {
             "outlinewidth": 0,
             "ticks": ""
            },
            "colorscale": [
             [
              0,
              "#0d0887"
             ],
             [
              0.1111111111111111,
              "#46039f"
             ],
             [
              0.2222222222222222,
              "#7201a8"
             ],
             [
              0.3333333333333333,
              "#9c179e"
             ],
             [
              0.4444444444444444,
              "#bd3786"
             ],
             [
              0.5555555555555556,
              "#d8576b"
             ],
             [
              0.6666666666666666,
              "#ed7953"
             ],
             [
              0.7777777777777778,
              "#fb9f3a"
             ],
             [
              0.8888888888888888,
              "#fdca26"
             ],
             [
              1,
              "#f0f921"
             ]
            ],
            "type": "histogram2d"
           }
          ],
          "histogram2dcontour": [
           {
            "colorbar": {
             "outlinewidth": 0,
             "ticks": ""
            },
            "colorscale": [
             [
              0,
              "#0d0887"
             ],
             [
              0.1111111111111111,
              "#46039f"
             ],
             [
              0.2222222222222222,
              "#7201a8"
             ],
             [
              0.3333333333333333,
              "#9c179e"
             ],
             [
              0.4444444444444444,
              "#bd3786"
             ],
             [
              0.5555555555555556,
              "#d8576b"
             ],
             [
              0.6666666666666666,
              "#ed7953"
             ],
             [
              0.7777777777777778,
              "#fb9f3a"
             ],
             [
              0.8888888888888888,
              "#fdca26"
             ],
             [
              1,
              "#f0f921"
             ]
            ],
            "type": "histogram2dcontour"
           }
          ],
          "mesh3d": [
           {
            "colorbar": {
             "outlinewidth": 0,
             "ticks": ""
            },
            "type": "mesh3d"
           }
          ],
          "parcoords": [
           {
            "line": {
             "colorbar": {
              "outlinewidth": 0,
              "ticks": ""
             }
            },
            "type": "parcoords"
           }
          ],
          "pie": [
           {
            "automargin": true,
            "type": "pie"
           }
          ],
          "scatter": [
           {
            "marker": {
             "colorbar": {
              "outlinewidth": 0,
              "ticks": ""
             }
            },
            "type": "scatter"
           }
          ],
          "scatter3d": [
           {
            "line": {
             "colorbar": {
              "outlinewidth": 0,
              "ticks": ""
             }
            },
            "marker": {
             "colorbar": {
              "outlinewidth": 0,
              "ticks": ""
             }
            },
            "type": "scatter3d"
           }
          ],
          "scattercarpet": [
           {
            "marker": {
             "colorbar": {
              "outlinewidth": 0,
              "ticks": ""
             }
            },
            "type": "scattercarpet"
           }
          ],
          "scattergeo": [
           {
            "marker": {
             "colorbar": {
              "outlinewidth": 0,
              "ticks": ""
             }
            },
            "type": "scattergeo"
           }
          ],
          "scattergl": [
           {
            "marker": {
             "colorbar": {
              "outlinewidth": 0,
              "ticks": ""
             }
            },
            "type": "scattergl"
           }
          ],
          "scattermapbox": [
           {
            "marker": {
             "colorbar": {
              "outlinewidth": 0,
              "ticks": ""
             }
            },
            "type": "scattermapbox"
           }
          ],
          "scatterpolar": [
           {
            "marker": {
             "colorbar": {
              "outlinewidth": 0,
              "ticks": ""
             }
            },
            "type": "scatterpolar"
           }
          ],
          "scatterpolargl": [
           {
            "marker": {
             "colorbar": {
              "outlinewidth": 0,
              "ticks": ""
             }
            },
            "type": "scatterpolargl"
           }
          ],
          "scatterternary": [
           {
            "marker": {
             "colorbar": {
              "outlinewidth": 0,
              "ticks": ""
             }
            },
            "type": "scatterternary"
           }
          ],
          "surface": [
           {
            "colorbar": {
             "outlinewidth": 0,
             "ticks": ""
            },
            "colorscale": [
             [
              0,
              "#0d0887"
             ],
             [
              0.1111111111111111,
              "#46039f"
             ],
             [
              0.2222222222222222,
              "#7201a8"
             ],
             [
              0.3333333333333333,
              "#9c179e"
             ],
             [
              0.4444444444444444,
              "#bd3786"
             ],
             [
              0.5555555555555556,
              "#d8576b"
             ],
             [
              0.6666666666666666,
              "#ed7953"
             ],
             [
              0.7777777777777778,
              "#fb9f3a"
             ],
             [
              0.8888888888888888,
              "#fdca26"
             ],
             [
              1,
              "#f0f921"
             ]
            ],
            "type": "surface"
           }
          ],
          "table": [
           {
            "cells": {
             "fill": {
              "color": "#EBF0F8"
             },
             "line": {
              "color": "white"
             }
            },
            "header": {
             "fill": {
              "color": "#C8D4E3"
             },
             "line": {
              "color": "white"
             }
            },
            "type": "table"
           }
          ]
         },
         "layout": {
          "annotationdefaults": {
           "arrowcolor": "#2a3f5f",
           "arrowhead": 0,
           "arrowwidth": 1
          },
          "autotypenumbers": "strict",
          "coloraxis": {
           "colorbar": {
            "outlinewidth": 0,
            "ticks": ""
           }
          },
          "colorscale": {
           "diverging": [
            [
             0,
             "#8e0152"
            ],
            [
             0.1,
             "#c51b7d"
            ],
            [
             0.2,
             "#de77ae"
            ],
            [
             0.3,
             "#f1b6da"
            ],
            [
             0.4,
             "#fde0ef"
            ],
            [
             0.5,
             "#f7f7f7"
            ],
            [
             0.6,
             "#e6f5d0"
            ],
            [
             0.7,
             "#b8e186"
            ],
            [
             0.8,
             "#7fbc41"
            ],
            [
             0.9,
             "#4d9221"
            ],
            [
             1,
             "#276419"
            ]
           ],
           "sequential": [
            [
             0,
             "#0d0887"
            ],
            [
             0.1111111111111111,
             "#46039f"
            ],
            [
             0.2222222222222222,
             "#7201a8"
            ],
            [
             0.3333333333333333,
             "#9c179e"
            ],
            [
             0.4444444444444444,
             "#bd3786"
            ],
            [
             0.5555555555555556,
             "#d8576b"
            ],
            [
             0.6666666666666666,
             "#ed7953"
            ],
            [
             0.7777777777777778,
             "#fb9f3a"
            ],
            [
             0.8888888888888888,
             "#fdca26"
            ],
            [
             1,
             "#f0f921"
            ]
           ],
           "sequentialminus": [
            [
             0,
             "#0d0887"
            ],
            [
             0.1111111111111111,
             "#46039f"
            ],
            [
             0.2222222222222222,
             "#7201a8"
            ],
            [
             0.3333333333333333,
             "#9c179e"
            ],
            [
             0.4444444444444444,
             "#bd3786"
            ],
            [
             0.5555555555555556,
             "#d8576b"
            ],
            [
             0.6666666666666666,
             "#ed7953"
            ],
            [
             0.7777777777777778,
             "#fb9f3a"
            ],
            [
             0.8888888888888888,
             "#fdca26"
            ],
            [
             1,
             "#f0f921"
            ]
           ]
          },
          "colorway": [
           "#636efa",
           "#EF553B",
           "#00cc96",
           "#ab63fa",
           "#FFA15A",
           "#19d3f3",
           "#FF6692",
           "#B6E880",
           "#FF97FF",
           "#FECB52"
          ],
          "font": {
           "color": "#2a3f5f"
          },
          "geo": {
           "bgcolor": "white",
           "lakecolor": "white",
           "landcolor": "#E5ECF6",
           "showlakes": true,
           "showland": true,
           "subunitcolor": "white"
          },
          "hoverlabel": {
           "align": "left"
          },
          "hovermode": "closest",
          "mapbox": {
           "style": "light"
          },
          "paper_bgcolor": "white",
          "plot_bgcolor": "#E5ECF6",
          "polar": {
           "angularaxis": {
            "gridcolor": "white",
            "linecolor": "white",
            "ticks": ""
           },
           "bgcolor": "#E5ECF6",
           "radialaxis": {
            "gridcolor": "white",
            "linecolor": "white",
            "ticks": ""
           }
          },
          "scene": {
           "xaxis": {
            "backgroundcolor": "#E5ECF6",
            "gridcolor": "white",
            "gridwidth": 2,
            "linecolor": "white",
            "showbackground": true,
            "ticks": "",
            "zerolinecolor": "white"
           },
           "yaxis": {
            "backgroundcolor": "#E5ECF6",
            "gridcolor": "white",
            "gridwidth": 2,
            "linecolor": "white",
            "showbackground": true,
            "ticks": "",
            "zerolinecolor": "white"
           },
           "zaxis": {
            "backgroundcolor": "#E5ECF6",
            "gridcolor": "white",
            "gridwidth": 2,
            "linecolor": "white",
            "showbackground": true,
            "ticks": "",
            "zerolinecolor": "white"
           }
          },
          "shapedefaults": {
           "line": {
            "color": "#2a3f5f"
           }
          },
          "ternary": {
           "aaxis": {
            "gridcolor": "white",
            "linecolor": "white",
            "ticks": ""
           },
           "baxis": {
            "gridcolor": "white",
            "linecolor": "white",
            "ticks": ""
           },
           "bgcolor": "#E5ECF6",
           "caxis": {
            "gridcolor": "white",
            "linecolor": "white",
            "ticks": ""
           }
          },
          "title": {
           "x": 0.05
          },
          "xaxis": {
           "automargin": true,
           "gridcolor": "white",
           "linecolor": "white",
           "ticks": "",
           "title": {
            "standoff": 15
           },
           "zerolinecolor": "white",
           "zerolinewidth": 2
          },
          "yaxis": {
           "automargin": true,
           "gridcolor": "white",
           "linecolor": "white",
           "ticks": "",
           "title": {
            "standoff": 15
           },
           "zerolinecolor": "white",
           "zerolinewidth": 2
          }
         }
        },
        "title": {
         "text": "Доля пользователей, дошедшая от Главного экрана, до успешной оплаты заказа"
        }
       }
      },
      "text/html": [
       "<div>                            <div id=\"f0e1093c-666a-464f-b521-f5bcdb040484\" class=\"plotly-graph-div\" style=\"height:525px; width:100%;\"></div>            <script type=\"text/javascript\">                require([\"plotly\"], function(Plotly) {                    window.PLOTLYENV=window.PLOTLYENV || {};                                    if (document.getElementById(\"f0e1093c-666a-464f-b521-f5bcdb040484\")) {                    Plotly.newPlot(                        \"f0e1093c-666a-464f-b521-f5bcdb040484\",                        [{\"connector\":{\"line\":{\"color\":\"royalblue\",\"dash\":\"dot\",\"width\":3}},\"marker\":{\"color\":[\"deepskyblue\",\"lightsalmon\",\"tan\",\"teal\",\"silver\"],\"line\":{\"color\":[\"wheat\",\"wheat\",\"wheat\",\"wheat\"],\"width\":[4,2,2,3,1,1]}},\"opacity\":0.65,\"textinfo\":\"value+percent initial\",\"textposition\":\"inside\",\"x\":[7419,4593,3734,3539],\"y\":[\"MainScreenAppear\",\"OffersScreenAppear\",\"CartScreenAppear\",\"PaymentScreenSuccessful\"],\"type\":\"funnel\"}],                        {\"template\":{\"data\":{\"bar\":[{\"error_x\":{\"color\":\"#2a3f5f\"},\"error_y\":{\"color\":\"#2a3f5f\"},\"marker\":{\"line\":{\"color\":\"#E5ECF6\",\"width\":0.5},\"pattern\":{\"fillmode\":\"overlay\",\"size\":10,\"solidity\":0.2}},\"type\":\"bar\"}],\"barpolar\":[{\"marker\":{\"line\":{\"color\":\"#E5ECF6\",\"width\":0.5},\"pattern\":{\"fillmode\":\"overlay\",\"size\":10,\"solidity\":0.2}},\"type\":\"barpolar\"}],\"carpet\":[{\"aaxis\":{\"endlinecolor\":\"#2a3f5f\",\"gridcolor\":\"white\",\"linecolor\":\"white\",\"minorgridcolor\":\"white\",\"startlinecolor\":\"#2a3f5f\"},\"baxis\":{\"endlinecolor\":\"#2a3f5f\",\"gridcolor\":\"white\",\"linecolor\":\"white\",\"minorgridcolor\":\"white\",\"startlinecolor\":\"#2a3f5f\"},\"type\":\"carpet\"}],\"choropleth\":[{\"colorbar\":{\"outlinewidth\":0,\"ticks\":\"\"},\"type\":\"choropleth\"}],\"contour\":[{\"colorbar\":{\"outlinewidth\":0,\"ticks\":\"\"},\"colorscale\":[[0.0,\"#0d0887\"],[0.1111111111111111,\"#46039f\"],[0.2222222222222222,\"#7201a8\"],[0.3333333333333333,\"#9c179e\"],[0.4444444444444444,\"#bd3786\"],[0.5555555555555556,\"#d8576b\"],[0.6666666666666666,\"#ed7953\"],[0.7777777777777778,\"#fb9f3a\"],[0.8888888888888888,\"#fdca26\"],[1.0,\"#f0f921\"]],\"type\":\"contour\"}],\"contourcarpet\":[{\"colorbar\":{\"outlinewidth\":0,\"ticks\":\"\"},\"type\":\"contourcarpet\"}],\"heatmap\":[{\"colorbar\":{\"outlinewidth\":0,\"ticks\":\"\"},\"colorscale\":[[0.0,\"#0d0887\"],[0.1111111111111111,\"#46039f\"],[0.2222222222222222,\"#7201a8\"],[0.3333333333333333,\"#9c179e\"],[0.4444444444444444,\"#bd3786\"],[0.5555555555555556,\"#d8576b\"],[0.6666666666666666,\"#ed7953\"],[0.7777777777777778,\"#fb9f3a\"],[0.8888888888888888,\"#fdca26\"],[1.0,\"#f0f921\"]],\"type\":\"heatmap\"}],\"heatmapgl\":[{\"colorbar\":{\"outlinewidth\":0,\"ticks\":\"\"},\"colorscale\":[[0.0,\"#0d0887\"],[0.1111111111111111,\"#46039f\"],[0.2222222222222222,\"#7201a8\"],[0.3333333333333333,\"#9c179e\"],[0.4444444444444444,\"#bd3786\"],[0.5555555555555556,\"#d8576b\"],[0.6666666666666666,\"#ed7953\"],[0.7777777777777778,\"#fb9f3a\"],[0.8888888888888888,\"#fdca26\"],[1.0,\"#f0f921\"]],\"type\":\"heatmapgl\"}],\"histogram\":[{\"marker\":{\"pattern\":{\"fillmode\":\"overlay\",\"size\":10,\"solidity\":0.2}},\"type\":\"histogram\"}],\"histogram2d\":[{\"colorbar\":{\"outlinewidth\":0,\"ticks\":\"\"},\"colorscale\":[[0.0,\"#0d0887\"],[0.1111111111111111,\"#46039f\"],[0.2222222222222222,\"#7201a8\"],[0.3333333333333333,\"#9c179e\"],[0.4444444444444444,\"#bd3786\"],[0.5555555555555556,\"#d8576b\"],[0.6666666666666666,\"#ed7953\"],[0.7777777777777778,\"#fb9f3a\"],[0.8888888888888888,\"#fdca26\"],[1.0,\"#f0f921\"]],\"type\":\"histogram2d\"}],\"histogram2dcontour\":[{\"colorbar\":{\"outlinewidth\":0,\"ticks\":\"\"},\"colorscale\":[[0.0,\"#0d0887\"],[0.1111111111111111,\"#46039f\"],[0.2222222222222222,\"#7201a8\"],[0.3333333333333333,\"#9c179e\"],[0.4444444444444444,\"#bd3786\"],[0.5555555555555556,\"#d8576b\"],[0.6666666666666666,\"#ed7953\"],[0.7777777777777778,\"#fb9f3a\"],[0.8888888888888888,\"#fdca26\"],[1.0,\"#f0f921\"]],\"type\":\"histogram2dcontour\"}],\"mesh3d\":[{\"colorbar\":{\"outlinewidth\":0,\"ticks\":\"\"},\"type\":\"mesh3d\"}],\"parcoords\":[{\"line\":{\"colorbar\":{\"outlinewidth\":0,\"ticks\":\"\"}},\"type\":\"parcoords\"}],\"pie\":[{\"automargin\":true,\"type\":\"pie\"}],\"scatter\":[{\"marker\":{\"colorbar\":{\"outlinewidth\":0,\"ticks\":\"\"}},\"type\":\"scatter\"}],\"scatter3d\":[{\"line\":{\"colorbar\":{\"outlinewidth\":0,\"ticks\":\"\"}},\"marker\":{\"colorbar\":{\"outlinewidth\":0,\"ticks\":\"\"}},\"type\":\"scatter3d\"}],\"scattercarpet\":[{\"marker\":{\"colorbar\":{\"outlinewidth\":0,\"ticks\":\"\"}},\"type\":\"scattercarpet\"}],\"scattergeo\":[{\"marker\":{\"colorbar\":{\"outlinewidth\":0,\"ticks\":\"\"}},\"type\":\"scattergeo\"}],\"scattergl\":[{\"marker\":{\"colorbar\":{\"outlinewidth\":0,\"ticks\":\"\"}},\"type\":\"scattergl\"}],\"scattermapbox\":[{\"marker\":{\"colorbar\":{\"outlinewidth\":0,\"ticks\":\"\"}},\"type\":\"scattermapbox\"}],\"scatterpolar\":[{\"marker\":{\"colorbar\":{\"outlinewidth\":0,\"ticks\":\"\"}},\"type\":\"scatterpolar\"}],\"scatterpolargl\":[{\"marker\":{\"colorbar\":{\"outlinewidth\":0,\"ticks\":\"\"}},\"type\":\"scatterpolargl\"}],\"scatterternary\":[{\"marker\":{\"colorbar\":{\"outlinewidth\":0,\"ticks\":\"\"}},\"type\":\"scatterternary\"}],\"surface\":[{\"colorbar\":{\"outlinewidth\":0,\"ticks\":\"\"},\"colorscale\":[[0.0,\"#0d0887\"],[0.1111111111111111,\"#46039f\"],[0.2222222222222222,\"#7201a8\"],[0.3333333333333333,\"#9c179e\"],[0.4444444444444444,\"#bd3786\"],[0.5555555555555556,\"#d8576b\"],[0.6666666666666666,\"#ed7953\"],[0.7777777777777778,\"#fb9f3a\"],[0.8888888888888888,\"#fdca26\"],[1.0,\"#f0f921\"]],\"type\":\"surface\"}],\"table\":[{\"cells\":{\"fill\":{\"color\":\"#EBF0F8\"},\"line\":{\"color\":\"white\"}},\"header\":{\"fill\":{\"color\":\"#C8D4E3\"},\"line\":{\"color\":\"white\"}},\"type\":\"table\"}]},\"layout\":{\"annotationdefaults\":{\"arrowcolor\":\"#2a3f5f\",\"arrowhead\":0,\"arrowwidth\":1},\"autotypenumbers\":\"strict\",\"coloraxis\":{\"colorbar\":{\"outlinewidth\":0,\"ticks\":\"\"}},\"colorscale\":{\"diverging\":[[0,\"#8e0152\"],[0.1,\"#c51b7d\"],[0.2,\"#de77ae\"],[0.3,\"#f1b6da\"],[0.4,\"#fde0ef\"],[0.5,\"#f7f7f7\"],[0.6,\"#e6f5d0\"],[0.7,\"#b8e186\"],[0.8,\"#7fbc41\"],[0.9,\"#4d9221\"],[1,\"#276419\"]],\"sequential\":[[0.0,\"#0d0887\"],[0.1111111111111111,\"#46039f\"],[0.2222222222222222,\"#7201a8\"],[0.3333333333333333,\"#9c179e\"],[0.4444444444444444,\"#bd3786\"],[0.5555555555555556,\"#d8576b\"],[0.6666666666666666,\"#ed7953\"],[0.7777777777777778,\"#fb9f3a\"],[0.8888888888888888,\"#fdca26\"],[1.0,\"#f0f921\"]],\"sequentialminus\":[[0.0,\"#0d0887\"],[0.1111111111111111,\"#46039f\"],[0.2222222222222222,\"#7201a8\"],[0.3333333333333333,\"#9c179e\"],[0.4444444444444444,\"#bd3786\"],[0.5555555555555556,\"#d8576b\"],[0.6666666666666666,\"#ed7953\"],[0.7777777777777778,\"#fb9f3a\"],[0.8888888888888888,\"#fdca26\"],[1.0,\"#f0f921\"]]},\"colorway\":[\"#636efa\",\"#EF553B\",\"#00cc96\",\"#ab63fa\",\"#FFA15A\",\"#19d3f3\",\"#FF6692\",\"#B6E880\",\"#FF97FF\",\"#FECB52\"],\"font\":{\"color\":\"#2a3f5f\"},\"geo\":{\"bgcolor\":\"white\",\"lakecolor\":\"white\",\"landcolor\":\"#E5ECF6\",\"showlakes\":true,\"showland\":true,\"subunitcolor\":\"white\"},\"hoverlabel\":{\"align\":\"left\"},\"hovermode\":\"closest\",\"mapbox\":{\"style\":\"light\"},\"paper_bgcolor\":\"white\",\"plot_bgcolor\":\"#E5ECF6\",\"polar\":{\"angularaxis\":{\"gridcolor\":\"white\",\"linecolor\":\"white\",\"ticks\":\"\"},\"bgcolor\":\"#E5ECF6\",\"radialaxis\":{\"gridcolor\":\"white\",\"linecolor\":\"white\",\"ticks\":\"\"}},\"scene\":{\"xaxis\":{\"backgroundcolor\":\"#E5ECF6\",\"gridcolor\":\"white\",\"gridwidth\":2,\"linecolor\":\"white\",\"showbackground\":true,\"ticks\":\"\",\"zerolinecolor\":\"white\"},\"yaxis\":{\"backgroundcolor\":\"#E5ECF6\",\"gridcolor\":\"white\",\"gridwidth\":2,\"linecolor\":\"white\",\"showbackground\":true,\"ticks\":\"\",\"zerolinecolor\":\"white\"},\"zaxis\":{\"backgroundcolor\":\"#E5ECF6\",\"gridcolor\":\"white\",\"gridwidth\":2,\"linecolor\":\"white\",\"showbackground\":true,\"ticks\":\"\",\"zerolinecolor\":\"white\"}},\"shapedefaults\":{\"line\":{\"color\":\"#2a3f5f\"}},\"ternary\":{\"aaxis\":{\"gridcolor\":\"white\",\"linecolor\":\"white\",\"ticks\":\"\"},\"baxis\":{\"gridcolor\":\"white\",\"linecolor\":\"white\",\"ticks\":\"\"},\"bgcolor\":\"#E5ECF6\",\"caxis\":{\"gridcolor\":\"white\",\"linecolor\":\"white\",\"ticks\":\"\"}},\"title\":{\"x\":0.05},\"xaxis\":{\"automargin\":true,\"gridcolor\":\"white\",\"linecolor\":\"white\",\"ticks\":\"\",\"title\":{\"standoff\":15},\"zerolinecolor\":\"white\",\"zerolinewidth\":2},\"yaxis\":{\"automargin\":true,\"gridcolor\":\"white\",\"linecolor\":\"white\",\"ticks\":\"\",\"title\":{\"standoff\":15},\"zerolinecolor\":\"white\",\"zerolinewidth\":2}}},\"title\":{\"text\":\"\\u0414\\u043e\\u043b\\u044f \\u043f\\u043e\\u043b\\u044c\\u0437\\u043e\\u0432\\u0430\\u0442\\u0435\\u043b\\u0435\\u0439, \\u0434\\u043e\\u0448\\u0435\\u0434\\u0448\\u0430\\u044f \\u043e\\u0442 \\u0413\\u043b\\u0430\\u0432\\u043d\\u043e\\u0433\\u043e \\u044d\\u043a\\u0440\\u0430\\u043d\\u0430, \\u0434\\u043e \\u0443\\u0441\\u043f\\u0435\\u0448\\u043d\\u043e\\u0439 \\u043e\\u043f\\u043b\\u0430\\u0442\\u044b \\u0437\\u0430\\u043a\\u0430\\u0437\\u0430\"}},                        {\"responsive\": true}                    ).then(function(){\n",
       "                            \n",
       "var gd = document.getElementById('f0e1093c-666a-464f-b521-f5bcdb040484');\n",
       "var x = new MutationObserver(function (mutations, observer) {{\n",
       "        var display = window.getComputedStyle(gd).display;\n",
       "        if (!display || display === 'none') {{\n",
       "            console.log([gd, 'removed!']);\n",
       "            Plotly.purge(gd);\n",
       "            observer.disconnect();\n",
       "        }}\n",
       "}});\n",
       "\n",
       "// Listen for the removal of the full notebook cells\n",
       "var notebookContainer = gd.closest('#notebook-container');\n",
       "if (notebookContainer) {{\n",
       "    x.observe(notebookContainer, {childList: true});\n",
       "}}\n",
       "\n",
       "// Listen for the clearing of the current output cell\n",
       "var outputEl = gd.closest('.output');\n",
       "if (outputEl) {{\n",
       "    x.observe(outputEl, {childList: true});\n",
       "}}\n",
       "\n",
       "                        })                };                });            </script>        </div>"
      ]
     },
     "metadata": {},
     "output_type": "display_data"
    }
   ],
   "source": [
    "fig = go.Figure()\n",
    "fig = go.Figure(go.Funnel(\n",
    "    y = percent_user_id['event'],\n",
    "    x = percent_user_id['user_id'],\n",
    "textposition = \"inside\",\n",
    "    textinfo = \"value+percent initial\",\n",
    "    opacity = 0.65, marker = {\"color\": [\"deepskyblue\", \"lightsalmon\", \"tan\", \"teal\", \"silver\"],\n",
    "    \"line\": {\"width\": [4, 2, 2, 3, 1, 1], \"color\": [\"wheat\", \"wheat\", \"wheat\", \"wheat\"]}},\n",
    "connector = {\"line\": {\"color\": \"royalblue\", \"dash\": \"dot\", \"width\": 3}}\n",
    "))\n",
    "fig.update_layout(title='Доля пользователей, дошедшая от Главного экрана, до успешной оплаты заказа')\n",
    "fig.show()"
   ]
  },
  {
   "cell_type": "markdown",
   "metadata": {},
   "source": [
    "Доля пользователей, которая доходит с главного экрана до экрана оплаты со статусом успешно - 48%, что в целом очень неплохо."
   ]
  },
  {
   "cell_type": "markdown",
   "metadata": {},
   "source": [
    "## Изучим результаты эксперимента"
   ]
  },
  {
   "cell_type": "code",
   "execution_count": 28,
   "metadata": {},
   "outputs": [
    {
     "data": {
      "text/plain": [
       "group\n",
       "246    2484\n",
       "247    2513\n",
       "248    2537\n",
       "Name: user_id, dtype: int64"
      ]
     },
     "execution_count": 28,
     "metadata": {},
     "output_type": "execute_result"
    }
   ],
   "source": [
    "new_data.groupby('group')['user_id'].nunique()\n",
    "#подсчитаем количество уникальных пользователей в каждой группе"
   ]
  },
  {
   "cell_type": "markdown",
   "metadata": {},
   "source": [
    "Есть 2 контрольные группы для А/А-эксперимента, чтобы проверить корректность всех механизмов и расчётов. Проверим, находят ли статистические критерии разницу между выборками 246 и 247."
   ]
  },
  {
   "cell_type": "markdown",
   "metadata": {},
   "source": [
    "Критерии успешного A/A теста:\n",
    "- Количество пользователей в различных группах различается не более, чем на 1%;\n",
    "- Для всех групп фиксируют и отправляют в системы аналитики данные об одном и том же;\n",
    "- Различие ключевых метрик по группам не превышает 1% и не имеет статистической значимости;\n",
    "- Попавший в одну из групп посетитель остаётся в этой группе до конца теста."
   ]
  },
  {
   "cell_type": "code",
   "execution_count": 29,
   "metadata": {},
   "outputs": [
    {
     "data": {
      "text/plain": [
       "0"
      ]
     },
     "execution_count": 29,
     "metadata": {},
     "output_type": "execute_result"
    }
   ],
   "source": [
    "unique_user_id = new_data.loc[:, ['user_id', 'group']].drop_duplicates().drop(columns=['group'])\n",
    "unique_user_id.user_id.duplicated().sum()\n",
    "#количество пользователей оказавшиеся одновременно в разных группах."
   ]
  },
  {
   "cell_type": "code",
   "execution_count": 30,
   "metadata": {},
   "outputs": [
    {
     "data": {
      "text/html": [
       "<div>\n",
       "<style scoped>\n",
       "    .dataframe tbody tr th:only-of-type {\n",
       "        vertical-align: middle;\n",
       "    }\n",
       "\n",
       "    .dataframe tbody tr th {\n",
       "        vertical-align: top;\n",
       "    }\n",
       "\n",
       "    .dataframe thead th {\n",
       "        text-align: right;\n",
       "    }\n",
       "</style>\n",
       "<table border=\"1\" class=\"dataframe\">\n",
       "  <thead>\n",
       "    <tr style=\"text-align: right;\">\n",
       "      <th></th>\n",
       "      <th>group</th>\n",
       "    </tr>\n",
       "    <tr>\n",
       "      <th>user_id</th>\n",
       "      <th></th>\n",
       "    </tr>\n",
       "  </thead>\n",
       "  <tbody>\n",
       "  </tbody>\n",
       "</table>\n",
       "</div>"
      ],
      "text/plain": [
       "Empty DataFrame\n",
       "Columns: [group]\n",
       "Index: []"
      ]
     },
     "execution_count": 30,
     "metadata": {},
     "output_type": "execute_result"
    }
   ],
   "source": [
    "# Код ревьюера\n",
    "# Проверим пользователей, которые могли участвовать в двух или нескольких группах одновременно:\n",
    "new_data.groupby('user_id').agg({'group':'nunique'}).query('group > 1') \n",
    "\n"
   ]
  },
  {
   "cell_type": "code",
   "execution_count": 31,
   "metadata": {},
   "outputs": [
    {
     "data": {
      "text/html": [
       "<div>\n",
       "<style scoped>\n",
       "    .dataframe tbody tr th:only-of-type {\n",
       "        vertical-align: middle;\n",
       "    }\n",
       "\n",
       "    .dataframe tbody tr th {\n",
       "        vertical-align: top;\n",
       "    }\n",
       "\n",
       "    .dataframe thead th {\n",
       "        text-align: right;\n",
       "    }\n",
       "</style>\n",
       "<table border=\"1\" class=\"dataframe\">\n",
       "  <thead>\n",
       "    <tr style=\"text-align: right;\">\n",
       "      <th>group</th>\n",
       "      <th>246</th>\n",
       "      <th>247</th>\n",
       "      <th>248</th>\n",
       "      <th>246+247</th>\n",
       "    </tr>\n",
       "    <tr>\n",
       "      <th>event</th>\n",
       "      <th></th>\n",
       "      <th></th>\n",
       "      <th></th>\n",
       "      <th></th>\n",
       "    </tr>\n",
       "  </thead>\n",
       "  <tbody>\n",
       "    <tr>\n",
       "      <th>MainScreenAppear</th>\n",
       "      <td>2450</td>\n",
       "      <td>2476</td>\n",
       "      <td>2493</td>\n",
       "      <td>4926</td>\n",
       "    </tr>\n",
       "    <tr>\n",
       "      <th>OffersScreenAppear</th>\n",
       "      <td>1542</td>\n",
       "      <td>1520</td>\n",
       "      <td>1531</td>\n",
       "      <td>3062</td>\n",
       "    </tr>\n",
       "    <tr>\n",
       "      <th>CartScreenAppear</th>\n",
       "      <td>1266</td>\n",
       "      <td>1238</td>\n",
       "      <td>1230</td>\n",
       "      <td>2504</td>\n",
       "    </tr>\n",
       "    <tr>\n",
       "      <th>PaymentScreenSuccessful</th>\n",
       "      <td>1200</td>\n",
       "      <td>1158</td>\n",
       "      <td>1181</td>\n",
       "      <td>2358</td>\n",
       "    </tr>\n",
       "    <tr>\n",
       "      <th>Tutorial</th>\n",
       "      <td>278</td>\n",
       "      <td>283</td>\n",
       "      <td>279</td>\n",
       "      <td>561</td>\n",
       "    </tr>\n",
       "  </tbody>\n",
       "</table>\n",
       "</div>"
      ],
      "text/plain": [
       "group                     246   247   248  246+247\n",
       "event                                             \n",
       "MainScreenAppear         2450  2476  2493     4926\n",
       "OffersScreenAppear       1542  1520  1531     3062\n",
       "CartScreenAppear         1266  1238  1230     2504\n",
       "PaymentScreenSuccessful  1200  1158  1181     2358\n",
       "Tutorial                  278   283   279      561"
      ]
     },
     "execution_count": 31,
     "metadata": {},
     "output_type": "execute_result"
    }
   ],
   "source": [
    "#создадим табличку с событиями, с количеством пользователем на каждом этапе\n",
    "events_users = new_data.pivot_table(index = 'event',\n",
    "                                   columns = 'group',\n",
    "                                   values = 'user_id',\n",
    "                                   aggfunc = 'nunique').sort_values(by = 246, ascending=False)\n",
    "# объединим группы 246 и 247\n",
    "events_users['246+247'] = events_users[246] + events_users[247]\n",
    "events_users"
   ]
  },
  {
   "cell_type": "code",
   "execution_count": 32,
   "metadata": {},
   "outputs": [
    {
     "data": {
      "text/html": [
       "<div>\n",
       "<style scoped>\n",
       "    .dataframe tbody tr th:only-of-type {\n",
       "        vertical-align: middle;\n",
       "    }\n",
       "\n",
       "    .dataframe tbody tr th {\n",
       "        vertical-align: top;\n",
       "    }\n",
       "\n",
       "    .dataframe thead th {\n",
       "        text-align: right;\n",
       "    }\n",
       "</style>\n",
       "<table border=\"1\" class=\"dataframe\">\n",
       "  <thead>\n",
       "    <tr style=\"text-align: right;\">\n",
       "      <th>group</th>\n",
       "      <th>246</th>\n",
       "      <th>247</th>\n",
       "      <th>248</th>\n",
       "      <th>246+247</th>\n",
       "    </tr>\n",
       "  </thead>\n",
       "  <tbody>\n",
       "    <tr>\n",
       "      <th>user_id</th>\n",
       "      <td>2484</td>\n",
       "      <td>2513</td>\n",
       "      <td>2537</td>\n",
       "      <td>4997</td>\n",
       "    </tr>\n",
       "  </tbody>\n",
       "</table>\n",
       "</div>"
      ],
      "text/plain": [
       "group     246   247   248  246+247\n",
       "user_id  2484  2513  2537     4997"
      ]
     },
     "execution_count": 32,
     "metadata": {},
     "output_type": "execute_result"
    }
   ],
   "source": [
    "#выведем табличкой количество пользователей, в каждой из групп, для удобства дальнейшего использования\n",
    "#при проведении тестов\n",
    "users = new_data.pivot_table(columns = 'group', values = 'user_id',\n",
    "                        aggfunc = 'nunique')\n",
    "users['246+247'] = users[246] + users[247]\n",
    "users"
   ]
  },
  {
   "cell_type": "code",
   "execution_count": 33,
   "metadata": {},
   "outputs": [
    {
     "data": {
      "text/plain": [
       "user_id    1.15\n",
       "dtype: float64"
      ]
     },
     "execution_count": 33,
     "metadata": {},
     "output_type": "execute_result"
    }
   ],
   "source": [
    "#рассчитаем разность пользователей в группах 246 и 247, в процентах\n",
    "round(100 -(users[246]/users[247])*100,2)\n"
   ]
  },
  {
   "cell_type": "markdown",
   "metadata": {},
   "source": [
    "Количество пользователей в группах теста 246 и 247 отличается в 1,15 %, что можно считать не значительным."
   ]
  },
  {
   "cell_type": "markdown",
   "metadata": {},
   "source": [
    "Разница в группах 246 и 247, в пользователей составляет 1,15 %, что близко к критерию успешного А/А теста,  проверить второй критерии нет возможности. Пользователи, которые попали в несколько групп одновременно отсутствуют."
   ]
  },
  {
   "cell_type": "code",
   "execution_count": 34,
   "metadata": {},
   "outputs": [
    {
     "data": {
      "text/plain": [
       "user_id    98.63\n",
       "Name: 246, dtype: float64"
      ]
     },
     "execution_count": 34,
     "metadata": {},
     "output_type": "execute_result"
    }
   ],
   "source": [
    "#доля  пользователей, побывавшая на главном экране в группе 246\n",
    "percent_user_id_246 = (events_users.loc['MainScreenAppear'][246]/users[246])*100\n",
    "round(percent_user_id_246 ,2)"
   ]
  },
  {
   "cell_type": "code",
   "execution_count": 35,
   "metadata": {},
   "outputs": [
    {
     "data": {
      "text/plain": [
       "user_id    98.53\n",
       "Name: 247, dtype: float64"
      ]
     },
     "execution_count": 35,
     "metadata": {},
     "output_type": "execute_result"
    }
   ],
   "source": [
    "#доля  пользователей, побывавшая на главном экране в группе 247\n",
    "percent_user_id_247 = (events_users.loc['MainScreenAppear'][247]/users[247])*100\n",
    "round(percent_user_id_247 ,2)"
   ]
  },
  {
   "cell_type": "markdown",
   "metadata": {},
   "source": [
    "Наибольшее количество пользователей побывало на странице - Главного экрана. Число пользователей, совершивших данное действие, в каждой из контрольных групп: в группе 246 - 2450, что составляет - 98, 63% от общего числа пользователей, в данной группе; в группе 247 - 2476 пользователей побывало на главном экране, или 98,53%. Проверим есть ли статистически значимое отличие между ними:"
   ]
  },
  {
   "cell_type": "code",
   "execution_count": 36,
   "metadata": {},
   "outputs": [
    {
     "name": "stdout",
     "output_type": "stream",
     "text": [
      "p-значение: [0.75705972]\n",
      "Не получилось отвергнуть нулевую гипотезу, нет оснований считать доли разными\n"
     ]
    }
   ],
   "source": [
    "alpha = .05 # критический уровень статистической значимости\n",
    "\n",
    "successes_1 =  np.array(events_users.loc['MainScreenAppear'][246])\n",
    "successes_2 = np.array(events_users.loc['MainScreenAppear'][247])\n",
    "trials_1 = np.array (users[246])\n",
    "trials_2 = np.array(users[247])\n",
    "\n",
    "# пропорция успехов в первой группе:\n",
    "p1 = successes_1/trials_1\n",
    "\n",
    "# пропорция успехов во второй группе:\n",
    "p2 = successes_2/trials_2\n",
    "\n",
    "# пропорция успехов в комбинированном датасете:\n",
    "p_combined = (successes_1 + successes_2) / (trials_1 + trials_2)\n",
    "\n",
    "# разница пропорций в датасетах\n",
    "difference = p1 - p2 \n",
    "# считаем статистику в ст.отклонениях стандартного нормального распределения\n",
    "z_value = difference / mth.sqrt(p_combined * (1 - p_combined) * (1/trials_1 + 1/trials_2))\n",
    "\n",
    "# задаем стандартное нормальное распределение (среднее 0, ст.отклонение 1)\n",
    "distr = st.norm(0, 1) \n",
    "p_value = (1 - distr.cdf(abs(z_value))) * 2\n",
    "\n",
    "print('p-значение:',p_value)\n",
    "\n",
    "if p_value < alpha:\n",
    "    print('Отвергаем нулевую гипотезу: между долями есть значимая разница')\n",
    "else:\n",
    "    print(\n",
    "        'Не получилось отвергнуть нулевую гипотезу, нет оснований считать доли разными'\n",
    "    )"
   ]
  },
  {
   "cell_type": "markdown",
   "metadata": {},
   "source": [
    "Статически значимых отличий в контрольных группах, между доля по главному экрану - нет. Проведем такое же исследование для других событий, у контрольной группы, для этого создадим функцию:"
   ]
  },
  {
   "cell_type": "markdown",
   "metadata": {},
   "source": [
    "**Нулевая гипотеза**: статистически значимых различий в долях пользователей в  группах 246 и 247 нет;\n",
    "\n",
    "\n",
    "**Альтернативная гипотеза**: есть статистические значимые различия в долях пользователей в группах 246 и 247"
   ]
  },
  {
   "cell_type": "code",
   "execution_count": 37,
   "metadata": {},
   "outputs": [],
   "source": [
    "def stat_test(group_1, group_2, event, alpha ):\n",
    "\n",
    "\n",
    "    successes_1 = events_users.loc[event, group_1]\n",
    "    successes_2 = events_users.loc[event, group_2]\n",
    "    trials_1 = users[group_1]\n",
    "    trials_2 = users[group_2]\n",
    "# пропорция успехов в первой группе:\n",
    "    p1 = successes_1/trials_1\n",
    "\n",
    "# пропорция успехов во второй группе:\n",
    "    p2 = successes_2/trials_2\n",
    "\n",
    "# пропорция успехов в комбинированном датасете:\n",
    "    p_combined = (successes_1 + successes_2) / (trials_1 + trials_2)\n",
    "\n",
    "# разница пропорций в датасетах\n",
    "    difference = p1 - p2 \n",
    "# считаем статистику в ст.отклонениях стандартного нормального распределения\n",
    "    z_value = difference / mth.sqrt(p_combined * (1 - p_combined) * (1/trials_1 + 1/trials_2))\n",
    "\n",
    "# задаем стандартное нормальное распределение (среднее 0, ст.отклонение 1)\n",
    "    distr = st.norm(0, 1)  \n",
    "\n",
    "    p_value = (1 - distr.cdf(abs(z_value))) * 2\n",
    " \n",
    "    print('Событие:',  event)\n",
    "    print(f'p-значение {p_value}')\n",
    "    \n",
    "    if p_value < alpha:\n",
    "        print('Отвергаем нулевую гипотезу: между долями есть значимая разница')\n",
    "    else:\n",
    "        print(\n",
    "        'Не получилось отвергнуть нулевую гипотезу, нет оснований считать доли разными'\n",
    "    ) "
   ]
  },
  {
   "cell_type": "code",
   "execution_count": 38,
   "metadata": {},
   "outputs": [
    {
     "name": "stdout",
     "output_type": "stream",
     "text": [
      "Событие: MainScreenAppear\n",
      "p-значение [0.75705972]\n",
      "Не получилось отвергнуть нулевую гипотезу, нет оснований считать доли разными\n",
      "\n",
      "Событие: OffersScreenAppear\n",
      "p-значение [0.24809546]\n",
      "Не получилось отвергнуть нулевую гипотезу, нет оснований считать доли разными\n",
      "\n",
      "Событие: CartScreenAppear\n",
      "p-значение [0.22883372]\n",
      "Не получилось отвергнуть нулевую гипотезу, нет оснований считать доли разными\n",
      "\n",
      "Событие: PaymentScreenSuccessful\n",
      "p-значение [0.11456679]\n",
      "Не получилось отвергнуть нулевую гипотезу, нет оснований считать доли разными\n",
      "\n",
      "Событие: Tutorial\n",
      "p-значение [0.93769962]\n",
      "Не получилось отвергнуть нулевую гипотезу, нет оснований считать доли разными\n",
      "\n"
     ]
    }
   ],
   "source": [
    "for event in events_users.index:\n",
    "    stat_test(246, 247, event, 0.05)\n",
    "    print()"
   ]
  },
  {
   "cell_type": "markdown",
   "metadata": {},
   "source": [
    "Статически значимых отличий в долях событий в контрольных группах не найдено. Т.е. статистически значимой разницы между группами 246 и 247 не найдено. Проведем сравнение для эксперементальной группы, сравнив с каждой контрольной группой по очереди, и с обоими сразу:"
   ]
  },
  {
   "cell_type": "markdown",
   "metadata": {},
   "source": [
    "**Нулевая гипотеза**: статистически значимых различий в долях пользователей в  группах 246 и 248 нет;\n",
    "\n",
    "\n",
    "**Альтернативная гипотеза**: есть статистические значимые различия в долях пользователей в группах 246 и 248"
   ]
  },
  {
   "cell_type": "code",
   "execution_count": 39,
   "metadata": {},
   "outputs": [
    {
     "name": "stdout",
     "output_type": "stream",
     "text": [
      "Событие: MainScreenAppear\n",
      "p-значение [0.29497219]\n",
      "Не получилось отвергнуть нулевую гипотезу, нет оснований считать доли разными\n",
      "\n",
      "Событие: OffersScreenAppear\n",
      "p-значение [0.20836205]\n",
      "Не получилось отвергнуть нулевую гипотезу, нет оснований считать доли разными\n",
      "\n",
      "Событие: CartScreenAppear\n",
      "p-значение [0.07842923]\n",
      "Не получилось отвергнуть нулевую гипотезу, нет оснований считать доли разными\n",
      "\n",
      "Событие: PaymentScreenSuccessful\n",
      "p-значение [0.21225533]\n",
      "Не получилось отвергнуть нулевую гипотезу, нет оснований считать доли разными\n",
      "\n",
      "Событие: Tutorial\n",
      "p-значение [0.8264294]\n",
      "Не получилось отвергнуть нулевую гипотезу, нет оснований считать доли разными\n",
      "\n"
     ]
    }
   ],
   "source": [
    "for event in events_users.index:\n",
    "    stat_test(246, 248, event, 0.05)\n",
    "    print()"
   ]
  },
  {
   "cell_type": "markdown",
   "metadata": {},
   "source": [
    "**Нулевая гипотеза**: статистически значимых различий в долях пользователей в  группах 247 и 248 нет;\n",
    "\n",
    "\n",
    "**Альтернативная гипотеза**: есть статистические значимые различия в долях пользователей в группах 247 и 248"
   ]
  },
  {
   "cell_type": "code",
   "execution_count": 40,
   "metadata": {},
   "outputs": [
    {
     "name": "stdout",
     "output_type": "stream",
     "text": [
      "Событие: MainScreenAppear\n",
      "p-значение [0.45870536]\n",
      "Не получилось отвергнуть нулевую гипотезу, нет оснований считать доли разными\n",
      "\n",
      "Событие: OffersScreenAppear\n",
      "p-значение [0.91978178]\n",
      "Не получилось отвергнуть нулевую гипотезу, нет оснований считать доли разными\n",
      "\n",
      "Событие: CartScreenAppear\n",
      "p-значение [0.57861979]\n",
      "Не получилось отвергнуть нулевую гипотезу, нет оснований считать доли разными\n",
      "\n",
      "Событие: PaymentScreenSuccessful\n",
      "p-значение [0.73734151]\n",
      "Не получилось отвергнуть нулевую гипотезу, нет оснований считать доли разными\n",
      "\n",
      "Событие: Tutorial\n",
      "p-значение [0.76532392]\n",
      "Не получилось отвергнуть нулевую гипотезу, нет оснований считать доли разными\n",
      "\n"
     ]
    }
   ],
   "source": [
    "for event in events_users.index:\n",
    "    stat_test(247, 248, event, 0.05)\n",
    "    print()"
   ]
  },
  {
   "cell_type": "markdown",
   "metadata": {},
   "source": [
    "**Нулевая гипотеза**: статистически значимых различий в долях пользователей в  группах 246+247 и 248 нет;\n",
    "\n",
    "\n",
    "**Альтернативная гипотеза**: есть статистические значимые различия в долях пользователей в группах 246+247 и 248"
   ]
  },
  {
   "cell_type": "code",
   "execution_count": 41,
   "metadata": {},
   "outputs": [
    {
     "name": "stdout",
     "output_type": "stream",
     "text": [
      "Событие: MainScreenAppear\n",
      "p-значение [0.29424527]\n",
      "Не получилось отвергнуть нулевую гипотезу, нет оснований считать доли разными\n",
      "\n",
      "Событие: OffersScreenAppear\n",
      "p-значение [0.4342555]\n",
      "Не получилось отвергнуть нулевую гипотезу, нет оснований считать доли разными\n",
      "\n",
      "Событие: CartScreenAppear\n",
      "p-значение [0.18175875]\n",
      "Не получилось отвергнуть нулевую гипотезу, нет оснований считать доли разными\n",
      "\n",
      "Событие: PaymentScreenSuccessful\n",
      "p-значение [0.60042943]\n",
      "Не получилось отвергнуть нулевую гипотезу, нет оснований считать доли разными\n",
      "\n",
      "Событие: Tutorial\n",
      "p-значение [0.76486247]\n",
      "Не получилось отвергнуть нулевую гипотезу, нет оснований считать доли разными\n",
      "\n"
     ]
    }
   ],
   "source": [
    "for event in events_users.index:\n",
    "    stat_test('246+247', 248, event, 0.05)\n",
    "    print()"
   ]
  },
  {
   "cell_type": "markdown",
   "metadata": {},
   "source": [
    "В ходе исследование между эксперементальной группой 248 и контрольными 246 и 247, не обнаружено статистически значимых различий.  "
   ]
  },
  {
   "cell_type": "markdown",
   "metadata": {},
   "source": [
    "Для исключения роста вероятности групповых ошибок первого рода проведем еще раз тесты, но уже изменив уровень значимости, с поправкой Бонферрони. Т.к. было проведено 20 тесттов, уменьим уровень значимости в 20 раз:"
   ]
  },
  {
   "cell_type": "code",
   "execution_count": 42,
   "metadata": {},
   "outputs": [
    {
     "data": {
      "text/plain": [
       "0.0025"
      ]
     },
     "execution_count": 42,
     "metadata": {},
     "output_type": "execute_result"
    }
   ],
   "source": [
    "alpha = 0.05/20\n",
    "alpha"
   ]
  },
  {
   "cell_type": "markdown",
   "metadata": {},
   "source": [
    "**Нулевая гипотеза:** статистически значимых различий в долях пользователей в группах 246 и 247 нет (с поправкой Бонферрони);\n",
    "\n",
    "**Альтернативная гипотеза:** есть статистические значимые различия в долях пользователей в группах 246 и 247 (с поправкой Бонферрони)"
   ]
  },
  {
   "cell_type": "code",
   "execution_count": 43,
   "metadata": {},
   "outputs": [
    {
     "name": "stdout",
     "output_type": "stream",
     "text": [
      "Событие: MainScreenAppear\n",
      "p-значение [0.75705972]\n",
      "Не получилось отвергнуть нулевую гипотезу, нет оснований считать доли разными\n",
      "\n",
      "Событие: OffersScreenAppear\n",
      "p-значение [0.24809546]\n",
      "Не получилось отвергнуть нулевую гипотезу, нет оснований считать доли разными\n",
      "\n",
      "Событие: CartScreenAppear\n",
      "p-значение [0.22883372]\n",
      "Не получилось отвергнуть нулевую гипотезу, нет оснований считать доли разными\n",
      "\n",
      "Событие: PaymentScreenSuccessful\n",
      "p-значение [0.11456679]\n",
      "Не получилось отвергнуть нулевую гипотезу, нет оснований считать доли разными\n",
      "\n",
      "Событие: Tutorial\n",
      "p-значение [0.93769962]\n",
      "Не получилось отвергнуть нулевую гипотезу, нет оснований считать доли разными\n",
      "\n"
     ]
    }
   ],
   "source": [
    "for event in events_users.index:\n",
    "    stat_test(246, 247, event, 0.0025)\n",
    "    print()"
   ]
  },
  {
   "cell_type": "markdown",
   "metadata": {},
   "source": [
    "**Нулевая гипотеза**: статистически значимых различий в долях пользователей в  группах 246 и 248 нет (с поправкой Бонферрони);\n",
    "\n",
    "\n",
    "**Альтернативная гипотеза**: есть статистические значимые различия в долях пользователей в группах 246 и 248 (с поправкой Бонферрони)"
   ]
  },
  {
   "cell_type": "code",
   "execution_count": 44,
   "metadata": {},
   "outputs": [
    {
     "name": "stdout",
     "output_type": "stream",
     "text": [
      "Событие: MainScreenAppear\n",
      "p-значение [0.29497219]\n",
      "Не получилось отвергнуть нулевую гипотезу, нет оснований считать доли разными\n",
      "\n",
      "Событие: OffersScreenAppear\n",
      "p-значение [0.20836205]\n",
      "Не получилось отвергнуть нулевую гипотезу, нет оснований считать доли разными\n",
      "\n",
      "Событие: CartScreenAppear\n",
      "p-значение [0.07842923]\n",
      "Не получилось отвергнуть нулевую гипотезу, нет оснований считать доли разными\n",
      "\n",
      "Событие: PaymentScreenSuccessful\n",
      "p-значение [0.21225533]\n",
      "Не получилось отвергнуть нулевую гипотезу, нет оснований считать доли разными\n",
      "\n",
      "Событие: Tutorial\n",
      "p-значение [0.8264294]\n",
      "Не получилось отвергнуть нулевую гипотезу, нет оснований считать доли разными\n",
      "\n"
     ]
    }
   ],
   "source": [
    "for event in events_users.index:\n",
    "    stat_test(246, 248, event, 0.0025)\n",
    "    print()"
   ]
  },
  {
   "cell_type": "markdown",
   "metadata": {},
   "source": [
    "**Нулевая гипотеза**: статистически значимых различий в долях пользователей в  группах 247 и 248 нет (с поправкой Бонферрони);\n",
    "\n",
    "\n",
    "**Альтернативная гипотеза**: есть статистические значимые различия в долях пользователей в группах 247 и 248 с поправкой Бонферрони);"
   ]
  },
  {
   "cell_type": "code",
   "execution_count": 45,
   "metadata": {},
   "outputs": [
    {
     "name": "stdout",
     "output_type": "stream",
     "text": [
      "Событие: MainScreenAppear\n",
      "p-значение [0.45870536]\n",
      "Не получилось отвергнуть нулевую гипотезу, нет оснований считать доли разными\n",
      "\n",
      "Событие: OffersScreenAppear\n",
      "p-значение [0.91978178]\n",
      "Не получилось отвергнуть нулевую гипотезу, нет оснований считать доли разными\n",
      "\n",
      "Событие: CartScreenAppear\n",
      "p-значение [0.57861979]\n",
      "Не получилось отвергнуть нулевую гипотезу, нет оснований считать доли разными\n",
      "\n",
      "Событие: PaymentScreenSuccessful\n",
      "p-значение [0.73734151]\n",
      "Не получилось отвергнуть нулевую гипотезу, нет оснований считать доли разными\n",
      "\n",
      "Событие: Tutorial\n",
      "p-значение [0.76532392]\n",
      "Не получилось отвергнуть нулевую гипотезу, нет оснований считать доли разными\n",
      "\n"
     ]
    }
   ],
   "source": [
    "for event in events_users.index:\n",
    "    stat_test(247, 248, event, 0.05)\n",
    "    print()"
   ]
  },
  {
   "cell_type": "markdown",
   "metadata": {},
   "source": [
    "**Нулевая гипотеза**: статистически значимых различий в долях пользователей в  группах 246+247 и 248 нет (с поправкой Бонферрони);\n",
    "\n",
    "\n",
    "**Альтернативная гипотеза**: есть статистические значимые различия в долях пользователей в группах 246+247 и 248 (с поправкой Бонферрони);"
   ]
  },
  {
   "cell_type": "code",
   "execution_count": 46,
   "metadata": {},
   "outputs": [
    {
     "name": "stdout",
     "output_type": "stream",
     "text": [
      "Событие: MainScreenAppear\n",
      "p-значение [0.29424527]\n",
      "Не получилось отвергнуть нулевую гипотезу, нет оснований считать доли разными\n",
      "\n",
      "Событие: OffersScreenAppear\n",
      "p-значение [0.4342555]\n",
      "Не получилось отвергнуть нулевую гипотезу, нет оснований считать доли разными\n",
      "\n",
      "Событие: CartScreenAppear\n",
      "p-значение [0.18175875]\n",
      "Не получилось отвергнуть нулевую гипотезу, нет оснований считать доли разными\n",
      "\n",
      "Событие: PaymentScreenSuccessful\n",
      "p-значение [0.60042943]\n",
      "Не получилось отвергнуть нулевую гипотезу, нет оснований считать доли разными\n",
      "\n",
      "Событие: Tutorial\n",
      "p-значение [0.76486247]\n",
      "Не получилось отвергнуть нулевую гипотезу, нет оснований считать доли разными\n",
      "\n"
     ]
    }
   ],
   "source": [
    "for event in events_users.index:\n",
    "    stat_test('246+247', 248, event, 0.0025)\n",
    "    print()"
   ]
  },
  {
   "cell_type": "markdown",
   "metadata": {},
   "source": [
    "При уменьшении уровня значимости, поправкой Бонферрони, так же не получилось отвергнуть нулевую гипотезу. Статистически значимых отличий между группами не обнаружено, изменение шрифта не повлияло на пользователей, ни на одном их событий"
   ]
  },
  {
   "cell_type": "markdown",
   "metadata": {},
   "source": [
    "## Вывод"
   ]
  },
  {
   "cell_type": "markdown",
   "metadata": {},
   "source": [
    "В ходе исследования был проведен анализ поведения пользователей в мобильном приложении. Выяснено, что большего всего пользователей теряется при переходе с главной страницы на страницу с предложениями товаров, около 40%. При переходе на дальнейшие шаги в приложении таких потерь нет. До покупки доходит 48% пользователей от общего числа, что в целом неплохо. Но рекомендуется обратить внимание разработчиков, на переход со страницы главного экрана, на предложения о покупки, выяснить из -за чего такое количество пользователей просаживаются на данном этапе, возможно он не совсем удобный для пользователей. Выяснено, что в среднем на каждого пользователя приходится 32 события. \n",
    "\n",
    "В каждой из трех групп примерно одинаковое количество пользователей, нет пользователей, которые попали одновременно в несколько групп. В результате проведенных A/A/B тестов не было выявлено статистически значимых различий, ни в контрольных группах, ни в сравнении с эксперементальной. Для исключения роста вероятности групповых ошибок первого рода провели дополнительные тесты, уже изменив уровень значимости, с поправкой Бонферрони. Но и при уменьшии уровня значимости статистически значимых различий выявить не удалось. Можно сделать вывод, что что выбранный дизайнерами шрифт не влияет на пользователей, на их взаимодействие с приложением."
   ]
  },
  {
   "cell_type": "code",
   "execution_count": null,
   "metadata": {},
   "outputs": [],
   "source": []
  }
 ],
 "metadata": {
  "ExecuteTimeLog": [
   {
    "duration": 1524,
    "start_time": "2023-04-10T10:54:19.627Z"
   },
   {
    "duration": 1291,
    "start_time": "2023-04-10T10:55:33.564Z"
   },
   {
    "duration": 75,
    "start_time": "2023-04-10T10:55:50.473Z"
   },
   {
    "duration": 319,
    "start_time": "2023-04-10T10:56:29.517Z"
   },
   {
    "duration": 32,
    "start_time": "2023-04-10T10:56:30.408Z"
   },
   {
    "duration": 65,
    "start_time": "2023-04-10T10:56:45.045Z"
   },
   {
    "duration": 42,
    "start_time": "2023-04-10T10:56:45.237Z"
   },
   {
    "duration": 159,
    "start_time": "2023-04-10T11:00:25.840Z"
   },
   {
    "duration": 30,
    "start_time": "2023-04-10T11:00:28.073Z"
   },
   {
    "duration": 54,
    "start_time": "2023-04-10T11:01:08.347Z"
   },
   {
    "duration": 82,
    "start_time": "2023-04-10T11:01:30.661Z"
   },
   {
    "duration": 22,
    "start_time": "2023-04-10T11:58:30.505Z"
   },
   {
    "duration": 156,
    "start_time": "2023-04-10T12:02:46.649Z"
   },
   {
    "duration": 1279,
    "start_time": "2023-04-11T06:45:41.587Z"
   },
   {
    "duration": 1064,
    "start_time": "2023-04-11T06:45:48.985Z"
   },
   {
    "duration": 952,
    "start_time": "2023-04-11T06:45:50.051Z"
   },
   {
    "duration": 30,
    "start_time": "2023-04-11T06:45:51.005Z"
   },
   {
    "duration": 43,
    "start_time": "2023-04-11T06:45:51.037Z"
   },
   {
    "duration": 61,
    "start_time": "2023-04-11T06:45:51.088Z"
   },
   {
    "duration": 140,
    "start_time": "2023-04-11T06:45:51.151Z"
   },
   {
    "duration": 16,
    "start_time": "2023-04-11T06:45:51.293Z"
   },
   {
    "duration": 124,
    "start_time": "2023-04-11T06:52:49.764Z"
   },
   {
    "duration": 44,
    "start_time": "2023-04-11T06:59:57.339Z"
   },
   {
    "duration": 7,
    "start_time": "2023-04-11T07:00:07.236Z"
   },
   {
    "duration": 21,
    "start_time": "2023-04-11T07:00:22.059Z"
   },
   {
    "duration": 145,
    "start_time": "2023-04-11T07:02:13.411Z"
   },
   {
    "duration": 175,
    "start_time": "2023-04-11T07:04:37.394Z"
   },
   {
    "duration": 778,
    "start_time": "2023-04-11T07:04:48.325Z"
   },
   {
    "duration": 986,
    "start_time": "2023-04-11T07:05:30.927Z"
   },
   {
    "duration": 849,
    "start_time": "2023-04-11T07:06:42.130Z"
   },
   {
    "duration": 966,
    "start_time": "2023-04-11T07:08:00.870Z"
   },
   {
    "duration": 1123,
    "start_time": "2023-04-11T07:09:20.413Z"
   },
   {
    "duration": 233,
    "start_time": "2023-04-11T07:09:21.538Z"
   },
   {
    "duration": 48,
    "start_time": "2023-04-11T07:09:21.773Z"
   },
   {
    "duration": 8,
    "start_time": "2023-04-11T07:09:21.822Z"
   },
   {
    "duration": 115,
    "start_time": "2023-04-11T07:09:21.832Z"
   },
   {
    "duration": 154,
    "start_time": "2023-04-11T07:09:21.949Z"
   },
   {
    "duration": 17,
    "start_time": "2023-04-11T07:09:22.105Z"
   },
   {
    "duration": 10,
    "start_time": "2023-04-11T07:09:22.124Z"
   },
   {
    "duration": 23,
    "start_time": "2023-04-11T07:10:04.795Z"
   },
   {
    "duration": 18,
    "start_time": "2023-04-11T07:10:52.907Z"
   },
   {
    "duration": 118,
    "start_time": "2023-04-11T07:15:15.539Z"
   },
   {
    "duration": 26,
    "start_time": "2023-04-11T07:15:18.750Z"
   },
   {
    "duration": 1191,
    "start_time": "2023-04-11T08:56:06.605Z"
   },
   {
    "duration": 247,
    "start_time": "2023-04-11T08:56:07.799Z"
   },
   {
    "duration": 32,
    "start_time": "2023-04-11T08:56:08.048Z"
   },
   {
    "duration": 17,
    "start_time": "2023-04-11T08:56:08.093Z"
   },
   {
    "duration": 108,
    "start_time": "2023-04-11T08:56:08.114Z"
   },
   {
    "duration": 148,
    "start_time": "2023-04-11T08:56:08.224Z"
   },
   {
    "duration": 30,
    "start_time": "2023-04-11T08:56:08.374Z"
   },
   {
    "duration": 90,
    "start_time": "2023-04-11T08:56:08.406Z"
   },
   {
    "duration": 22,
    "start_time": "2023-04-11T08:56:08.502Z"
   },
   {
    "duration": 3,
    "start_time": "2023-04-11T08:58:00.233Z"
   },
   {
    "duration": 10,
    "start_time": "2023-04-11T08:58:13.010Z"
   },
   {
    "duration": 9,
    "start_time": "2023-04-11T08:59:50.523Z"
   },
   {
    "duration": 16,
    "start_time": "2023-04-11T08:59:57.984Z"
   },
   {
    "duration": 6,
    "start_time": "2023-04-11T09:02:00.575Z"
   },
   {
    "duration": 134,
    "start_time": "2023-04-11T09:02:10.418Z"
   },
   {
    "duration": 10,
    "start_time": "2023-04-11T09:02:42.117Z"
   },
   {
    "duration": 4,
    "start_time": "2023-04-11T09:03:55.877Z"
   },
   {
    "duration": 5,
    "start_time": "2023-04-11T09:04:01.461Z"
   },
   {
    "duration": 12,
    "start_time": "2023-04-11T09:05:07.684Z"
   },
   {
    "duration": 27,
    "start_time": "2023-04-11T09:05:34.108Z"
   },
   {
    "duration": 34,
    "start_time": "2023-04-11T09:05:41.779Z"
   },
   {
    "duration": 34,
    "start_time": "2023-04-11T09:06:10.390Z"
   },
   {
    "duration": 14,
    "start_time": "2023-04-11T09:07:47.708Z"
   },
   {
    "duration": 9,
    "start_time": "2023-04-11T09:08:41.524Z"
   },
   {
    "duration": 93,
    "start_time": "2023-04-11T09:09:00.652Z"
   },
   {
    "duration": 9,
    "start_time": "2023-04-11T09:09:11.234Z"
   },
   {
    "duration": 7,
    "start_time": "2023-04-11T09:09:21.650Z"
   },
   {
    "duration": 15,
    "start_time": "2023-04-11T09:11:43.962Z"
   },
   {
    "duration": 647,
    "start_time": "2023-04-11T09:12:57.416Z"
   },
   {
    "duration": 577,
    "start_time": "2023-04-11T09:13:29.586Z"
   },
   {
    "duration": 568,
    "start_time": "2023-04-11T09:16:23.847Z"
   },
   {
    "duration": 566,
    "start_time": "2023-04-11T09:16:57.209Z"
   },
   {
    "duration": 578,
    "start_time": "2023-04-11T09:17:08.024Z"
   },
   {
    "duration": 586,
    "start_time": "2023-04-11T09:18:42.357Z"
   },
   {
    "duration": 313,
    "start_time": "2023-04-11T09:26:55.724Z"
   },
   {
    "duration": 407,
    "start_time": "2023-04-11T09:27:21.832Z"
   },
   {
    "duration": 6,
    "start_time": "2023-04-11T09:28:36.942Z"
   },
   {
    "duration": 409,
    "start_time": "2023-04-11T09:30:42.434Z"
   },
   {
    "duration": 36,
    "start_time": "2023-04-11T09:31:49.531Z"
   },
   {
    "duration": 33,
    "start_time": "2023-04-11T09:32:06.873Z"
   },
   {
    "duration": 11,
    "start_time": "2023-04-11T09:32:35.224Z"
   },
   {
    "duration": 19,
    "start_time": "2023-04-11T09:32:43.516Z"
   },
   {
    "duration": 4,
    "start_time": "2023-04-11T09:32:54.553Z"
   },
   {
    "duration": 25,
    "start_time": "2023-04-11T09:33:02.417Z"
   },
   {
    "duration": 1152,
    "start_time": "2023-04-11T09:34:24.008Z"
   },
   {
    "duration": 249,
    "start_time": "2023-04-11T09:34:25.162Z"
   },
   {
    "duration": 43,
    "start_time": "2023-04-11T09:34:25.413Z"
   },
   {
    "duration": 8,
    "start_time": "2023-04-11T09:34:25.458Z"
   },
   {
    "duration": 100,
    "start_time": "2023-04-11T09:34:25.469Z"
   },
   {
    "duration": 163,
    "start_time": "2023-04-11T09:34:25.571Z"
   },
   {
    "duration": 18,
    "start_time": "2023-04-11T09:34:25.737Z"
   },
   {
    "duration": 106,
    "start_time": "2023-04-11T09:34:25.757Z"
   },
   {
    "duration": 42,
    "start_time": "2023-04-11T09:34:25.865Z"
   },
   {
    "duration": 6,
    "start_time": "2023-04-11T09:34:25.911Z"
   },
   {
    "duration": 22,
    "start_time": "2023-04-11T09:34:25.919Z"
   },
   {
    "duration": 7,
    "start_time": "2023-04-11T09:34:25.943Z"
   },
   {
    "duration": 35,
    "start_time": "2023-04-11T09:34:25.951Z"
   },
   {
    "duration": 25,
    "start_time": "2023-04-11T09:34:25.999Z"
   },
   {
    "duration": 29,
    "start_time": "2023-04-11T09:34:26.026Z"
   },
   {
    "duration": 650,
    "start_time": "2023-04-11T09:34:26.058Z"
   },
   {
    "duration": 23,
    "start_time": "2023-04-11T09:34:26.711Z"
   },
   {
    "duration": 5,
    "start_time": "2023-04-11T09:34:26.736Z"
   },
   {
    "duration": 20,
    "start_time": "2023-04-11T09:34:26.743Z"
   },
   {
    "duration": 3,
    "start_time": "2023-04-11T09:36:19.450Z"
   },
   {
    "duration": 5,
    "start_time": "2023-04-11T09:36:50.145Z"
   },
   {
    "duration": 5,
    "start_time": "2023-04-11T09:37:02.969Z"
   },
   {
    "duration": 5,
    "start_time": "2023-04-11T09:37:53.172Z"
   },
   {
    "duration": 5,
    "start_time": "2023-04-11T09:38:20.804Z"
   },
   {
    "duration": 5,
    "start_time": "2023-04-11T09:38:35.907Z"
   },
   {
    "duration": 5,
    "start_time": "2023-04-11T09:41:43.152Z"
   },
   {
    "duration": 6,
    "start_time": "2023-04-11T09:41:53.218Z"
   },
   {
    "duration": 5,
    "start_time": "2023-04-11T09:42:35.742Z"
   },
   {
    "duration": 8,
    "start_time": "2023-04-11T09:42:42.417Z"
   },
   {
    "duration": 19,
    "start_time": "2023-04-11T09:42:47.200Z"
   },
   {
    "duration": 547,
    "start_time": "2023-04-11T09:43:51.637Z"
   },
   {
    "duration": 564,
    "start_time": "2023-04-11T09:44:05.661Z"
   },
   {
    "duration": 22,
    "start_time": "2023-04-11T09:44:20.637Z"
   },
   {
    "duration": 12,
    "start_time": "2023-04-11T09:44:21.213Z"
   },
   {
    "duration": 12,
    "start_time": "2023-04-11T09:44:21.519Z"
   },
   {
    "duration": 14,
    "start_time": "2023-04-11T09:44:21.717Z"
   },
   {
    "duration": 560,
    "start_time": "2023-04-11T09:44:22.060Z"
   },
   {
    "duration": 6,
    "start_time": "2023-04-11T09:45:44.366Z"
   },
   {
    "duration": 5,
    "start_time": "2023-04-11T09:46:09.765Z"
   },
   {
    "duration": 6,
    "start_time": "2023-04-11T09:46:21.548Z"
   },
   {
    "duration": 94,
    "start_time": "2023-04-11T09:47:37.273Z"
   },
   {
    "duration": 62,
    "start_time": "2023-04-11T09:48:00.521Z"
   },
   {
    "duration": 60,
    "start_time": "2023-04-11T09:49:50.715Z"
   },
   {
    "duration": 109,
    "start_time": "2023-04-11T09:50:27.241Z"
   },
   {
    "duration": 12,
    "start_time": "2023-04-11T09:50:59.759Z"
   },
   {
    "duration": 7,
    "start_time": "2023-04-11T09:52:18.361Z"
   },
   {
    "duration": 14,
    "start_time": "2023-04-11T09:52:18.560Z"
   },
   {
    "duration": 313,
    "start_time": "2023-04-11T09:55:59.758Z"
   },
   {
    "duration": 183,
    "start_time": "2023-04-11T09:56:28.549Z"
   },
   {
    "duration": 9,
    "start_time": "2023-04-11T09:56:33.865Z"
   },
   {
    "duration": 12,
    "start_time": "2023-04-11T09:56:44.069Z"
   },
   {
    "duration": 205,
    "start_time": "2023-04-11T09:56:44.547Z"
   },
   {
    "duration": 12,
    "start_time": "2023-04-11T09:58:11.265Z"
   },
   {
    "duration": 56,
    "start_time": "2023-04-11T10:23:59.872Z"
   },
   {
    "duration": 36,
    "start_time": "2023-04-11T10:24:18.110Z"
   },
   {
    "duration": 42,
    "start_time": "2023-04-11T10:24:58.228Z"
   },
   {
    "duration": 38,
    "start_time": "2023-04-11T10:26:33.335Z"
   },
   {
    "duration": 39,
    "start_time": "2023-04-11T10:26:54.124Z"
   },
   {
    "duration": 33,
    "start_time": "2023-04-11T10:27:36.349Z"
   },
   {
    "duration": 41,
    "start_time": "2023-04-11T10:29:08.836Z"
   },
   {
    "duration": 35,
    "start_time": "2023-04-11T10:29:31.138Z"
   },
   {
    "duration": 38,
    "start_time": "2023-04-11T10:29:55.419Z"
   },
   {
    "duration": 29,
    "start_time": "2023-04-11T10:31:14.821Z"
   },
   {
    "duration": 66,
    "start_time": "2023-04-11T10:31:22.755Z"
   },
   {
    "duration": 55,
    "start_time": "2023-04-11T10:31:49.435Z"
   },
   {
    "duration": 37,
    "start_time": "2023-04-11T10:31:56.517Z"
   },
   {
    "duration": 35,
    "start_time": "2023-04-11T10:33:19.537Z"
   },
   {
    "duration": 29,
    "start_time": "2023-04-11T10:34:17.149Z"
   },
   {
    "duration": 43,
    "start_time": "2023-04-11T10:35:03.475Z"
   },
   {
    "duration": 47,
    "start_time": "2023-04-11T10:35:43.162Z"
   },
   {
    "duration": 66,
    "start_time": "2023-04-11T10:44:40.444Z"
   },
   {
    "duration": 15,
    "start_time": "2023-04-11T10:44:46.379Z"
   },
   {
    "duration": 67,
    "start_time": "2023-04-11T10:45:01.955Z"
   },
   {
    "duration": 48,
    "start_time": "2023-04-11T10:50:32.244Z"
   },
   {
    "duration": 67,
    "start_time": "2023-04-11T10:50:38.153Z"
   },
   {
    "duration": 64,
    "start_time": "2023-04-11T10:50:46.152Z"
   },
   {
    "duration": 94,
    "start_time": "2023-04-11T10:51:05.903Z"
   },
   {
    "duration": 4,
    "start_time": "2023-04-11T10:52:05.071Z"
   },
   {
    "duration": 66,
    "start_time": "2023-04-11T10:52:13.168Z"
   },
   {
    "duration": 98,
    "start_time": "2023-04-11T10:53:24.520Z"
   },
   {
    "duration": 7,
    "start_time": "2023-04-11T11:14:27.623Z"
   },
   {
    "duration": 7,
    "start_time": "2023-04-11T11:14:46.971Z"
   },
   {
    "duration": 5,
    "start_time": "2023-04-11T11:18:58.332Z"
   },
   {
    "duration": 7,
    "start_time": "2023-04-11T11:19:15.343Z"
   },
   {
    "duration": 13,
    "start_time": "2023-04-11T11:19:43.258Z"
   },
   {
    "duration": 4,
    "start_time": "2023-04-11T11:19:53.684Z"
   },
   {
    "duration": 6,
    "start_time": "2023-04-11T11:20:02.956Z"
   },
   {
    "duration": 6,
    "start_time": "2023-04-11T11:20:32.623Z"
   },
   {
    "duration": 9,
    "start_time": "2023-04-11T11:25:00.459Z"
   },
   {
    "duration": 13,
    "start_time": "2023-04-11T11:25:58.827Z"
   },
   {
    "duration": 12,
    "start_time": "2023-04-11T11:27:45.831Z"
   },
   {
    "duration": 16,
    "start_time": "2023-04-11T11:28:11.982Z"
   },
   {
    "duration": 11,
    "start_time": "2023-04-11T11:29:55.776Z"
   },
   {
    "duration": 10,
    "start_time": "2023-04-11T11:32:17.461Z"
   },
   {
    "duration": 96,
    "start_time": "2023-04-11T11:32:59.720Z"
   },
   {
    "duration": 66,
    "start_time": "2023-04-11T11:33:17.381Z"
   },
   {
    "duration": 73,
    "start_time": "2023-04-11T11:33:41.530Z"
   },
   {
    "duration": 8,
    "start_time": "2023-04-11T11:33:46.027Z"
   },
   {
    "duration": 13,
    "start_time": "2023-04-11T13:03:50.285Z"
   },
   {
    "duration": 10,
    "start_time": "2023-04-11T13:04:03.908Z"
   },
   {
    "duration": 6,
    "start_time": "2023-04-11T13:04:13.405Z"
   },
   {
    "duration": 15,
    "start_time": "2023-04-11T13:04:20.304Z"
   },
   {
    "duration": 12,
    "start_time": "2023-04-11T13:05:36.240Z"
   },
   {
    "duration": 11,
    "start_time": "2023-04-11T13:08:00.114Z"
   },
   {
    "duration": 10,
    "start_time": "2023-04-11T13:08:08.158Z"
   },
   {
    "duration": 12,
    "start_time": "2023-04-11T13:08:08.709Z"
   },
   {
    "duration": 11,
    "start_time": "2023-04-11T13:08:37.633Z"
   },
   {
    "duration": 17,
    "start_time": "2023-04-11T13:08:45.492Z"
   },
   {
    "duration": 10,
    "start_time": "2023-04-11T13:09:02.120Z"
   },
   {
    "duration": 11,
    "start_time": "2023-04-11T13:09:03.143Z"
   },
   {
    "duration": 1219,
    "start_time": "2023-04-11T13:09:18.709Z"
   },
   {
    "duration": 250,
    "start_time": "2023-04-11T13:09:19.931Z"
   },
   {
    "duration": 47,
    "start_time": "2023-04-11T13:09:20.183Z"
   },
   {
    "duration": 9,
    "start_time": "2023-04-11T13:09:20.232Z"
   },
   {
    "duration": 113,
    "start_time": "2023-04-11T13:09:20.244Z"
   },
   {
    "duration": 185,
    "start_time": "2023-04-11T13:09:20.359Z"
   },
   {
    "duration": 23,
    "start_time": "2023-04-11T13:09:20.547Z"
   },
   {
    "duration": 147,
    "start_time": "2023-04-11T13:09:20.588Z"
   },
   {
    "duration": 21,
    "start_time": "2023-04-11T13:09:20.738Z"
   },
   {
    "duration": 5,
    "start_time": "2023-04-11T13:09:20.761Z"
   },
   {
    "duration": 28,
    "start_time": "2023-04-11T13:09:20.769Z"
   },
   {
    "duration": 7,
    "start_time": "2023-04-11T13:09:20.800Z"
   },
   {
    "duration": 34,
    "start_time": "2023-04-11T13:09:20.809Z"
   },
   {
    "duration": 28,
    "start_time": "2023-04-11T13:09:20.847Z"
   },
   {
    "duration": 27,
    "start_time": "2023-04-11T13:09:20.899Z"
   },
   {
    "duration": 799,
    "start_time": "2023-04-11T13:09:20.937Z"
   },
   {
    "duration": 24,
    "start_time": "2023-04-11T13:09:21.738Z"
   },
   {
    "duration": 4,
    "start_time": "2023-04-11T13:09:21.764Z"
   },
   {
    "duration": 39,
    "start_time": "2023-04-11T13:09:21.770Z"
   },
   {
    "duration": 13,
    "start_time": "2023-04-11T13:09:21.811Z"
   },
   {
    "duration": 18,
    "start_time": "2023-04-11T13:09:21.826Z"
   },
   {
    "duration": 31,
    "start_time": "2023-04-11T13:09:21.848Z"
   },
   {
    "duration": 84,
    "start_time": "2023-04-11T13:09:21.903Z"
   },
   {
    "duration": 17,
    "start_time": "2023-04-11T13:09:21.988Z"
   },
   {
    "duration": 19,
    "start_time": "2023-04-11T13:09:22.007Z"
   },
   {
    "duration": 111,
    "start_time": "2023-04-11T13:12:24.607Z"
   },
   {
    "duration": 1160,
    "start_time": "2023-04-11T13:13:22.715Z"
   },
   {
    "duration": 247,
    "start_time": "2023-04-11T13:13:23.877Z"
   },
   {
    "duration": 35,
    "start_time": "2023-04-11T13:13:24.126Z"
   },
   {
    "duration": 7,
    "start_time": "2023-04-11T13:13:24.163Z"
   },
   {
    "duration": 100,
    "start_time": "2023-04-11T13:13:24.172Z"
   },
   {
    "duration": 175,
    "start_time": "2023-04-11T13:13:24.274Z"
   },
   {
    "duration": 15,
    "start_time": "2023-04-11T13:13:24.451Z"
   },
   {
    "duration": 106,
    "start_time": "2023-04-11T13:13:24.468Z"
   },
   {
    "duration": 24,
    "start_time": "2023-04-11T13:13:24.575Z"
   },
   {
    "duration": 16,
    "start_time": "2023-04-11T13:13:24.602Z"
   },
   {
    "duration": 21,
    "start_time": "2023-04-11T13:13:24.620Z"
   },
   {
    "duration": 12,
    "start_time": "2023-04-11T13:13:24.642Z"
   },
   {
    "duration": 30,
    "start_time": "2023-04-11T13:13:24.655Z"
   },
   {
    "duration": 25,
    "start_time": "2023-04-11T13:13:24.687Z"
   },
   {
    "duration": 15,
    "start_time": "2023-04-11T13:13:24.715Z"
   },
   {
    "duration": 638,
    "start_time": "2023-04-11T13:13:24.732Z"
   },
   {
    "duration": 31,
    "start_time": "2023-04-11T13:13:25.372Z"
   },
   {
    "duration": 7,
    "start_time": "2023-04-11T13:13:25.406Z"
   },
   {
    "duration": 12,
    "start_time": "2023-04-11T13:13:25.417Z"
   },
   {
    "duration": 7,
    "start_time": "2023-04-11T13:13:25.431Z"
   },
   {
    "duration": 22,
    "start_time": "2023-04-11T13:13:25.439Z"
   },
   {
    "duration": 69,
    "start_time": "2023-04-11T13:13:25.463Z"
   },
   {
    "duration": 76,
    "start_time": "2023-04-11T13:13:25.534Z"
   },
   {
    "duration": 9,
    "start_time": "2023-04-11T13:13:25.612Z"
   },
   {
    "duration": 12,
    "start_time": "2023-04-11T13:13:25.623Z"
   },
   {
    "duration": 1122,
    "start_time": "2023-04-11T13:13:25.637Z"
   },
   {
    "duration": 138,
    "start_time": "2023-04-11T13:13:39.691Z"
   },
   {
    "duration": 33,
    "start_time": "2023-04-11T13:14:23.179Z"
   },
   {
    "duration": 13,
    "start_time": "2023-04-11T13:14:50.419Z"
   },
   {
    "duration": 61,
    "start_time": "2023-04-11T13:18:31.139Z"
   },
   {
    "duration": 12,
    "start_time": "2023-04-11T13:18:37.807Z"
   },
   {
    "duration": 29,
    "start_time": "2023-04-11T13:20:50.081Z"
   },
   {
    "duration": 11,
    "start_time": "2023-04-11T13:22:09.546Z"
   },
   {
    "duration": 65,
    "start_time": "2023-04-11T13:29:11.084Z"
   },
   {
    "duration": 67,
    "start_time": "2023-04-11T13:29:59.682Z"
   },
   {
    "duration": 56,
    "start_time": "2023-04-11T13:30:20.517Z"
   },
   {
    "duration": 16,
    "start_time": "2023-04-11T13:30:34.977Z"
   },
   {
    "duration": 15,
    "start_time": "2023-04-11T13:30:54.543Z"
   },
   {
    "duration": 4,
    "start_time": "2023-04-11T13:31:16.423Z"
   },
   {
    "duration": 11,
    "start_time": "2023-04-11T13:31:21.313Z"
   },
   {
    "duration": 899,
    "start_time": "2023-04-11T13:43:52.052Z"
   },
   {
    "duration": 14,
    "start_time": "2023-04-11T13:45:54.921Z"
   },
   {
    "duration": 6,
    "start_time": "2023-04-11T13:46:03.657Z"
   },
   {
    "duration": 10,
    "start_time": "2023-04-11T13:46:47.312Z"
   },
   {
    "duration": 5,
    "start_time": "2023-04-11T13:47:27.560Z"
   },
   {
    "duration": 11,
    "start_time": "2023-04-11T13:47:41.767Z"
   },
   {
    "duration": 6,
    "start_time": "2023-04-11T13:50:57.613Z"
   },
   {
    "duration": 9,
    "start_time": "2023-04-11T13:51:04.306Z"
   },
   {
    "duration": 4,
    "start_time": "2023-04-11T13:54:38.386Z"
   },
   {
    "duration": 7,
    "start_time": "2023-04-11T13:55:32.204Z"
   },
   {
    "duration": 20,
    "start_time": "2023-04-11T13:56:03.897Z"
   },
   {
    "duration": 8,
    "start_time": "2023-04-11T13:56:56.258Z"
   },
   {
    "duration": 8,
    "start_time": "2023-04-11T13:57:11.065Z"
   },
   {
    "duration": 7,
    "start_time": "2023-04-11T13:57:15.625Z"
   },
   {
    "duration": 20,
    "start_time": "2023-04-11T14:02:38.669Z"
   },
   {
    "duration": 15,
    "start_time": "2023-04-11T14:02:55.937Z"
   },
   {
    "duration": 13,
    "start_time": "2023-04-11T14:15:40.072Z"
   },
   {
    "duration": 11,
    "start_time": "2023-04-11T14:15:51.777Z"
   },
   {
    "duration": 60,
    "start_time": "2023-04-11T14:16:22.665Z"
   },
   {
    "duration": 11,
    "start_time": "2023-04-11T14:16:38.503Z"
   },
   {
    "duration": 7,
    "start_time": "2023-04-11T14:17:06.577Z"
   },
   {
    "duration": 13,
    "start_time": "2023-04-11T14:17:30.945Z"
   },
   {
    "duration": 447,
    "start_time": "2023-04-11T14:18:31.305Z"
   },
   {
    "duration": 407,
    "start_time": "2023-04-11T14:21:03.604Z"
   },
   {
    "duration": 6,
    "start_time": "2023-04-11T14:21:12.301Z"
   },
   {
    "duration": 12,
    "start_time": "2023-04-11T14:21:32.209Z"
   },
   {
    "duration": 13,
    "start_time": "2023-04-11T14:21:46.647Z"
   },
   {
    "duration": 30,
    "start_time": "2023-04-11T14:22:10.841Z"
   },
   {
    "duration": 11,
    "start_time": "2023-04-11T14:22:35.865Z"
   },
   {
    "duration": 7,
    "start_time": "2023-04-11T14:23:20.828Z"
   },
   {
    "duration": 9,
    "start_time": "2023-04-11T14:24:03.837Z"
   },
   {
    "duration": 14,
    "start_time": "2023-04-11T14:24:09.965Z"
   },
   {
    "duration": 8,
    "start_time": "2023-04-11T14:32:19.430Z"
   },
   {
    "duration": 8,
    "start_time": "2023-04-11T14:32:30.870Z"
   },
   {
    "duration": 7,
    "start_time": "2023-04-11T14:32:38.472Z"
   },
   {
    "duration": 57,
    "start_time": "2023-04-11T14:34:45.254Z"
   },
   {
    "duration": 230,
    "start_time": "2023-04-11T14:35:02.429Z"
   },
   {
    "duration": 11,
    "start_time": "2023-04-11T14:35:36.654Z"
   },
   {
    "duration": 11,
    "start_time": "2023-04-11T14:35:38.158Z"
   },
   {
    "duration": 3,
    "start_time": "2023-04-11T14:35:39.613Z"
   },
   {
    "duration": 64,
    "start_time": "2023-04-11T14:35:40.661Z"
   },
   {
    "duration": 8,
    "start_time": "2023-04-11T14:36:33.402Z"
   },
   {
    "duration": 11,
    "start_time": "2023-04-11T14:37:28.492Z"
   },
   {
    "duration": 7,
    "start_time": "2023-04-11T14:37:41.333Z"
   },
   {
    "duration": 10,
    "start_time": "2023-04-11T14:37:57.843Z"
   },
   {
    "duration": 11,
    "start_time": "2023-04-11T14:38:41.579Z"
   },
   {
    "duration": 11,
    "start_time": "2023-04-11T14:39:28.561Z"
   },
   {
    "duration": 10,
    "start_time": "2023-04-11T14:39:53.568Z"
   },
   {
    "duration": 8,
    "start_time": "2023-04-11T14:40:24.290Z"
   },
   {
    "duration": 46,
    "start_time": "2023-04-11T14:40:48.665Z"
   },
   {
    "duration": 9,
    "start_time": "2023-04-11T14:40:56.800Z"
   },
   {
    "duration": 9,
    "start_time": "2023-04-11T14:41:44.680Z"
   },
   {
    "duration": 1288,
    "start_time": "2023-04-11T15:38:46.972Z"
   },
   {
    "duration": 252,
    "start_time": "2023-04-11T15:38:48.262Z"
   },
   {
    "duration": 33,
    "start_time": "2023-04-11T15:38:48.516Z"
   },
   {
    "duration": 7,
    "start_time": "2023-04-11T15:38:48.551Z"
   },
   {
    "duration": 135,
    "start_time": "2023-04-11T15:38:48.561Z"
   },
   {
    "duration": 163,
    "start_time": "2023-04-11T15:38:48.698Z"
   },
   {
    "duration": 15,
    "start_time": "2023-04-11T15:38:48.863Z"
   },
   {
    "duration": 101,
    "start_time": "2023-04-11T15:38:48.880Z"
   },
   {
    "duration": 20,
    "start_time": "2023-04-11T15:38:48.983Z"
   },
   {
    "duration": 9,
    "start_time": "2023-04-11T15:38:49.005Z"
   },
   {
    "duration": 10,
    "start_time": "2023-04-11T15:38:49.016Z"
   },
   {
    "duration": 5,
    "start_time": "2023-04-11T15:38:49.028Z"
   },
   {
    "duration": 69,
    "start_time": "2023-04-11T15:38:49.035Z"
   },
   {
    "duration": 18,
    "start_time": "2023-04-11T15:38:49.107Z"
   },
   {
    "duration": 6,
    "start_time": "2023-04-11T15:38:49.127Z"
   },
   {
    "duration": 645,
    "start_time": "2023-04-11T15:38:49.135Z"
   },
   {
    "duration": 31,
    "start_time": "2023-04-11T15:38:49.781Z"
   },
   {
    "duration": 6,
    "start_time": "2023-04-11T15:38:49.815Z"
   },
   {
    "duration": 13,
    "start_time": "2023-04-11T15:38:49.823Z"
   },
   {
    "duration": 6,
    "start_time": "2023-04-11T15:38:49.838Z"
   },
   {
    "duration": 14,
    "start_time": "2023-04-11T15:38:49.846Z"
   },
   {
    "duration": 39,
    "start_time": "2023-04-11T15:38:49.888Z"
   },
   {
    "duration": 96,
    "start_time": "2023-04-11T15:38:49.929Z"
   },
   {
    "duration": 8,
    "start_time": "2023-04-11T15:38:50.027Z"
   },
   {
    "duration": 29,
    "start_time": "2023-04-11T15:38:50.037Z"
   },
   {
    "duration": 164,
    "start_time": "2023-04-11T15:38:50.068Z"
   },
   {
    "duration": 3,
    "start_time": "2023-04-11T15:38:50.235Z"
   },
   {
    "duration": 49,
    "start_time": "2023-04-11T15:38:50.240Z"
   },
   {
    "duration": 21,
    "start_time": "2023-04-11T15:38:50.292Z"
   },
   {
    "duration": 218,
    "start_time": "2023-04-11T15:38:50.315Z"
   },
   {
    "duration": 8,
    "start_time": "2023-04-11T15:39:38.435Z"
   },
   {
    "duration": 59,
    "start_time": "2023-04-11T15:46:25.077Z"
   },
   {
    "duration": 9,
    "start_time": "2023-04-11T15:46:32.302Z"
   },
   {
    "duration": 1197,
    "start_time": "2023-04-11T17:55:51.417Z"
   },
   {
    "duration": 816,
    "start_time": "2023-04-11T17:55:52.616Z"
   },
   {
    "duration": 34,
    "start_time": "2023-04-11T17:55:53.434Z"
   },
   {
    "duration": 7,
    "start_time": "2023-04-11T17:55:53.470Z"
   },
   {
    "duration": 82,
    "start_time": "2023-04-11T17:55:53.479Z"
   },
   {
    "duration": 137,
    "start_time": "2023-04-11T17:55:53.563Z"
   },
   {
    "duration": 20,
    "start_time": "2023-04-11T17:55:53.702Z"
   },
   {
    "duration": 73,
    "start_time": "2023-04-11T17:55:53.724Z"
   },
   {
    "duration": 27,
    "start_time": "2023-04-11T17:55:53.798Z"
   },
   {
    "duration": 6,
    "start_time": "2023-04-11T17:55:53.827Z"
   },
   {
    "duration": 24,
    "start_time": "2023-04-11T17:55:53.835Z"
   },
   {
    "duration": 8,
    "start_time": "2023-04-11T17:55:53.860Z"
   },
   {
    "duration": 24,
    "start_time": "2023-04-11T17:55:53.869Z"
   },
   {
    "duration": 29,
    "start_time": "2023-04-11T17:55:53.897Z"
   },
   {
    "duration": 6,
    "start_time": "2023-04-11T17:55:53.928Z"
   },
   {
    "duration": 525,
    "start_time": "2023-04-11T17:55:53.936Z"
   },
   {
    "duration": 22,
    "start_time": "2023-04-11T17:55:54.463Z"
   },
   {
    "duration": 3,
    "start_time": "2023-04-11T17:55:54.487Z"
   },
   {
    "duration": 9,
    "start_time": "2023-04-11T17:55:54.512Z"
   },
   {
    "duration": 5,
    "start_time": "2023-04-11T17:55:54.523Z"
   },
   {
    "duration": 18,
    "start_time": "2023-04-11T17:55:54.529Z"
   },
   {
    "duration": 26,
    "start_time": "2023-04-11T17:55:54.548Z"
   },
   {
    "duration": 82,
    "start_time": "2023-04-11T17:55:54.576Z"
   },
   {
    "duration": 9,
    "start_time": "2023-04-11T17:55:54.660Z"
   },
   {
    "duration": 25,
    "start_time": "2023-04-11T17:55:54.671Z"
   },
   {
    "duration": 180,
    "start_time": "2023-04-11T17:55:54.697Z"
   },
   {
    "duration": 2,
    "start_time": "2023-04-11T17:55:54.879Z"
   },
   {
    "duration": 34,
    "start_time": "2023-04-11T17:55:54.882Z"
   },
   {
    "duration": 20,
    "start_time": "2023-04-11T17:55:54.918Z"
   },
   {
    "duration": 139,
    "start_time": "2023-04-11T17:55:54.939Z"
   },
   {
    "duration": 10,
    "start_time": "2023-04-11T17:57:41.321Z"
   },
   {
    "duration": 24,
    "start_time": "2023-04-11T17:59:36.367Z"
   },
   {
    "duration": 11,
    "start_time": "2023-04-11T18:02:21.845Z"
   },
   {
    "duration": 30,
    "start_time": "2023-04-11T18:03:06.749Z"
   },
   {
    "duration": 30,
    "start_time": "2023-04-11T18:03:35.343Z"
   },
   {
    "duration": 12,
    "start_time": "2023-04-11T18:03:51.729Z"
   },
   {
    "duration": 16,
    "start_time": "2023-04-11T18:07:50.447Z"
   },
   {
    "duration": 12,
    "start_time": "2023-04-11T18:08:02.727Z"
   },
   {
    "duration": 37,
    "start_time": "2023-04-11T18:16:06.193Z"
   },
   {
    "duration": 16,
    "start_time": "2023-04-11T18:16:19.463Z"
   },
   {
    "duration": 38,
    "start_time": "2023-04-11T18:25:34.987Z"
   },
   {
    "duration": 41,
    "start_time": "2023-04-11T18:26:17.867Z"
   },
   {
    "duration": 11,
    "start_time": "2023-04-11T18:47:32.226Z"
   },
   {
    "duration": 1110,
    "start_time": "2023-04-12T05:11:43.690Z"
   },
   {
    "duration": 739,
    "start_time": "2023-04-12T05:11:44.801Z"
   },
   {
    "duration": 27,
    "start_time": "2023-04-12T05:11:45.541Z"
   },
   {
    "duration": 7,
    "start_time": "2023-04-12T05:11:45.569Z"
   },
   {
    "duration": 71,
    "start_time": "2023-04-12T05:11:45.578Z"
   },
   {
    "duration": 125,
    "start_time": "2023-04-12T05:11:45.651Z"
   },
   {
    "duration": 12,
    "start_time": "2023-04-12T05:11:45.778Z"
   },
   {
    "duration": 74,
    "start_time": "2023-04-12T05:11:45.791Z"
   },
   {
    "duration": 13,
    "start_time": "2023-04-12T05:11:45.867Z"
   },
   {
    "duration": 3,
    "start_time": "2023-04-12T05:11:45.881Z"
   },
   {
    "duration": 10,
    "start_time": "2023-04-12T05:11:45.886Z"
   },
   {
    "duration": 3,
    "start_time": "2023-04-12T05:11:45.898Z"
   },
   {
    "duration": 36,
    "start_time": "2023-04-12T05:11:45.902Z"
   },
   {
    "duration": 13,
    "start_time": "2023-04-12T05:11:45.941Z"
   },
   {
    "duration": 3,
    "start_time": "2023-04-12T05:11:45.955Z"
   },
   {
    "duration": 471,
    "start_time": "2023-04-12T05:11:45.959Z"
   },
   {
    "duration": 22,
    "start_time": "2023-04-12T05:11:46.431Z"
   },
   {
    "duration": 3,
    "start_time": "2023-04-12T05:11:46.454Z"
   },
   {
    "duration": 12,
    "start_time": "2023-04-12T05:11:46.459Z"
   },
   {
    "duration": 4,
    "start_time": "2023-04-12T05:11:46.473Z"
   },
   {
    "duration": 12,
    "start_time": "2023-04-12T05:11:46.479Z"
   },
   {
    "duration": 51,
    "start_time": "2023-04-12T05:11:46.492Z"
   },
   {
    "duration": 53,
    "start_time": "2023-04-12T05:11:46.545Z"
   },
   {
    "duration": 8,
    "start_time": "2023-04-12T05:11:46.600Z"
   },
   {
    "duration": 9,
    "start_time": "2023-04-12T05:11:46.609Z"
   },
   {
    "duration": 190,
    "start_time": "2023-04-12T05:11:46.636Z"
   },
   {
    "duration": 48,
    "start_time": "2023-04-12T05:11:46.828Z"
   },
   {
    "duration": 0,
    "start_time": "2023-04-12T05:11:46.878Z"
   },
   {
    "duration": 51,
    "start_time": "2023-04-12T05:12:35.540Z"
   },
   {
    "duration": 13,
    "start_time": "2023-04-12T05:12:54.387Z"
   },
   {
    "duration": 32,
    "start_time": "2023-04-12T05:12:58.675Z"
   },
   {
    "duration": 109,
    "start_time": "2023-04-12T08:14:08.277Z"
   },
   {
    "duration": 19,
    "start_time": "2023-04-12T08:14:26.311Z"
   },
   {
    "duration": 1208,
    "start_time": "2023-04-12T12:39:59.610Z"
   },
   {
    "duration": 776,
    "start_time": "2023-04-12T12:40:00.820Z"
   },
   {
    "duration": 30,
    "start_time": "2023-04-12T12:40:01.598Z"
   },
   {
    "duration": 35,
    "start_time": "2023-04-12T12:40:01.630Z"
   },
   {
    "duration": 118,
    "start_time": "2023-04-12T12:40:01.667Z"
   },
   {
    "duration": 134,
    "start_time": "2023-04-12T12:40:01.787Z"
   },
   {
    "duration": 13,
    "start_time": "2023-04-12T12:40:01.922Z"
   },
   {
    "duration": 135,
    "start_time": "2023-04-12T12:40:01.936Z"
   },
   {
    "duration": 17,
    "start_time": "2023-04-12T12:40:02.073Z"
   },
   {
    "duration": 42,
    "start_time": "2023-04-12T12:40:02.092Z"
   },
   {
    "duration": 51,
    "start_time": "2023-04-12T12:40:02.137Z"
   },
   {
    "duration": 43,
    "start_time": "2023-04-12T12:40:02.190Z"
   },
   {
    "duration": 51,
    "start_time": "2023-04-12T12:40:02.235Z"
   },
   {
    "duration": 63,
    "start_time": "2023-04-12T12:40:02.288Z"
   },
   {
    "duration": 70,
    "start_time": "2023-04-12T12:40:02.353Z"
   },
   {
    "duration": 590,
    "start_time": "2023-04-12T12:40:02.424Z"
   },
   {
    "duration": 20,
    "start_time": "2023-04-12T12:40:03.015Z"
   },
   {
    "duration": 7,
    "start_time": "2023-04-12T12:40:03.037Z"
   },
   {
    "duration": 16,
    "start_time": "2023-04-12T12:40:03.056Z"
   },
   {
    "duration": 17,
    "start_time": "2023-04-12T12:40:03.074Z"
   },
   {
    "duration": 20,
    "start_time": "2023-04-12T12:40:03.093Z"
   },
   {
    "duration": 42,
    "start_time": "2023-04-12T12:40:03.115Z"
   },
   {
    "duration": 66,
    "start_time": "2023-04-12T12:40:03.159Z"
   },
   {
    "duration": 10,
    "start_time": "2023-04-12T12:40:03.227Z"
   },
   {
    "duration": 27,
    "start_time": "2023-04-12T12:40:03.239Z"
   },
   {
    "duration": 192,
    "start_time": "2023-04-12T12:40:03.267Z"
   },
   {
    "duration": 12,
    "start_time": "2023-04-12T12:40:03.461Z"
   },
   {
    "duration": 94,
    "start_time": "2023-04-12T12:40:03.476Z"
   },
   {
    "duration": 18,
    "start_time": "2023-04-12T12:40:03.572Z"
   },
   {
    "duration": 797,
    "start_time": "2023-04-12T13:07:08.677Z"
   },
   {
    "duration": 29,
    "start_time": "2023-04-12T13:11:55.593Z"
   },
   {
    "duration": 82,
    "start_time": "2023-04-12T13:12:08.948Z"
   },
   {
    "duration": 18,
    "start_time": "2023-04-12T13:12:34.911Z"
   },
   {
    "duration": 84,
    "start_time": "2023-04-12T13:12:59.578Z"
   },
   {
    "duration": 39,
    "start_time": "2023-04-12T13:19:37.959Z"
   },
   {
    "duration": 38,
    "start_time": "2023-04-12T13:20:25.438Z"
   },
   {
    "duration": 19,
    "start_time": "2023-04-12T13:21:53.909Z"
   },
   {
    "duration": 35,
    "start_time": "2023-04-12T13:22:40.845Z"
   },
   {
    "duration": 109,
    "start_time": "2023-04-12T13:23:40.574Z"
   },
   {
    "duration": 120,
    "start_time": "2023-04-12T13:23:51.482Z"
   },
   {
    "duration": 87,
    "start_time": "2023-04-12T13:24:53.844Z"
   },
   {
    "duration": 96,
    "start_time": "2023-04-12T13:25:14.974Z"
   },
   {
    "duration": 89,
    "start_time": "2023-04-12T13:25:37.611Z"
   },
   {
    "duration": 95,
    "start_time": "2023-04-12T13:25:50.387Z"
   },
   {
    "duration": 68,
    "start_time": "2023-04-12T13:32:53.306Z"
   },
   {
    "duration": 214,
    "start_time": "2023-04-12T13:33:15.099Z"
   },
   {
    "duration": 224,
    "start_time": "2023-04-12T13:34:23.312Z"
   },
   {
    "duration": 48,
    "start_time": "2023-04-12T13:39:05.536Z"
   },
   {
    "duration": 79,
    "start_time": "2023-04-12T13:39:12.479Z"
   },
   {
    "duration": 73,
    "start_time": "2023-04-12T13:39:24.148Z"
   },
   {
    "duration": 85,
    "start_time": "2023-04-12T13:40:07.306Z"
   },
   {
    "duration": 87,
    "start_time": "2023-04-12T13:40:30.097Z"
   },
   {
    "duration": 76,
    "start_time": "2023-04-12T13:40:42.291Z"
   },
   {
    "duration": 93,
    "start_time": "2023-04-12T13:46:29.777Z"
   },
   {
    "duration": 81,
    "start_time": "2023-04-12T13:47:01.090Z"
   },
   {
    "duration": 811,
    "start_time": "2023-04-12T13:48:50.102Z"
   },
   {
    "duration": 20,
    "start_time": "2023-04-12T13:51:26.552Z"
   },
   {
    "duration": 4,
    "start_time": "2023-04-12T13:51:50.581Z"
   },
   {
    "duration": 1097,
    "start_time": "2023-04-12T13:52:04.629Z"
   },
   {
    "duration": 270,
    "start_time": "2023-04-12T13:52:05.728Z"
   },
   {
    "duration": 41,
    "start_time": "2023-04-12T13:52:06.000Z"
   },
   {
    "duration": 7,
    "start_time": "2023-04-12T13:52:06.043Z"
   },
   {
    "duration": 86,
    "start_time": "2023-04-12T13:52:06.064Z"
   },
   {
    "duration": 155,
    "start_time": "2023-04-12T13:52:06.152Z"
   },
   {
    "duration": 14,
    "start_time": "2023-04-12T13:52:06.309Z"
   },
   {
    "duration": 130,
    "start_time": "2023-04-12T13:52:06.325Z"
   },
   {
    "duration": 23,
    "start_time": "2023-04-12T13:52:06.457Z"
   },
   {
    "duration": 7,
    "start_time": "2023-04-12T13:52:06.483Z"
   },
   {
    "duration": 20,
    "start_time": "2023-04-12T13:52:06.492Z"
   },
   {
    "duration": 8,
    "start_time": "2023-04-12T13:52:06.513Z"
   },
   {
    "duration": 18,
    "start_time": "2023-04-12T13:52:06.523Z"
   },
   {
    "duration": 28,
    "start_time": "2023-04-12T13:52:06.555Z"
   },
   {
    "duration": 9,
    "start_time": "2023-04-12T13:52:06.589Z"
   },
   {
    "duration": 659,
    "start_time": "2023-04-12T13:52:06.600Z"
   },
   {
    "duration": 27,
    "start_time": "2023-04-12T13:52:07.261Z"
   },
   {
    "duration": 4,
    "start_time": "2023-04-12T13:52:07.291Z"
   },
   {
    "duration": 17,
    "start_time": "2023-04-12T13:52:07.297Z"
   },
   {
    "duration": 6,
    "start_time": "2023-04-12T13:52:07.317Z"
   },
   {
    "duration": 42,
    "start_time": "2023-04-12T13:52:07.325Z"
   },
   {
    "duration": 41,
    "start_time": "2023-04-12T13:52:07.369Z"
   },
   {
    "duration": 96,
    "start_time": "2023-04-12T13:52:07.413Z"
   },
   {
    "duration": 13,
    "start_time": "2023-04-12T13:52:07.511Z"
   },
   {
    "duration": 26,
    "start_time": "2023-04-12T13:52:07.526Z"
   },
   {
    "duration": 192,
    "start_time": "2023-04-12T13:52:07.556Z"
   },
   {
    "duration": 15,
    "start_time": "2023-04-12T13:52:07.750Z"
   },
   {
    "duration": 88,
    "start_time": "2023-04-12T13:52:07.768Z"
   },
   {
    "duration": 26,
    "start_time": "2023-04-12T13:52:07.857Z"
   },
   {
    "duration": 143,
    "start_time": "2023-04-12T13:52:07.885Z"
   },
   {
    "duration": 148,
    "start_time": "2023-04-12T13:52:08.029Z"
   },
   {
    "duration": 4,
    "start_time": "2023-04-12T13:52:50.489Z"
   },
   {
    "duration": 181,
    "start_time": "2023-04-12T13:52:52.189Z"
   },
   {
    "duration": 28,
    "start_time": "2023-04-12T13:52:52.388Z"
   },
   {
    "duration": 8,
    "start_time": "2023-04-12T13:52:52.537Z"
   },
   {
    "duration": 73,
    "start_time": "2023-04-12T13:52:52.705Z"
   },
   {
    "duration": 138,
    "start_time": "2023-04-12T13:52:53.080Z"
   },
   {
    "duration": 21,
    "start_time": "2023-04-12T13:52:53.250Z"
   },
   {
    "duration": 92,
    "start_time": "2023-04-12T13:52:53.443Z"
   },
   {
    "duration": 16,
    "start_time": "2023-04-12T13:52:53.602Z"
   },
   {
    "duration": 4,
    "start_time": "2023-04-12T13:52:54.018Z"
   },
   {
    "duration": 10,
    "start_time": "2023-04-12T13:52:54.193Z"
   },
   {
    "duration": 5,
    "start_time": "2023-04-12T13:52:54.393Z"
   },
   {
    "duration": 23,
    "start_time": "2023-04-12T13:52:54.584Z"
   },
   {
    "duration": 17,
    "start_time": "2023-04-12T13:52:54.789Z"
   },
   {
    "duration": 5,
    "start_time": "2023-04-12T13:52:54.990Z"
   },
   {
    "duration": 579,
    "start_time": "2023-04-12T13:52:55.403Z"
   },
   {
    "duration": 25,
    "start_time": "2023-04-12T13:52:55.986Z"
   },
   {
    "duration": 5,
    "start_time": "2023-04-12T13:52:56.013Z"
   },
   {
    "duration": 13,
    "start_time": "2023-04-12T13:52:56.154Z"
   },
   {
    "duration": 5,
    "start_time": "2023-04-12T13:52:56.387Z"
   },
   {
    "duration": 12,
    "start_time": "2023-04-12T13:52:56.783Z"
   },
   {
    "duration": 28,
    "start_time": "2023-04-12T13:52:57.435Z"
   },
   {
    "duration": 64,
    "start_time": "2023-04-12T13:52:57.637Z"
   },
   {
    "duration": 10,
    "start_time": "2023-04-12T13:52:58.714Z"
   },
   {
    "duration": 11,
    "start_time": "2023-04-12T13:52:58.930Z"
   },
   {
    "duration": 13,
    "start_time": "2023-04-12T13:52:59.122Z"
   },
   {
    "duration": 13,
    "start_time": "2023-04-12T13:52:59.594Z"
   },
   {
    "duration": 38,
    "start_time": "2023-04-12T13:53:00.538Z"
   },
   {
    "duration": 25,
    "start_time": "2023-04-12T13:53:01.345Z"
   },
   {
    "duration": 88,
    "start_time": "2023-04-12T13:53:01.722Z"
   },
   {
    "duration": 14,
    "start_time": "2023-04-12T13:53:02.573Z"
   },
   {
    "duration": 10,
    "start_time": "2023-04-12T13:53:14.012Z"
   },
   {
    "duration": 55,
    "start_time": "2023-04-12T14:14:48.845Z"
   },
   {
    "duration": 4,
    "start_time": "2023-04-12T14:15:18.386Z"
   },
   {
    "duration": 5,
    "start_time": "2023-04-12T14:15:25.908Z"
   },
   {
    "duration": 5,
    "start_time": "2023-04-12T14:16:43.941Z"
   },
   {
    "duration": 4,
    "start_time": "2023-04-12T14:16:44.516Z"
   },
   {
    "duration": 5,
    "start_time": "2023-04-12T14:16:45.275Z"
   },
   {
    "duration": 4,
    "start_time": "2023-04-12T14:16:45.976Z"
   },
   {
    "duration": 5,
    "start_time": "2023-04-12T14:16:57.574Z"
   },
   {
    "duration": 4,
    "start_time": "2023-04-12T14:16:58.478Z"
   },
   {
    "duration": 3,
    "start_time": "2023-04-12T14:16:58.974Z"
   },
   {
    "duration": 4,
    "start_time": "2023-04-12T14:17:04.348Z"
   },
   {
    "duration": 5,
    "start_time": "2023-04-12T14:17:07.282Z"
   },
   {
    "duration": 6,
    "start_time": "2023-04-12T14:17:07.867Z"
   },
   {
    "duration": 4,
    "start_time": "2023-04-12T14:17:08.721Z"
   },
   {
    "duration": 3,
    "start_time": "2023-04-12T14:17:09.289Z"
   },
   {
    "duration": 3,
    "start_time": "2023-04-12T14:17:20.156Z"
   },
   {
    "duration": 4,
    "start_time": "2023-04-12T14:17:20.923Z"
   },
   {
    "duration": 4,
    "start_time": "2023-04-12T14:17:21.218Z"
   },
   {
    "duration": 5,
    "start_time": "2023-04-12T14:17:24.106Z"
   },
   {
    "duration": 3,
    "start_time": "2023-04-12T14:17:24.877Z"
   },
   {
    "duration": 4,
    "start_time": "2023-04-12T14:17:25.179Z"
   },
   {
    "duration": 4,
    "start_time": "2023-04-12T14:17:25.802Z"
   },
   {
    "duration": 77,
    "start_time": "2023-04-12T14:17:37.971Z"
   },
   {
    "duration": 4,
    "start_time": "2023-04-12T14:17:38.531Z"
   },
   {
    "duration": 3,
    "start_time": "2023-04-12T14:17:39.573Z"
   },
   {
    "duration": 4,
    "start_time": "2023-04-12T14:17:40.426Z"
   },
   {
    "duration": 5,
    "start_time": "2023-04-12T14:17:41.294Z"
   },
   {
    "duration": 4,
    "start_time": "2023-04-12T14:18:54.319Z"
   },
   {
    "duration": 5,
    "start_time": "2023-04-12T14:18:54.876Z"
   },
   {
    "duration": 4,
    "start_time": "2023-04-12T14:18:56.068Z"
   },
   {
    "duration": 5,
    "start_time": "2023-04-12T14:20:31.633Z"
   },
   {
    "duration": 5,
    "start_time": "2023-04-12T14:20:32.458Z"
   },
   {
    "duration": 4,
    "start_time": "2023-04-12T14:20:33.263Z"
   },
   {
    "duration": 5,
    "start_time": "2023-04-12T14:20:35.169Z"
   },
   {
    "duration": 3,
    "start_time": "2023-04-12T14:20:54.833Z"
   },
   {
    "duration": 6,
    "start_time": "2023-04-12T14:20:55.583Z"
   },
   {
    "duration": 4,
    "start_time": "2023-04-12T14:20:55.787Z"
   },
   {
    "duration": 6,
    "start_time": "2023-04-12T14:21:27.889Z"
   },
   {
    "duration": 4,
    "start_time": "2023-04-12T14:21:32.772Z"
   },
   {
    "duration": 3,
    "start_time": "2023-04-12T14:21:54.111Z"
   },
   {
    "duration": 5,
    "start_time": "2023-04-12T14:21:54.681Z"
   },
   {
    "duration": 5,
    "start_time": "2023-04-12T14:21:56.825Z"
   },
   {
    "duration": 3,
    "start_time": "2023-04-12T14:22:47.419Z"
   },
   {
    "duration": 6,
    "start_time": "2023-04-12T14:22:55.280Z"
   },
   {
    "duration": 5,
    "start_time": "2023-04-12T14:23:17.808Z"
   },
   {
    "duration": 4,
    "start_time": "2023-04-12T14:25:40.925Z"
   },
   {
    "duration": 3,
    "start_time": "2023-04-12T14:25:41.375Z"
   },
   {
    "duration": 6,
    "start_time": "2023-04-12T14:25:42.359Z"
   },
   {
    "duration": 4,
    "start_time": "2023-04-12T14:25:43.352Z"
   },
   {
    "duration": 8,
    "start_time": "2023-04-12T14:28:10.544Z"
   },
   {
    "duration": 18,
    "start_time": "2023-04-12T14:31:35.150Z"
   },
   {
    "duration": 718,
    "start_time": "2023-04-12T14:49:31.018Z"
   },
   {
    "duration": 5,
    "start_time": "2023-04-12T14:49:59.597Z"
   },
   {
    "duration": 4,
    "start_time": "2023-04-12T14:50:09.282Z"
   },
   {
    "duration": 10,
    "start_time": "2023-04-12T14:50:25.524Z"
   },
   {
    "duration": 11,
    "start_time": "2023-04-12T14:52:53.674Z"
   },
   {
    "duration": 4,
    "start_time": "2023-04-12T14:56:18.910Z"
   },
   {
    "duration": 12,
    "start_time": "2023-04-12T14:56:39.190Z"
   },
   {
    "duration": 13,
    "start_time": "2023-04-12T14:57:11.565Z"
   },
   {
    "duration": 5,
    "start_time": "2023-04-12T14:57:19.708Z"
   },
   {
    "duration": 773,
    "start_time": "2023-04-12T14:57:52.130Z"
   },
   {
    "duration": 697,
    "start_time": "2023-04-12T14:58:05.654Z"
   },
   {
    "duration": 4,
    "start_time": "2023-04-12T14:58:23.486Z"
   },
   {
    "duration": 4,
    "start_time": "2023-04-12T14:58:37.844Z"
   },
   {
    "duration": 5,
    "start_time": "2023-04-12T15:00:23.142Z"
   },
   {
    "duration": 6,
    "start_time": "2023-04-12T15:00:42.178Z"
   },
   {
    "duration": 4,
    "start_time": "2023-04-12T15:01:53.538Z"
   },
   {
    "duration": 76,
    "start_time": "2023-04-12T15:18:15.975Z"
   },
   {
    "duration": 92,
    "start_time": "2023-04-12T15:18:30.661Z"
   },
   {
    "duration": 8,
    "start_time": "2023-04-12T15:21:14.590Z"
   },
   {
    "duration": 34,
    "start_time": "2023-04-12T15:40:09.432Z"
   },
   {
    "duration": 33,
    "start_time": "2023-04-12T15:40:16.608Z"
   },
   {
    "duration": 32,
    "start_time": "2023-04-12T15:40:57.705Z"
   },
   {
    "duration": 35,
    "start_time": "2023-04-12T15:42:09.133Z"
   },
   {
    "duration": 32,
    "start_time": "2023-04-12T15:42:16.887Z"
   },
   {
    "duration": 47,
    "start_time": "2023-04-12T15:42:42.186Z"
   },
   {
    "duration": 55,
    "start_time": "2023-04-12T15:43:20.681Z"
   },
   {
    "duration": 9,
    "start_time": "2023-04-12T15:43:34.038Z"
   },
   {
    "duration": 11,
    "start_time": "2023-04-12T15:44:01.971Z"
   },
   {
    "duration": 18,
    "start_time": "2023-04-12T15:44:20.627Z"
   },
   {
    "duration": 36,
    "start_time": "2023-04-12T15:45:38.721Z"
   },
   {
    "duration": 33,
    "start_time": "2023-04-12T15:45:49.711Z"
   },
   {
    "duration": 37,
    "start_time": "2023-04-12T15:46:02.589Z"
   },
   {
    "duration": 6,
    "start_time": "2023-04-12T15:46:09.110Z"
   },
   {
    "duration": 23,
    "start_time": "2023-04-12T15:46:09.702Z"
   },
   {
    "duration": 81,
    "start_time": "2023-04-12T16:12:18.357Z"
   },
   {
    "duration": 73,
    "start_time": "2023-04-12T16:13:40.178Z"
   },
   {
    "duration": 75,
    "start_time": "2023-04-12T16:13:52.525Z"
   },
   {
    "duration": 76,
    "start_time": "2023-04-12T16:14:41.940Z"
   },
   {
    "duration": 82,
    "start_time": "2023-04-12T16:15:51.165Z"
   },
   {
    "duration": 74,
    "start_time": "2023-04-12T16:16:39.609Z"
   },
   {
    "duration": 74,
    "start_time": "2023-04-12T16:19:19.612Z"
   },
   {
    "duration": 4,
    "start_time": "2023-04-12T16:19:20.109Z"
   },
   {
    "duration": 723,
    "start_time": "2023-04-12T16:19:20.769Z"
   },
   {
    "duration": 82,
    "start_time": "2023-04-12T16:19:54.161Z"
   },
   {
    "duration": 81,
    "start_time": "2023-04-12T16:20:40.961Z"
   },
   {
    "duration": 5,
    "start_time": "2023-04-12T16:21:34.246Z"
   },
   {
    "duration": 7,
    "start_time": "2023-04-12T16:21:39.712Z"
   },
   {
    "duration": 76,
    "start_time": "2023-04-12T16:30:42.282Z"
   },
   {
    "duration": 79,
    "start_time": "2023-04-12T16:44:00.559Z"
   },
   {
    "duration": 78,
    "start_time": "2023-04-12T16:44:14.834Z"
   },
   {
    "duration": 75,
    "start_time": "2023-04-12T16:44:56.971Z"
   },
   {
    "duration": 85,
    "start_time": "2023-04-12T16:46:16.151Z"
   },
   {
    "duration": 73,
    "start_time": "2023-04-12T16:46:56.126Z"
   },
   {
    "duration": 75,
    "start_time": "2023-04-12T16:47:12.613Z"
   },
   {
    "duration": 88,
    "start_time": "2023-04-12T16:49:31.190Z"
   },
   {
    "duration": 76,
    "start_time": "2023-04-12T16:49:45.451Z"
   },
   {
    "duration": 90,
    "start_time": "2023-04-12T16:49:52.189Z"
   },
   {
    "duration": 90,
    "start_time": "2023-04-12T16:50:29.717Z"
   },
   {
    "duration": 77,
    "start_time": "2023-04-12T16:50:42.443Z"
   },
   {
    "duration": 89,
    "start_time": "2023-04-12T16:51:28.237Z"
   },
   {
    "duration": 74,
    "start_time": "2023-04-12T16:51:39.971Z"
   },
   {
    "duration": 6,
    "start_time": "2023-04-12T16:53:43.332Z"
   },
   {
    "duration": 10,
    "start_time": "2023-04-12T16:53:46.361Z"
   },
   {
    "duration": 10,
    "start_time": "2023-04-12T16:56:29.355Z"
   },
   {
    "duration": 15,
    "start_time": "2023-04-12T16:59:41.055Z"
   },
   {
    "duration": 1176,
    "start_time": "2023-04-12T17:00:01.142Z"
   },
   {
    "duration": 590,
    "start_time": "2023-04-12T17:00:50.005Z"
   },
   {
    "duration": 46,
    "start_time": "2023-04-12T17:04:07.340Z"
   },
   {
    "duration": 38,
    "start_time": "2023-04-12T17:04:30.410Z"
   },
   {
    "duration": 11,
    "start_time": "2023-04-12T17:04:36.510Z"
   },
   {
    "duration": 37,
    "start_time": "2023-04-12T17:07:11.401Z"
   },
   {
    "duration": 7,
    "start_time": "2023-04-12T17:07:21.441Z"
   },
   {
    "duration": 2,
    "start_time": "2023-04-12T17:07:22.499Z"
   },
   {
    "duration": 982,
    "start_time": "2023-04-12T17:07:23.226Z"
   },
   {
    "duration": 42,
    "start_time": "2023-04-12T17:07:34.563Z"
   },
   {
    "duration": 11,
    "start_time": "2023-04-12T17:12:59.058Z"
   },
   {
    "duration": 6,
    "start_time": "2023-04-12T17:14:10.002Z"
   },
   {
    "duration": 3,
    "start_time": "2023-04-12T17:14:10.398Z"
   },
   {
    "duration": 16,
    "start_time": "2023-04-12T17:14:11.065Z"
   },
   {
    "duration": 9,
    "start_time": "2023-04-12T17:14:33.444Z"
   },
   {
    "duration": 3,
    "start_time": "2023-04-12T17:14:34.346Z"
   },
   {
    "duration": 9,
    "start_time": "2023-04-12T17:14:35.302Z"
   },
   {
    "duration": 29,
    "start_time": "2023-04-12T17:28:07.330Z"
   },
   {
    "duration": 31,
    "start_time": "2023-04-12T17:28:21.018Z"
   },
   {
    "duration": 48,
    "start_time": "2023-04-12T17:28:42.099Z"
   },
   {
    "duration": 30,
    "start_time": "2023-04-12T17:28:54.430Z"
   },
   {
    "duration": 36,
    "start_time": "2023-04-12T17:29:00.718Z"
   },
   {
    "duration": 46,
    "start_time": "2023-04-12T17:29:36.650Z"
   },
   {
    "duration": 32,
    "start_time": "2023-04-12T17:29:41.917Z"
   },
   {
    "duration": 36,
    "start_time": "2023-04-12T17:29:47.553Z"
   },
   {
    "duration": 38,
    "start_time": "2023-04-12T17:44:12.315Z"
   },
   {
    "duration": 52,
    "start_time": "2023-04-12T17:47:15.386Z"
   },
   {
    "duration": 48,
    "start_time": "2023-04-12T17:47:49.049Z"
   },
   {
    "duration": 38,
    "start_time": "2023-04-12T17:49:14.272Z"
   },
   {
    "duration": 37,
    "start_time": "2023-04-12T17:49:21.113Z"
   },
   {
    "duration": 34,
    "start_time": "2023-04-12T17:50:03.286Z"
   },
   {
    "duration": 34,
    "start_time": "2023-04-12T17:50:14.392Z"
   },
   {
    "duration": 37,
    "start_time": "2023-04-12T17:50:21.738Z"
   },
   {
    "duration": 52,
    "start_time": "2023-04-12T17:51:09.969Z"
   },
   {
    "duration": 75,
    "start_time": "2023-04-12T17:51:26.967Z"
   },
   {
    "duration": 66,
    "start_time": "2023-04-12T17:51:31.547Z"
   },
   {
    "duration": 37,
    "start_time": "2023-04-12T17:51:42.959Z"
   },
   {
    "duration": 37,
    "start_time": "2023-04-12T17:52:15.831Z"
   },
   {
    "duration": 43,
    "start_time": "2023-04-12T17:53:15.407Z"
   },
   {
    "duration": 6,
    "start_time": "2023-04-12T17:53:57.109Z"
   },
   {
    "duration": 700,
    "start_time": "2023-04-12T17:53:57.686Z"
   },
   {
    "duration": 743,
    "start_time": "2023-04-12T17:54:15.118Z"
   },
   {
    "duration": 719,
    "start_time": "2023-04-12T17:54:31.784Z"
   },
   {
    "duration": 58,
    "start_time": "2023-04-12T17:58:55.581Z"
   },
   {
    "duration": 7,
    "start_time": "2023-04-12T17:58:57.460Z"
   },
   {
    "duration": 9,
    "start_time": "2023-04-12T17:58:59.548Z"
   },
   {
    "duration": 764,
    "start_time": "2023-04-12T17:59:01.606Z"
   },
   {
    "duration": 703,
    "start_time": "2023-04-12T17:59:36.132Z"
   },
   {
    "duration": 11,
    "start_time": "2023-04-12T18:00:12.054Z"
   },
   {
    "duration": 6,
    "start_time": "2023-04-12T18:00:19.340Z"
   },
   {
    "duration": 9,
    "start_time": "2023-04-12T18:00:19.707Z"
   },
   {
    "duration": 41,
    "start_time": "2023-04-12T18:01:18.861Z"
   },
   {
    "duration": 6,
    "start_time": "2023-04-12T18:01:26.172Z"
   },
   {
    "duration": 687,
    "start_time": "2023-04-12T18:01:27.379Z"
   },
   {
    "duration": 88,
    "start_time": "2023-04-12T18:05:12.737Z"
   },
   {
    "duration": 88,
    "start_time": "2023-04-12T18:05:47.714Z"
   },
   {
    "duration": 126,
    "start_time": "2023-04-12T18:07:19.475Z"
   },
   {
    "duration": 101,
    "start_time": "2023-04-12T18:08:11.888Z"
   },
   {
    "duration": 115,
    "start_time": "2023-04-12T18:15:37.788Z"
   },
   {
    "duration": 1219,
    "start_time": "2023-04-12T23:26:38.512Z"
   },
   {
    "duration": 601,
    "start_time": "2023-04-12T23:26:39.735Z"
   },
   {
    "duration": 30,
    "start_time": "2023-04-12T23:26:40.337Z"
   },
   {
    "duration": 7,
    "start_time": "2023-04-12T23:26:42.921Z"
   },
   {
    "duration": 62,
    "start_time": "2023-04-12T23:26:43.113Z"
   },
   {
    "duration": 124,
    "start_time": "2023-04-12T23:26:43.519Z"
   },
   {
    "duration": 15,
    "start_time": "2023-04-12T23:26:43.745Z"
   },
   {
    "duration": 69,
    "start_time": "2023-04-12T23:26:43.946Z"
   },
   {
    "duration": 13,
    "start_time": "2023-04-12T23:26:44.168Z"
   },
   {
    "duration": 7,
    "start_time": "2023-04-12T23:26:44.608Z"
   },
   {
    "duration": 9,
    "start_time": "2023-04-12T23:26:44.832Z"
   },
   {
    "duration": 4,
    "start_time": "2023-04-12T23:26:45.024Z"
   },
   {
    "duration": 16,
    "start_time": "2023-04-12T23:26:45.232Z"
   },
   {
    "duration": 16,
    "start_time": "2023-04-12T23:26:45.657Z"
   },
   {
    "duration": 3,
    "start_time": "2023-04-12T23:26:45.848Z"
   },
   {
    "duration": 481,
    "start_time": "2023-04-12T23:26:46.440Z"
   },
   {
    "duration": 24,
    "start_time": "2023-04-12T23:26:46.923Z"
   },
   {
    "duration": 4,
    "start_time": "2023-04-12T23:26:47.743Z"
   },
   {
    "duration": 11,
    "start_time": "2023-04-12T23:26:47.959Z"
   },
   {
    "duration": 4,
    "start_time": "2023-04-12T23:26:48.568Z"
   },
   {
    "duration": 10,
    "start_time": "2023-04-12T23:26:48.792Z"
   },
   {
    "duration": 37,
    "start_time": "2023-04-12T23:26:49.663Z"
   },
   {
    "duration": 60,
    "start_time": "2023-04-12T23:26:49.904Z"
   },
   {
    "duration": 8,
    "start_time": "2023-04-12T23:26:50.856Z"
   },
   {
    "duration": 9,
    "start_time": "2023-04-12T23:26:51.073Z"
   },
   {
    "duration": 151,
    "start_time": "2023-04-12T23:26:52.120Z"
   },
   {
    "duration": 12,
    "start_time": "2023-04-12T23:26:53.015Z"
   },
   {
    "duration": 37,
    "start_time": "2023-04-12T23:26:56.464Z"
   },
   {
    "duration": 19,
    "start_time": "2023-04-12T23:26:57.503Z"
   },
   {
    "duration": 4,
    "start_time": "2023-04-12T23:26:58.983Z"
   },
   {
    "duration": 73,
    "start_time": "2023-04-12T23:27:02.599Z"
   },
   {
    "duration": 35,
    "start_time": "2023-04-12T23:27:07.641Z"
   },
   {
    "duration": 5,
    "start_time": "2023-04-12T23:28:09.794Z"
   },
   {
    "duration": 103,
    "start_time": "2023-04-12T23:28:32.825Z"
   },
   {
    "duration": 5,
    "start_time": "2023-04-12T23:28:44.145Z"
   },
   {
    "duration": 8,
    "start_time": "2023-04-12T23:28:44.512Z"
   },
   {
    "duration": 29,
    "start_time": "2023-04-12T23:29:37.278Z"
   },
   {
    "duration": 35,
    "start_time": "2023-04-12T23:30:13.549Z"
   },
   {
    "duration": 5,
    "start_time": "2023-04-12T23:31:43.471Z"
   },
   {
    "duration": 12,
    "start_time": "2023-04-12T23:31:43.934Z"
   },
   {
    "duration": 73,
    "start_time": "2023-04-12T23:36:35.076Z"
   },
   {
    "duration": 7,
    "start_time": "2023-04-12T23:36:52.570Z"
   },
   {
    "duration": 2,
    "start_time": "2023-04-12T23:50:28.442Z"
   },
   {
    "duration": 4,
    "start_time": "2023-04-12T23:50:39.873Z"
   },
   {
    "duration": 5,
    "start_time": "2023-04-12T23:51:00.569Z"
   },
   {
    "duration": 4,
    "start_time": "2023-04-12T23:52:53.824Z"
   },
   {
    "duration": 5,
    "start_time": "2023-04-12T23:59:01.240Z"
   },
   {
    "duration": 10,
    "start_time": "2023-04-12T23:59:01.965Z"
   },
   {
    "duration": 4,
    "start_time": "2023-04-12T23:59:36.383Z"
   },
   {
    "duration": 12,
    "start_time": "2023-04-12T23:59:37.373Z"
   },
   {
    "duration": 251,
    "start_time": "2023-04-13T00:00:04.781Z"
   },
   {
    "duration": 12,
    "start_time": "2023-04-13T00:00:05.435Z"
   },
   {
    "duration": 105,
    "start_time": "2023-04-13T00:00:22.614Z"
   },
   {
    "duration": 130,
    "start_time": "2023-04-13T00:00:30.509Z"
   },
   {
    "duration": 4,
    "start_time": "2023-04-13T00:00:42.399Z"
   },
   {
    "duration": 7,
    "start_time": "2023-04-13T00:01:14.680Z"
   },
   {
    "duration": 14,
    "start_time": "2023-04-13T00:01:15.976Z"
   },
   {
    "duration": 7,
    "start_time": "2023-04-13T00:02:06.084Z"
   },
   {
    "duration": 12,
    "start_time": "2023-04-13T00:02:06.581Z"
   },
   {
    "duration": 10,
    "start_time": "2023-04-13T00:09:49.367Z"
   },
   {
    "duration": 10,
    "start_time": "2023-04-13T00:10:36.021Z"
   },
   {
    "duration": 11,
    "start_time": "2023-04-13T00:11:34.094Z"
   },
   {
    "duration": 10,
    "start_time": "2023-04-13T00:22:33.065Z"
   },
   {
    "duration": 11,
    "start_time": "2023-04-13T00:23:07.643Z"
   },
   {
    "duration": 10,
    "start_time": "2023-04-13T00:24:00.607Z"
   },
   {
    "duration": 3,
    "start_time": "2023-04-13T00:26:38.200Z"
   },
   {
    "duration": 1178,
    "start_time": "2023-04-13T05:47:50.599Z"
   },
   {
    "duration": 747,
    "start_time": "2023-04-13T05:47:51.780Z"
   },
   {
    "duration": 35,
    "start_time": "2023-04-13T05:47:52.528Z"
   },
   {
    "duration": 7,
    "start_time": "2023-04-13T05:47:52.565Z"
   },
   {
    "duration": 79,
    "start_time": "2023-04-13T05:47:52.573Z"
   },
   {
    "duration": 154,
    "start_time": "2023-04-13T05:47:52.654Z"
   },
   {
    "duration": 17,
    "start_time": "2023-04-13T05:47:52.809Z"
   },
   {
    "duration": 83,
    "start_time": "2023-04-13T05:47:52.828Z"
   },
   {
    "duration": 17,
    "start_time": "2023-04-13T05:47:52.913Z"
   },
   {
    "duration": 8,
    "start_time": "2023-04-13T05:47:52.932Z"
   },
   {
    "duration": 11,
    "start_time": "2023-04-13T05:47:52.941Z"
   },
   {
    "duration": 4,
    "start_time": "2023-04-13T05:47:52.954Z"
   },
   {
    "duration": 43,
    "start_time": "2023-04-13T05:47:52.959Z"
   },
   {
    "duration": 18,
    "start_time": "2023-04-13T05:47:53.005Z"
   },
   {
    "duration": 14,
    "start_time": "2023-04-13T05:47:53.025Z"
   },
   {
    "duration": 536,
    "start_time": "2023-04-13T05:47:53.041Z"
   },
   {
    "duration": 24,
    "start_time": "2023-04-13T05:47:53.578Z"
   },
   {
    "duration": 3,
    "start_time": "2023-04-13T05:47:53.604Z"
   },
   {
    "duration": 10,
    "start_time": "2023-04-13T05:47:53.608Z"
   },
   {
    "duration": 5,
    "start_time": "2023-04-13T05:47:53.620Z"
   },
   {
    "duration": 11,
    "start_time": "2023-04-13T05:47:53.626Z"
   },
   {
    "duration": 52,
    "start_time": "2023-04-13T05:47:53.639Z"
   },
   {
    "duration": 58,
    "start_time": "2023-04-13T05:47:53.692Z"
   },
   {
    "duration": 9,
    "start_time": "2023-04-13T05:47:53.751Z"
   },
   {
    "duration": 28,
    "start_time": "2023-04-13T05:47:53.761Z"
   },
   {
    "duration": 189,
    "start_time": "2023-04-13T05:47:53.791Z"
   },
   {
    "duration": 14,
    "start_time": "2023-04-13T05:47:53.984Z"
   },
   {
    "duration": 90,
    "start_time": "2023-04-13T05:47:54.002Z"
   },
   {
    "duration": 23,
    "start_time": "2023-04-13T05:47:54.094Z"
   },
   {
    "duration": 5,
    "start_time": "2023-04-13T05:47:54.119Z"
   },
   {
    "duration": 163,
    "start_time": "2023-04-13T05:47:54.125Z"
   },
   {
    "duration": 38,
    "start_time": "2023-04-13T05:47:54.289Z"
   },
   {
    "duration": 3,
    "start_time": "2023-04-13T05:47:54.329Z"
   },
   {
    "duration": 6,
    "start_time": "2023-04-13T05:47:54.333Z"
   },
   {
    "duration": 7,
    "start_time": "2023-04-13T05:47:54.341Z"
   },
   {
    "duration": 35,
    "start_time": "2023-04-13T05:47:54.350Z"
   },
   {
    "duration": 11,
    "start_time": "2023-04-13T05:47:54.387Z"
   },
   {
    "duration": 12,
    "start_time": "2023-04-13T05:47:54.399Z"
   },
   {
    "duration": 9,
    "start_time": "2023-04-13T05:47:54.413Z"
   },
   {
    "duration": 12,
    "start_time": "2023-04-13T05:47:54.424Z"
   },
   {
    "duration": 3,
    "start_time": "2023-04-13T05:47:54.438Z"
   },
   {
    "duration": 46,
    "start_time": "2023-04-13T05:47:54.443Z"
   },
   {
    "duration": 6,
    "start_time": "2023-04-13T05:47:54.491Z"
   },
   {
    "duration": 5,
    "start_time": "2023-04-13T05:47:54.498Z"
   },
   {
    "duration": 5,
    "start_time": "2023-04-13T05:49:37.440Z"
   },
   {
    "duration": 11,
    "start_time": "2023-04-13T05:49:38.294Z"
   },
   {
    "duration": 13,
    "start_time": "2023-04-13T05:49:42.006Z"
   },
   {
    "duration": 12,
    "start_time": "2023-04-13T05:49:42.702Z"
   },
   {
    "duration": 11,
    "start_time": "2023-04-13T05:49:43.174Z"
   },
   {
    "duration": 4,
    "start_time": "2023-04-13T05:49:46.753Z"
   },
   {
    "duration": 7,
    "start_time": "2023-04-13T05:49:48.393Z"
   },
   {
    "duration": 11,
    "start_time": "2023-04-13T05:50:18.863Z"
   },
   {
    "duration": 47,
    "start_time": "2023-04-13T05:54:56.364Z"
   },
   {
    "duration": 11,
    "start_time": "2023-04-13T05:56:27.669Z"
   },
   {
    "duration": 11,
    "start_time": "2023-04-13T05:57:43.395Z"
   },
   {
    "duration": 12,
    "start_time": "2023-04-13T05:59:47.937Z"
   },
   {
    "duration": 12,
    "start_time": "2023-04-13T06:00:36.281Z"
   },
   {
    "duration": 48,
    "start_time": "2023-04-13T06:08:58.456Z"
   },
   {
    "duration": 123,
    "start_time": "2023-04-13T06:10:36.614Z"
   },
   {
    "duration": 266,
    "start_time": "2023-04-13T06:13:28.231Z"
   },
   {
    "duration": 137,
    "start_time": "2023-04-13T06:13:36.155Z"
   },
   {
    "duration": 948,
    "start_time": "2023-04-13T06:13:47.949Z"
   },
   {
    "duration": 129,
    "start_time": "2023-04-13T06:14:23.036Z"
   },
   {
    "duration": 147,
    "start_time": "2023-04-13T06:14:28.091Z"
   },
   {
    "duration": 126,
    "start_time": "2023-04-13T06:14:36.499Z"
   },
   {
    "duration": 129,
    "start_time": "2023-04-13T06:14:50.803Z"
   },
   {
    "duration": 141,
    "start_time": "2023-04-13T06:15:29.716Z"
   },
   {
    "duration": 21,
    "start_time": "2023-04-13T06:16:11.620Z"
   },
   {
    "duration": 21,
    "start_time": "2023-04-13T06:16:40.131Z"
   },
   {
    "duration": 23,
    "start_time": "2023-04-13T06:18:52.097Z"
   },
   {
    "duration": 61,
    "start_time": "2023-04-13T06:19:14.146Z"
   },
   {
    "duration": 55,
    "start_time": "2023-04-13T06:19:48.804Z"
   },
   {
    "duration": 53,
    "start_time": "2023-04-13T06:21:29.260Z"
   },
   {
    "duration": 50,
    "start_time": "2023-04-13T06:22:19.482Z"
   },
   {
    "duration": 16,
    "start_time": "2023-04-13T06:27:32.543Z"
   },
   {
    "duration": 16,
    "start_time": "2023-04-13T06:28:36.614Z"
   },
   {
    "duration": 17,
    "start_time": "2023-04-13T06:28:43.396Z"
   },
   {
    "duration": 13,
    "start_time": "2023-04-13T06:31:05.317Z"
   },
   {
    "duration": 13,
    "start_time": "2023-04-13T06:32:10.735Z"
   },
   {
    "duration": 13,
    "start_time": "2023-04-13T06:32:16.659Z"
   },
   {
    "duration": 13,
    "start_time": "2023-04-13T07:11:09.847Z"
   },
   {
    "duration": 11,
    "start_time": "2023-04-13T07:20:45.977Z"
   },
   {
    "duration": 1107,
    "start_time": "2023-04-13T08:00:35.711Z"
   },
   {
    "duration": 237,
    "start_time": "2023-04-13T08:00:36.820Z"
   },
   {
    "duration": 43,
    "start_time": "2023-04-13T08:00:37.059Z"
   },
   {
    "duration": 7,
    "start_time": "2023-04-13T08:00:37.104Z"
   },
   {
    "duration": 80,
    "start_time": "2023-04-13T08:00:37.113Z"
   },
   {
    "duration": 158,
    "start_time": "2023-04-13T08:00:37.196Z"
   },
   {
    "duration": 16,
    "start_time": "2023-04-13T08:00:37.356Z"
   },
   {
    "duration": 93,
    "start_time": "2023-04-13T08:00:37.373Z"
   },
   {
    "duration": 36,
    "start_time": "2023-04-13T08:00:37.468Z"
   },
   {
    "duration": 17,
    "start_time": "2023-04-13T08:00:37.506Z"
   },
   {
    "duration": 20,
    "start_time": "2023-04-13T08:00:37.524Z"
   },
   {
    "duration": 7,
    "start_time": "2023-04-13T08:00:37.546Z"
   },
   {
    "duration": 20,
    "start_time": "2023-04-13T08:00:37.555Z"
   },
   {
    "duration": 24,
    "start_time": "2023-04-13T08:00:37.590Z"
   },
   {
    "duration": 12,
    "start_time": "2023-04-13T08:00:37.616Z"
   },
   {
    "duration": 587,
    "start_time": "2023-04-13T08:00:37.630Z"
   },
   {
    "duration": 21,
    "start_time": "2023-04-13T08:00:38.220Z"
   },
   {
    "duration": 5,
    "start_time": "2023-04-13T08:00:38.244Z"
   },
   {
    "duration": 34,
    "start_time": "2023-04-13T08:00:38.251Z"
   },
   {
    "duration": 7,
    "start_time": "2023-04-13T08:00:38.287Z"
   },
   {
    "duration": 25,
    "start_time": "2023-04-13T08:00:38.296Z"
   },
   {
    "duration": 29,
    "start_time": "2023-04-13T08:00:38.324Z"
   },
   {
    "duration": 91,
    "start_time": "2023-04-13T08:00:38.355Z"
   },
   {
    "duration": 10,
    "start_time": "2023-04-13T08:00:38.448Z"
   },
   {
    "duration": 38,
    "start_time": "2023-04-13T08:00:38.460Z"
   },
   {
    "duration": 162,
    "start_time": "2023-04-13T08:00:38.500Z"
   },
   {
    "duration": 12,
    "start_time": "2023-04-13T08:00:38.663Z"
   },
   {
    "duration": 48,
    "start_time": "2023-04-13T08:00:38.685Z"
   },
   {
    "duration": 65,
    "start_time": "2023-04-13T08:00:38.735Z"
   },
   {
    "duration": 3,
    "start_time": "2023-04-13T08:00:38.802Z"
   },
   {
    "duration": 146,
    "start_time": "2023-04-13T08:00:38.807Z"
   },
   {
    "duration": 65,
    "start_time": "2023-04-13T08:00:38.955Z"
   },
   {
    "duration": 4,
    "start_time": "2023-04-13T08:00:39.022Z"
   },
   {
    "duration": 25,
    "start_time": "2023-04-13T08:00:39.028Z"
   },
   {
    "duration": 19,
    "start_time": "2023-04-13T08:00:39.055Z"
   },
   {
    "duration": 33,
    "start_time": "2023-04-13T08:00:39.076Z"
   },
   {
    "duration": 46,
    "start_time": "2023-04-13T08:00:39.111Z"
   },
   {
    "duration": 27,
    "start_time": "2023-04-13T08:00:39.159Z"
   },
   {
    "duration": 34,
    "start_time": "2023-04-13T08:00:39.188Z"
   },
   {
    "duration": 17,
    "start_time": "2023-04-13T08:00:39.223Z"
   },
   {
    "duration": 22,
    "start_time": "2023-04-13T08:00:39.244Z"
   },
   {
    "duration": 43,
    "start_time": "2023-04-13T08:00:39.268Z"
   },
   {
    "duration": 34,
    "start_time": "2023-04-13T08:00:39.313Z"
   },
   {
    "duration": 26,
    "start_time": "2023-04-13T08:00:39.349Z"
   },
   {
    "duration": 31,
    "start_time": "2023-04-13T08:00:39.377Z"
   },
   {
    "duration": 17,
    "start_time": "2023-04-13T08:06:16.010Z"
   },
   {
    "duration": 1101,
    "start_time": "2023-04-13T08:19:15.928Z"
   },
   {
    "duration": 837,
    "start_time": "2023-04-13T08:19:17.031Z"
   },
   {
    "duration": 33,
    "start_time": "2023-04-13T08:19:17.871Z"
   },
   {
    "duration": 8,
    "start_time": "2023-04-13T08:19:17.906Z"
   },
   {
    "duration": 74,
    "start_time": "2023-04-13T08:19:17.918Z"
   },
   {
    "duration": 154,
    "start_time": "2023-04-13T08:19:17.993Z"
   },
   {
    "duration": 16,
    "start_time": "2023-04-13T08:19:18.148Z"
   },
   {
    "duration": 97,
    "start_time": "2023-04-13T08:19:18.165Z"
   },
   {
    "duration": 14,
    "start_time": "2023-04-13T08:19:18.264Z"
   },
   {
    "duration": 33,
    "start_time": "2023-04-13T08:19:18.280Z"
   },
   {
    "duration": 16,
    "start_time": "2023-04-13T08:19:18.316Z"
   },
   {
    "duration": 5,
    "start_time": "2023-04-13T08:19:18.334Z"
   },
   {
    "duration": 20,
    "start_time": "2023-04-13T08:19:18.340Z"
   },
   {
    "duration": 27,
    "start_time": "2023-04-13T08:19:18.363Z"
   },
   {
    "duration": 28,
    "start_time": "2023-04-13T08:19:18.392Z"
   },
   {
    "duration": 582,
    "start_time": "2023-04-13T08:19:18.423Z"
   },
   {
    "duration": 27,
    "start_time": "2023-04-13T08:19:19.007Z"
   },
   {
    "duration": 4,
    "start_time": "2023-04-13T08:19:19.037Z"
   },
   {
    "duration": 45,
    "start_time": "2023-04-13T08:19:19.043Z"
   },
   {
    "duration": 25,
    "start_time": "2023-04-13T08:19:19.090Z"
   },
   {
    "duration": 23,
    "start_time": "2023-04-13T08:19:19.117Z"
   },
   {
    "duration": 30,
    "start_time": "2023-04-13T08:19:19.142Z"
   },
   {
    "duration": 87,
    "start_time": "2023-04-13T08:19:19.173Z"
   },
   {
    "duration": 9,
    "start_time": "2023-04-13T08:19:19.262Z"
   },
   {
    "duration": 14,
    "start_time": "2023-04-13T08:19:19.273Z"
   },
   {
    "duration": 421,
    "start_time": "2023-04-13T08:19:19.289Z"
   },
   {
    "duration": 23,
    "start_time": "2023-04-13T08:19:19.712Z"
   },
   {
    "duration": 92,
    "start_time": "2023-04-13T08:19:19.736Z"
   },
   {
    "duration": 18,
    "start_time": "2023-04-13T08:19:19.830Z"
   },
   {
    "duration": 4,
    "start_time": "2023-04-13T08:19:19.849Z"
   },
   {
    "duration": 141,
    "start_time": "2023-04-13T08:19:19.855Z"
   },
   {
    "duration": 72,
    "start_time": "2023-04-13T08:19:19.998Z"
   },
   {
    "duration": 4,
    "start_time": "2023-04-13T08:19:20.073Z"
   },
   {
    "duration": 11,
    "start_time": "2023-04-13T08:19:20.079Z"
   },
   {
    "duration": 22,
    "start_time": "2023-04-13T08:19:20.092Z"
   },
   {
    "duration": 10,
    "start_time": "2023-04-13T08:19:20.116Z"
   },
   {
    "duration": 18,
    "start_time": "2023-04-13T08:19:20.128Z"
   },
   {
    "duration": 12,
    "start_time": "2023-04-13T08:19:20.148Z"
   },
   {
    "duration": 12,
    "start_time": "2023-04-13T08:19:20.162Z"
   },
   {
    "duration": 62,
    "start_time": "2023-04-13T08:19:20.176Z"
   },
   {
    "duration": 7,
    "start_time": "2023-04-13T08:19:20.242Z"
   },
   {
    "duration": 20,
    "start_time": "2023-04-13T08:19:20.251Z"
   },
   {
    "duration": 15,
    "start_time": "2023-04-13T08:19:20.273Z"
   },
   {
    "duration": 21,
    "start_time": "2023-04-13T08:19:20.289Z"
   },
   {
    "duration": 19,
    "start_time": "2023-04-13T08:19:20.312Z"
   },
   {
    "duration": 4,
    "start_time": "2023-04-13T08:28:42.710Z"
   },
   {
    "duration": 148,
    "start_time": "2023-04-13T08:28:43.360Z"
   },
   {
    "duration": 26,
    "start_time": "2023-04-13T08:28:43.769Z"
   },
   {
    "duration": 6,
    "start_time": "2023-04-13T08:28:44.184Z"
   },
   {
    "duration": 65,
    "start_time": "2023-04-13T08:28:44.514Z"
   },
   {
    "duration": 131,
    "start_time": "2023-04-13T08:28:45.010Z"
   },
   {
    "duration": 16,
    "start_time": "2023-04-13T08:28:45.270Z"
   },
   {
    "duration": 77,
    "start_time": "2023-04-13T08:28:45.478Z"
   },
   {
    "duration": 14,
    "start_time": "2023-04-13T08:28:46.239Z"
   },
   {
    "duration": 4,
    "start_time": "2023-04-13T08:28:53.721Z"
   },
   {
    "duration": 8,
    "start_time": "2023-04-13T08:28:54.241Z"
   },
   {
    "duration": 4,
    "start_time": "2023-04-13T08:28:54.510Z"
   },
   {
    "duration": 17,
    "start_time": "2023-04-13T08:28:54.813Z"
   },
   {
    "duration": 19,
    "start_time": "2023-04-13T08:28:55.063Z"
   },
   {
    "duration": 3,
    "start_time": "2023-04-13T08:28:55.374Z"
   },
   {
    "duration": 484,
    "start_time": "2023-04-13T08:28:56.439Z"
   },
   {
    "duration": 21,
    "start_time": "2023-04-13T08:28:57.203Z"
   },
   {
    "duration": 5,
    "start_time": "2023-04-13T08:28:57.409Z"
   },
   {
    "duration": 9,
    "start_time": "2023-04-13T08:28:57.786Z"
   },
   {
    "duration": 6,
    "start_time": "2023-04-13T08:28:58.006Z"
   },
   {
    "duration": 12,
    "start_time": "2023-04-13T08:28:58.438Z"
   },
   {
    "duration": 29,
    "start_time": "2023-04-13T08:29:04.447Z"
   },
   {
    "duration": 62,
    "start_time": "2023-04-13T08:29:05.206Z"
   },
   {
    "duration": 10,
    "start_time": "2023-04-13T08:29:06.710Z"
   },
   {
    "duration": 11,
    "start_time": "2023-04-13T08:29:07.854Z"
   },
   {
    "duration": 13,
    "start_time": "2023-04-13T08:29:08.110Z"
   },
   {
    "duration": 12,
    "start_time": "2023-04-13T08:30:16.470Z"
   },
   {
    "duration": 11,
    "start_time": "2023-04-13T08:30:23.966Z"
   },
   {
    "duration": 13,
    "start_time": "2023-04-13T08:30:24.801Z"
   },
   {
    "duration": 14,
    "start_time": "2023-04-13T08:30:26.430Z"
   },
   {
    "duration": 33,
    "start_time": "2023-04-13T08:30:29.058Z"
   },
   {
    "duration": 17,
    "start_time": "2023-04-13T08:30:33.822Z"
   },
   {
    "duration": 42,
    "start_time": "2023-04-13T08:30:35.918Z"
   },
   {
    "duration": 3,
    "start_time": "2023-04-13T08:30:48.559Z"
   },
   {
    "duration": 78,
    "start_time": "2023-04-13T08:30:52.578Z"
   },
   {
    "duration": 42,
    "start_time": "2023-04-13T08:30:53.825Z"
   },
   {
    "duration": 4,
    "start_time": "2023-04-13T08:31:02.514Z"
   },
   {
    "duration": 4,
    "start_time": "2023-04-13T08:31:03.018Z"
   },
   {
    "duration": 7,
    "start_time": "2023-04-13T08:31:09.990Z"
   },
   {
    "duration": 5,
    "start_time": "2023-04-13T08:31:10.914Z"
   },
   {
    "duration": 12,
    "start_time": "2023-04-13T08:31:11.237Z"
   },
   {
    "duration": 12,
    "start_time": "2023-04-13T08:31:16.020Z"
   },
   {
    "duration": 12,
    "start_time": "2023-04-13T08:31:16.526Z"
   },
   {
    "duration": 12,
    "start_time": "2023-04-13T08:31:17.015Z"
   },
   {
    "duration": 4,
    "start_time": "2023-04-13T08:31:17.780Z"
   },
   {
    "duration": 13,
    "start_time": "2023-04-13T08:31:18.260Z"
   },
   {
    "duration": 11,
    "start_time": "2023-04-13T08:31:18.733Z"
   },
   {
    "duration": 12,
    "start_time": "2023-04-13T08:31:19.210Z"
   },
   {
    "duration": 11,
    "start_time": "2023-04-13T08:31:19.620Z"
   },
   {
    "duration": 1058,
    "start_time": "2023-04-13T08:32:11.675Z"
   },
   {
    "duration": 219,
    "start_time": "2023-04-13T08:32:12.735Z"
   },
   {
    "duration": 36,
    "start_time": "2023-04-13T08:32:12.957Z"
   },
   {
    "duration": 8,
    "start_time": "2023-04-13T08:32:12.995Z"
   },
   {
    "duration": 92,
    "start_time": "2023-04-13T08:32:13.006Z"
   },
   {
    "duration": 139,
    "start_time": "2023-04-13T08:32:13.100Z"
   },
   {
    "duration": 16,
    "start_time": "2023-04-13T08:32:13.241Z"
   },
   {
    "duration": 100,
    "start_time": "2023-04-13T08:32:13.259Z"
   },
   {
    "duration": 15,
    "start_time": "2023-04-13T08:32:13.360Z"
   },
   {
    "duration": 11,
    "start_time": "2023-04-13T08:32:13.376Z"
   },
   {
    "duration": 12,
    "start_time": "2023-04-13T08:32:13.388Z"
   },
   {
    "duration": 4,
    "start_time": "2023-04-13T08:32:13.402Z"
   },
   {
    "duration": 24,
    "start_time": "2023-04-13T08:32:13.407Z"
   },
   {
    "duration": 19,
    "start_time": "2023-04-13T08:32:13.434Z"
   },
   {
    "duration": 5,
    "start_time": "2023-04-13T08:32:13.454Z"
   },
   {
    "duration": 606,
    "start_time": "2023-04-13T08:32:13.460Z"
   },
   {
    "duration": 33,
    "start_time": "2023-04-13T08:32:14.067Z"
   },
   {
    "duration": 6,
    "start_time": "2023-04-13T08:32:14.102Z"
   },
   {
    "duration": 17,
    "start_time": "2023-04-13T08:32:14.110Z"
   },
   {
    "duration": 25,
    "start_time": "2023-04-13T08:32:14.129Z"
   },
   {
    "duration": 36,
    "start_time": "2023-04-13T08:32:14.156Z"
   },
   {
    "duration": 36,
    "start_time": "2023-04-13T08:32:14.194Z"
   },
   {
    "duration": 78,
    "start_time": "2023-04-13T08:32:14.231Z"
   },
   {
    "duration": 9,
    "start_time": "2023-04-13T08:32:14.311Z"
   },
   {
    "duration": 10,
    "start_time": "2023-04-13T08:32:14.322Z"
   },
   {
    "duration": 170,
    "start_time": "2023-04-13T08:32:14.333Z"
   },
   {
    "duration": 12,
    "start_time": "2023-04-13T08:32:14.505Z"
   },
   {
    "duration": 83,
    "start_time": "2023-04-13T08:32:14.519Z"
   },
   {
    "duration": 21,
    "start_time": "2023-04-13T08:32:14.604Z"
   },
   {
    "duration": 94,
    "start_time": "2023-04-13T08:32:14.627Z"
   },
   {
    "duration": 4,
    "start_time": "2023-04-13T08:32:14.722Z"
   },
   {
    "duration": 98,
    "start_time": "2023-04-13T08:32:14.728Z"
   },
   {
    "duration": 45,
    "start_time": "2023-04-13T08:32:14.828Z"
   },
   {
    "duration": 4,
    "start_time": "2023-04-13T08:32:14.889Z"
   },
   {
    "duration": 5,
    "start_time": "2023-04-13T08:32:14.896Z"
   },
   {
    "duration": 9,
    "start_time": "2023-04-13T08:32:14.903Z"
   },
   {
    "duration": 8,
    "start_time": "2023-04-13T08:32:14.914Z"
   },
   {
    "duration": 21,
    "start_time": "2023-04-13T08:32:14.923Z"
   },
   {
    "duration": 13,
    "start_time": "2023-04-13T08:32:14.945Z"
   },
   {
    "duration": 10,
    "start_time": "2023-04-13T08:32:14.986Z"
   },
   {
    "duration": 14,
    "start_time": "2023-04-13T08:32:14.999Z"
   },
   {
    "duration": 12,
    "start_time": "2023-04-13T08:32:15.014Z"
   },
   {
    "duration": 19,
    "start_time": "2023-04-13T08:32:15.028Z"
   },
   {
    "duration": 12,
    "start_time": "2023-04-13T08:32:15.048Z"
   },
   {
    "duration": 33,
    "start_time": "2023-04-13T08:32:15.062Z"
   },
   {
    "duration": 16,
    "start_time": "2023-04-13T08:32:15.096Z"
   },
   {
    "duration": 820,
    "start_time": "2023-04-13T08:34:30.951Z"
   },
   {
    "duration": 2723,
    "start_time": "2023-04-13T08:35:04.914Z"
   },
   {
    "duration": 7,
    "start_time": "2023-04-13T08:35:15.360Z"
   },
   {
    "duration": 6,
    "start_time": "2023-04-13T08:35:28.634Z"
   },
   {
    "duration": 4,
    "start_time": "2023-04-13T08:35:45.038Z"
   },
   {
    "duration": 7,
    "start_time": "2023-04-13T08:35:56.582Z"
   },
   {
    "duration": 6,
    "start_time": "2023-04-13T08:36:26.747Z"
   },
   {
    "duration": 829,
    "start_time": "2023-04-13T08:39:15.621Z"
   },
   {
    "duration": 801,
    "start_time": "2023-04-13T08:39:30.074Z"
   },
   {
    "duration": 741,
    "start_time": "2023-04-13T08:39:37.442Z"
   },
   {
    "duration": 764,
    "start_time": "2023-04-13T08:39:57.238Z"
   },
   {
    "duration": 931,
    "start_time": "2023-04-13T08:40:30.435Z"
   },
   {
    "duration": 11,
    "start_time": "2023-04-13T08:43:57.613Z"
   },
   {
    "duration": 838,
    "start_time": "2023-04-13T08:44:06.255Z"
   },
   {
    "duration": 945,
    "start_time": "2023-04-13T08:44:19.867Z"
   },
   {
    "duration": 795,
    "start_time": "2023-04-13T08:44:57.074Z"
   },
   {
    "duration": 5,
    "start_time": "2023-04-13T08:45:01.837Z"
   },
   {
    "duration": 5,
    "start_time": "2023-04-13T08:46:05.618Z"
   },
   {
    "duration": 7,
    "start_time": "2023-04-13T08:46:29.339Z"
   },
   {
    "duration": 6,
    "start_time": "2023-04-13T08:47:04.617Z"
   },
   {
    "duration": 62,
    "start_time": "2023-04-13T08:55:03.803Z"
   },
   {
    "duration": 6,
    "start_time": "2023-04-13T08:57:07.033Z"
   },
   {
    "duration": 9,
    "start_time": "2023-04-13T08:57:33.427Z"
   },
   {
    "duration": 1103,
    "start_time": "2023-04-13T09:43:20.619Z"
   },
   {
    "duration": 212,
    "start_time": "2023-04-13T09:43:21.724Z"
   },
   {
    "duration": 30,
    "start_time": "2023-04-13T09:43:21.938Z"
   },
   {
    "duration": 7,
    "start_time": "2023-04-13T09:43:21.969Z"
   },
   {
    "duration": 87,
    "start_time": "2023-04-13T09:43:21.978Z"
   },
   {
    "duration": 140,
    "start_time": "2023-04-13T09:43:22.067Z"
   },
   {
    "duration": 16,
    "start_time": "2023-04-13T09:43:22.211Z"
   },
   {
    "duration": 90,
    "start_time": "2023-04-13T09:43:22.228Z"
   },
   {
    "duration": 14,
    "start_time": "2023-04-13T09:43:22.320Z"
   },
   {
    "duration": 6,
    "start_time": "2023-04-13T09:43:22.336Z"
   },
   {
    "duration": 22,
    "start_time": "2023-04-13T09:43:22.344Z"
   },
   {
    "duration": 4,
    "start_time": "2023-04-13T09:43:22.367Z"
   },
   {
    "duration": 21,
    "start_time": "2023-04-13T09:43:22.372Z"
   },
   {
    "duration": 19,
    "start_time": "2023-04-13T09:43:22.412Z"
   },
   {
    "duration": 4,
    "start_time": "2023-04-13T09:43:22.432Z"
   },
   {
    "duration": 565,
    "start_time": "2023-04-13T09:43:22.438Z"
   },
   {
    "duration": 20,
    "start_time": "2023-04-13T09:43:23.012Z"
   },
   {
    "duration": 4,
    "start_time": "2023-04-13T09:43:23.034Z"
   },
   {
    "duration": 13,
    "start_time": "2023-04-13T09:43:23.039Z"
   },
   {
    "duration": 7,
    "start_time": "2023-04-13T09:43:23.053Z"
   },
   {
    "duration": 14,
    "start_time": "2023-04-13T09:43:23.061Z"
   },
   {
    "duration": 56,
    "start_time": "2023-04-13T09:43:23.077Z"
   },
   {
    "duration": 62,
    "start_time": "2023-04-13T09:43:23.135Z"
   },
   {
    "duration": 9,
    "start_time": "2023-04-13T09:43:23.211Z"
   },
   {
    "duration": 12,
    "start_time": "2023-04-13T09:43:23.222Z"
   },
   {
    "duration": 334,
    "start_time": "2023-04-13T09:43:23.235Z"
   },
   {
    "duration": 41,
    "start_time": "2023-04-13T09:43:23.571Z"
   },
   {
    "duration": 38,
    "start_time": "2023-04-13T09:43:23.614Z"
   },
   {
    "duration": 75,
    "start_time": "2023-04-13T09:43:23.654Z"
   },
   {
    "duration": 46,
    "start_time": "2023-04-13T09:43:23.730Z"
   },
   {
    "duration": 116,
    "start_time": "2023-04-13T09:43:23.777Z"
   },
   {
    "duration": 66,
    "start_time": "2023-04-13T09:43:23.895Z"
   },
   {
    "duration": 6,
    "start_time": "2023-04-13T09:43:23.962Z"
   },
   {
    "duration": 12,
    "start_time": "2023-04-13T09:43:23.970Z"
   },
   {
    "duration": 7,
    "start_time": "2023-04-13T09:43:23.983Z"
   },
   {
    "duration": 8,
    "start_time": "2023-04-13T09:43:24.012Z"
   },
   {
    "duration": 24,
    "start_time": "2023-04-13T09:43:24.022Z"
   },
   {
    "duration": 35,
    "start_time": "2023-04-13T09:43:24.048Z"
   },
   {
    "duration": 13,
    "start_time": "2023-04-13T09:43:24.084Z"
   },
   {
    "duration": 11,
    "start_time": "2023-04-13T09:43:24.098Z"
   },
   {
    "duration": 11,
    "start_time": "2023-04-13T09:43:24.114Z"
   },
   {
    "duration": 7,
    "start_time": "2023-04-13T09:43:24.127Z"
   },
   {
    "duration": 15,
    "start_time": "2023-04-13T09:43:24.135Z"
   },
   {
    "duration": 28,
    "start_time": "2023-04-13T09:43:24.152Z"
   },
   {
    "duration": 30,
    "start_time": "2023-04-13T09:43:24.182Z"
   },
   {
    "duration": 14,
    "start_time": "2023-04-13T09:43:24.213Z"
   },
   {
    "duration": 1109,
    "start_time": "2023-04-13T10:20:20.741Z"
   },
   {
    "duration": 811,
    "start_time": "2023-04-13T10:20:21.852Z"
   },
   {
    "duration": 27,
    "start_time": "2023-04-13T10:20:22.664Z"
   },
   {
    "duration": 9,
    "start_time": "2023-04-13T10:20:22.693Z"
   },
   {
    "duration": 59,
    "start_time": "2023-04-13T10:20:22.705Z"
   },
   {
    "duration": 129,
    "start_time": "2023-04-13T10:20:22.765Z"
   },
   {
    "duration": 18,
    "start_time": "2023-04-13T10:20:22.897Z"
   },
   {
    "duration": 71,
    "start_time": "2023-04-13T10:20:22.916Z"
   },
   {
    "duration": 19,
    "start_time": "2023-04-13T10:20:22.989Z"
   },
   {
    "duration": 3,
    "start_time": "2023-04-13T10:20:23.011Z"
   },
   {
    "duration": 16,
    "start_time": "2023-04-13T10:20:23.015Z"
   },
   {
    "duration": 19,
    "start_time": "2023-04-13T10:20:23.032Z"
   },
   {
    "duration": 18,
    "start_time": "2023-04-13T10:20:23.052Z"
   },
   {
    "duration": 21,
    "start_time": "2023-04-13T10:20:23.071Z"
   },
   {
    "duration": 17,
    "start_time": "2023-04-13T10:20:23.094Z"
   },
   {
    "duration": 507,
    "start_time": "2023-04-13T10:20:23.113Z"
   },
   {
    "duration": 18,
    "start_time": "2023-04-13T10:20:23.622Z"
   },
   {
    "duration": 9,
    "start_time": "2023-04-13T10:20:23.641Z"
   },
   {
    "duration": 14,
    "start_time": "2023-04-13T10:20:23.652Z"
   },
   {
    "duration": 7,
    "start_time": "2023-04-13T10:20:23.668Z"
   },
   {
    "duration": 30,
    "start_time": "2023-04-13T10:20:23.676Z"
   },
   {
    "duration": 35,
    "start_time": "2023-04-13T10:20:23.707Z"
   },
   {
    "duration": 62,
    "start_time": "2023-04-13T10:20:23.743Z"
   },
   {
    "duration": 9,
    "start_time": "2023-04-13T10:20:23.807Z"
   },
   {
    "duration": 10,
    "start_time": "2023-04-13T10:20:23.817Z"
   },
   {
    "duration": 159,
    "start_time": "2023-04-13T10:20:23.828Z"
   },
   {
    "duration": 14,
    "start_time": "2023-04-13T10:20:23.988Z"
   },
   {
    "duration": 111,
    "start_time": "2023-04-13T10:20:24.005Z"
   },
   {
    "duration": 21,
    "start_time": "2023-04-13T10:20:24.118Z"
   },
   {
    "duration": 66,
    "start_time": "2023-04-13T10:20:24.140Z"
   },
   {
    "duration": 102,
    "start_time": "2023-04-13T10:20:24.208Z"
   },
   {
    "duration": 42,
    "start_time": "2023-04-13T10:20:24.311Z"
   },
   {
    "duration": 5,
    "start_time": "2023-04-13T10:20:24.355Z"
   },
   {
    "duration": 6,
    "start_time": "2023-04-13T10:20:24.362Z"
   },
   {
    "duration": 34,
    "start_time": "2023-04-13T10:20:24.370Z"
   },
   {
    "duration": 8,
    "start_time": "2023-04-13T10:20:24.407Z"
   },
   {
    "duration": 8,
    "start_time": "2023-04-13T10:20:24.417Z"
   },
   {
    "duration": 13,
    "start_time": "2023-04-13T10:20:24.427Z"
   },
   {
    "duration": 10,
    "start_time": "2023-04-13T10:20:24.441Z"
   },
   {
    "duration": 17,
    "start_time": "2023-04-13T10:20:24.453Z"
   },
   {
    "duration": 11,
    "start_time": "2023-04-13T10:20:24.472Z"
   },
   {
    "duration": 6,
    "start_time": "2023-04-13T10:20:24.499Z"
   },
   {
    "duration": 12,
    "start_time": "2023-04-13T10:20:24.507Z"
   },
   {
    "duration": 14,
    "start_time": "2023-04-13T10:20:24.521Z"
   },
   {
    "duration": 9,
    "start_time": "2023-04-13T10:20:24.536Z"
   },
   {
    "duration": 11,
    "start_time": "2023-04-13T10:20:24.547Z"
   },
   {
    "duration": 4,
    "start_time": "2023-04-13T10:24:26.268Z"
   },
   {
    "duration": 76,
    "start_time": "2023-04-13T10:25:45.392Z"
   },
   {
    "duration": 11,
    "start_time": "2023-04-13T10:25:51.536Z"
   },
   {
    "duration": 102,
    "start_time": "2023-04-13T10:30:21.106Z"
   },
   {
    "duration": 881,
    "start_time": "2023-04-13T10:30:33.908Z"
   },
   {
    "duration": 2,
    "start_time": "2023-04-13T10:30:46.110Z"
   },
   {
    "duration": 11,
    "start_time": "2023-04-13T10:31:35.745Z"
   },
   {
    "duration": 8,
    "start_time": "2023-04-13T10:33:26.522Z"
   },
   {
    "duration": 5,
    "start_time": "2023-04-13T10:33:46.480Z"
   },
   {
    "duration": 850,
    "start_time": "2023-04-13T10:33:47.004Z"
   },
   {
    "duration": 6,
    "start_time": "2023-04-13T10:34:34.508Z"
   },
   {
    "duration": 778,
    "start_time": "2023-04-13T10:34:37.809Z"
   },
   {
    "duration": 5,
    "start_time": "2023-04-13T10:35:33.785Z"
   },
   {
    "duration": 777,
    "start_time": "2023-04-13T10:35:35.649Z"
   },
   {
    "duration": 6,
    "start_time": "2023-04-13T10:36:22.008Z"
   },
   {
    "duration": 825,
    "start_time": "2023-04-13T10:36:22.808Z"
   },
   {
    "duration": 5,
    "start_time": "2023-04-13T10:36:47.014Z"
   },
   {
    "duration": 798,
    "start_time": "2023-04-13T10:36:47.527Z"
   },
   {
    "duration": 6,
    "start_time": "2023-04-13T10:37:00.426Z"
   },
   {
    "duration": 17,
    "start_time": "2023-04-13T10:37:00.727Z"
   },
   {
    "duration": 13,
    "start_time": "2023-04-13T10:37:43.896Z"
   },
   {
    "duration": 20,
    "start_time": "2023-04-13T10:37:44.438Z"
   },
   {
    "duration": 5,
    "start_time": "2023-04-13T10:38:19.713Z"
   },
   {
    "duration": 24,
    "start_time": "2023-04-13T10:38:20.734Z"
   },
   {
    "duration": 6,
    "start_time": "2023-04-13T10:41:37.240Z"
   },
   {
    "duration": 27,
    "start_time": "2023-04-13T10:41:37.791Z"
   },
   {
    "duration": 6,
    "start_time": "2023-04-13T10:42:35.427Z"
   },
   {
    "duration": 9,
    "start_time": "2023-04-13T10:43:29.043Z"
   },
   {
    "duration": 47,
    "start_time": "2023-04-13T10:43:32.739Z"
   },
   {
    "duration": 1030,
    "start_time": "2023-04-13T10:43:56.719Z"
   },
   {
    "duration": 205,
    "start_time": "2023-04-13T10:43:57.751Z"
   },
   {
    "duration": 28,
    "start_time": "2023-04-13T10:43:57.958Z"
   },
   {
    "duration": 17,
    "start_time": "2023-04-13T10:43:58.002Z"
   },
   {
    "duration": 63,
    "start_time": "2023-04-13T10:43:58.021Z"
   },
   {
    "duration": 131,
    "start_time": "2023-04-13T10:43:58.086Z"
   },
   {
    "duration": 14,
    "start_time": "2023-04-13T10:43:58.219Z"
   },
   {
    "duration": 90,
    "start_time": "2023-04-13T10:43:58.235Z"
   },
   {
    "duration": 15,
    "start_time": "2023-04-13T10:43:58.327Z"
   },
   {
    "duration": 4,
    "start_time": "2023-04-13T10:43:58.345Z"
   },
   {
    "duration": 10,
    "start_time": "2023-04-13T10:43:58.350Z"
   },
   {
    "duration": 4,
    "start_time": "2023-04-13T10:43:58.361Z"
   },
   {
    "duration": 48,
    "start_time": "2023-04-13T10:43:58.367Z"
   },
   {
    "duration": 19,
    "start_time": "2023-04-13T10:43:58.417Z"
   },
   {
    "duration": 3,
    "start_time": "2023-04-13T10:43:58.438Z"
   },
   {
    "duration": 575,
    "start_time": "2023-04-13T10:43:58.443Z"
   },
   {
    "duration": 20,
    "start_time": "2023-04-13T10:43:59.019Z"
   },
   {
    "duration": 4,
    "start_time": "2023-04-13T10:43:59.040Z"
   },
   {
    "duration": 23,
    "start_time": "2023-04-13T10:43:59.046Z"
   },
   {
    "duration": 5,
    "start_time": "2023-04-13T10:43:59.072Z"
   },
   {
    "duration": 29,
    "start_time": "2023-04-13T10:43:59.079Z"
   },
   {
    "duration": 26,
    "start_time": "2023-04-13T10:43:59.110Z"
   },
   {
    "duration": 77,
    "start_time": "2023-04-13T10:43:59.138Z"
   },
   {
    "duration": 9,
    "start_time": "2023-04-13T10:43:59.217Z"
   },
   {
    "duration": 10,
    "start_time": "2023-04-13T10:43:59.227Z"
   },
   {
    "duration": 174,
    "start_time": "2023-04-13T10:43:59.239Z"
   },
   {
    "duration": 12,
    "start_time": "2023-04-13T10:43:59.415Z"
   },
   {
    "duration": 81,
    "start_time": "2023-04-13T10:43:59.430Z"
   },
   {
    "duration": 18,
    "start_time": "2023-04-13T10:43:59.512Z"
   },
   {
    "duration": 87,
    "start_time": "2023-04-13T10:43:59.532Z"
   },
   {
    "duration": 87,
    "start_time": "2023-04-13T10:43:59.621Z"
   },
   {
    "duration": 12,
    "start_time": "2023-04-13T10:43:59.710Z"
   },
   {
    "duration": 53,
    "start_time": "2023-04-13T10:43:59.724Z"
   },
   {
    "duration": 6,
    "start_time": "2023-04-13T10:43:59.780Z"
   },
   {
    "duration": 14,
    "start_time": "2023-04-13T10:43:59.794Z"
   },
   {
    "duration": 13,
    "start_time": "2023-04-13T10:43:59.809Z"
   },
   {
    "duration": 142,
    "start_time": "2023-04-13T10:43:59.824Z"
   },
   {
    "duration": 0,
    "start_time": "2023-04-13T10:43:59.968Z"
   },
   {
    "duration": 0,
    "start_time": "2023-04-13T10:43:59.970Z"
   },
   {
    "duration": 0,
    "start_time": "2023-04-13T10:43:59.972Z"
   },
   {
    "duration": 0,
    "start_time": "2023-04-13T10:43:59.973Z"
   },
   {
    "duration": 0,
    "start_time": "2023-04-13T10:43:59.975Z"
   },
   {
    "duration": 0,
    "start_time": "2023-04-13T10:43:59.994Z"
   },
   {
    "duration": 0,
    "start_time": "2023-04-13T10:43:59.995Z"
   },
   {
    "duration": 0,
    "start_time": "2023-04-13T10:43:59.996Z"
   },
   {
    "duration": 0,
    "start_time": "2023-04-13T10:43:59.996Z"
   },
   {
    "duration": 0,
    "start_time": "2023-04-13T10:43:59.997Z"
   },
   {
    "duration": 0,
    "start_time": "2023-04-13T10:43:59.999Z"
   },
   {
    "duration": 10,
    "start_time": "2023-04-13T10:44:36.229Z"
   },
   {
    "duration": 11,
    "start_time": "2023-04-13T10:46:20.508Z"
   },
   {
    "duration": 56,
    "start_time": "2023-04-13T10:47:43.566Z"
   },
   {
    "duration": 16,
    "start_time": "2023-04-13T10:48:00.836Z"
   },
   {
    "duration": 13,
    "start_time": "2023-04-13T10:50:18.204Z"
   },
   {
    "duration": 9,
    "start_time": "2023-04-13T10:50:45.104Z"
   },
   {
    "duration": 9,
    "start_time": "2023-04-13T10:51:04.846Z"
   },
   {
    "duration": 15,
    "start_time": "2023-04-13T10:52:45.427Z"
   },
   {
    "duration": 21,
    "start_time": "2023-04-13T10:53:46.652Z"
   },
   {
    "duration": 15,
    "start_time": "2023-04-13T10:53:55.414Z"
   },
   {
    "duration": 13,
    "start_time": "2023-04-13T10:55:57.426Z"
   },
   {
    "duration": 13,
    "start_time": "2023-04-13T10:56:21.161Z"
   },
   {
    "duration": 12,
    "start_time": "2023-04-13T10:56:40.714Z"
   },
   {
    "duration": 13,
    "start_time": "2023-04-13T10:57:30.735Z"
   },
   {
    "duration": 17,
    "start_time": "2023-04-13T10:57:59.500Z"
   },
   {
    "duration": 8,
    "start_time": "2023-04-13T10:58:21.910Z"
   },
   {
    "duration": 11,
    "start_time": "2023-04-13T10:58:39.502Z"
   },
   {
    "duration": 68,
    "start_time": "2023-04-13T10:59:09.381Z"
   },
   {
    "duration": 10,
    "start_time": "2023-04-13T10:59:36.689Z"
   },
   {
    "duration": 11,
    "start_time": "2023-04-13T11:00:37.000Z"
   },
   {
    "duration": 8,
    "start_time": "2023-04-13T11:02:03.263Z"
   },
   {
    "duration": 5,
    "start_time": "2023-04-13T11:02:27.888Z"
   },
   {
    "duration": 22,
    "start_time": "2023-04-13T11:02:28.349Z"
   },
   {
    "duration": 21,
    "start_time": "2023-04-13T11:02:45.805Z"
   },
   {
    "duration": 24,
    "start_time": "2023-04-13T11:02:56.792Z"
   },
   {
    "duration": 24,
    "start_time": "2023-04-13T11:03:04.773Z"
   },
   {
    "duration": 5,
    "start_time": "2023-04-13T11:03:08.807Z"
   },
   {
    "duration": 25,
    "start_time": "2023-04-13T11:03:17.294Z"
   },
   {
    "duration": 34,
    "start_time": "2023-04-13T11:03:30.316Z"
   },
   {
    "duration": 27,
    "start_time": "2023-04-13T11:03:38.809Z"
   },
   {
    "duration": 30,
    "start_time": "2023-04-13T11:03:50.388Z"
   },
   {
    "duration": 66,
    "start_time": "2023-04-13T11:04:48.201Z"
   },
   {
    "duration": 13,
    "start_time": "2023-04-13T11:05:00.207Z"
   },
   {
    "duration": 9,
    "start_time": "2023-04-13T11:06:09.644Z"
   },
   {
    "duration": 8,
    "start_time": "2023-04-13T11:06:18.141Z"
   },
   {
    "duration": 1473,
    "start_time": "2023-04-13T11:44:31.741Z"
   },
   {
    "duration": 227,
    "start_time": "2023-04-13T11:44:33.219Z"
   },
   {
    "duration": 48,
    "start_time": "2023-04-13T11:44:33.453Z"
   },
   {
    "duration": 26,
    "start_time": "2023-04-13T11:44:33.503Z"
   },
   {
    "duration": 87,
    "start_time": "2023-04-13T11:44:33.535Z"
   },
   {
    "duration": 185,
    "start_time": "2023-04-13T11:44:33.624Z"
   },
   {
    "duration": 30,
    "start_time": "2023-04-13T11:44:33.811Z"
   },
   {
    "duration": 121,
    "start_time": "2023-04-13T11:44:33.843Z"
   },
   {
    "duration": 18,
    "start_time": "2023-04-13T11:44:33.966Z"
   },
   {
    "duration": 7,
    "start_time": "2023-04-13T11:44:33.986Z"
   },
   {
    "duration": 40,
    "start_time": "2023-04-13T11:44:33.994Z"
   },
   {
    "duration": 35,
    "start_time": "2023-04-13T11:44:34.038Z"
   },
   {
    "duration": 25,
    "start_time": "2023-04-13T11:44:34.075Z"
   },
   {
    "duration": 48,
    "start_time": "2023-04-13T11:44:34.104Z"
   },
   {
    "duration": 23,
    "start_time": "2023-04-13T11:44:34.154Z"
   },
   {
    "duration": 961,
    "start_time": "2023-04-13T11:44:34.178Z"
   },
   {
    "duration": 25,
    "start_time": "2023-04-13T11:44:35.141Z"
   },
   {
    "duration": 4,
    "start_time": "2023-04-13T11:44:35.168Z"
   },
   {
    "duration": 33,
    "start_time": "2023-04-13T11:44:35.173Z"
   },
   {
    "duration": 21,
    "start_time": "2023-04-13T11:44:35.207Z"
   },
   {
    "duration": 29,
    "start_time": "2023-04-13T11:44:35.231Z"
   },
   {
    "duration": 33,
    "start_time": "2023-04-13T11:44:35.262Z"
   },
   {
    "duration": 98,
    "start_time": "2023-04-13T11:44:35.296Z"
   },
   {
    "duration": 11,
    "start_time": "2023-04-13T11:44:35.396Z"
   },
   {
    "duration": 29,
    "start_time": "2023-04-13T11:44:35.408Z"
   },
   {
    "duration": 342,
    "start_time": "2023-04-13T11:44:35.440Z"
   },
   {
    "duration": 55,
    "start_time": "2023-04-13T11:44:35.785Z"
   },
   {
    "duration": 92,
    "start_time": "2023-04-13T11:44:35.842Z"
   },
   {
    "duration": 26,
    "start_time": "2023-04-13T11:44:35.938Z"
   },
   {
    "duration": 109,
    "start_time": "2023-04-13T11:44:35.966Z"
   },
   {
    "duration": 95,
    "start_time": "2023-04-13T11:44:36.078Z"
   },
   {
    "duration": 72,
    "start_time": "2023-04-13T11:44:36.175Z"
   },
   {
    "duration": 8,
    "start_time": "2023-04-13T11:44:36.250Z"
   },
   {
    "duration": 8,
    "start_time": "2023-04-13T11:44:36.260Z"
   },
   {
    "duration": 13,
    "start_time": "2023-04-13T11:44:36.269Z"
   },
   {
    "duration": 35,
    "start_time": "2023-04-13T11:44:36.283Z"
   },
   {
    "duration": 31,
    "start_time": "2023-04-13T11:44:36.319Z"
   },
   {
    "duration": 30,
    "start_time": "2023-04-13T11:44:36.353Z"
   },
   {
    "duration": 28,
    "start_time": "2023-04-13T11:44:36.385Z"
   },
   {
    "duration": 28,
    "start_time": "2023-04-13T11:44:36.418Z"
   },
   {
    "duration": 25,
    "start_time": "2023-04-13T11:44:36.450Z"
   },
   {
    "duration": 4,
    "start_time": "2023-04-13T11:44:36.477Z"
   },
   {
    "duration": 60,
    "start_time": "2023-04-13T11:44:36.483Z"
   },
   {
    "duration": 31,
    "start_time": "2023-04-13T11:44:36.545Z"
   },
   {
    "duration": 55,
    "start_time": "2023-04-13T11:44:36.578Z"
   },
   {
    "duration": 32,
    "start_time": "2023-04-13T11:44:36.635Z"
   },
   {
    "duration": 1695,
    "start_time": "2023-04-13T11:57:41.813Z"
   },
   {
    "duration": 242,
    "start_time": "2023-04-13T11:57:43.512Z"
   },
   {
    "duration": 41,
    "start_time": "2023-04-13T11:57:43.756Z"
   },
   {
    "duration": 11,
    "start_time": "2023-04-13T11:57:43.811Z"
   },
   {
    "duration": 110,
    "start_time": "2023-04-13T11:57:43.827Z"
   },
   {
    "duration": 196,
    "start_time": "2023-04-13T11:57:43.943Z"
   },
   {
    "duration": 31,
    "start_time": "2023-04-13T11:57:44.142Z"
   },
   {
    "duration": 109,
    "start_time": "2023-04-13T11:57:44.175Z"
   },
   {
    "duration": 19,
    "start_time": "2023-04-13T11:57:44.286Z"
   },
   {
    "duration": 32,
    "start_time": "2023-04-13T11:57:44.320Z"
   },
   {
    "duration": 16,
    "start_time": "2023-04-13T11:57:44.359Z"
   },
   {
    "duration": 11,
    "start_time": "2023-04-13T11:57:44.378Z"
   },
   {
    "duration": 62,
    "start_time": "2023-04-13T11:57:44.392Z"
   },
   {
    "duration": 25,
    "start_time": "2023-04-13T11:57:44.456Z"
   },
   {
    "duration": 23,
    "start_time": "2023-04-13T11:57:44.484Z"
   },
   {
    "duration": 949,
    "start_time": "2023-04-13T11:57:44.509Z"
   },
   {
    "duration": 24,
    "start_time": "2023-04-13T11:57:45.463Z"
   },
   {
    "duration": 5,
    "start_time": "2023-04-13T11:57:45.489Z"
   },
   {
    "duration": 34,
    "start_time": "2023-04-13T11:57:45.495Z"
   },
   {
    "duration": 10,
    "start_time": "2023-04-13T11:57:45.530Z"
   },
   {
    "duration": 14,
    "start_time": "2023-04-13T11:57:45.542Z"
   },
   {
    "duration": 59,
    "start_time": "2023-04-13T11:57:45.558Z"
   },
   {
    "duration": 84,
    "start_time": "2023-04-13T11:57:45.620Z"
   },
   {
    "duration": 26,
    "start_time": "2023-04-13T11:57:45.706Z"
   },
   {
    "duration": 15,
    "start_time": "2023-04-13T11:57:45.744Z"
   },
   {
    "duration": 428,
    "start_time": "2023-04-13T11:57:45.761Z"
   },
   {
    "duration": 42,
    "start_time": "2023-04-13T11:57:46.191Z"
   },
   {
    "duration": 107,
    "start_time": "2023-04-13T11:57:46.237Z"
   },
   {
    "duration": 29,
    "start_time": "2023-04-13T11:57:46.346Z"
   },
   {
    "duration": 89,
    "start_time": "2023-04-13T11:57:46.377Z"
   },
   {
    "duration": 121,
    "start_time": "2023-04-13T11:57:46.468Z"
   },
   {
    "duration": 65,
    "start_time": "2023-04-13T11:57:46.591Z"
   },
   {
    "duration": 6,
    "start_time": "2023-04-13T11:57:46.658Z"
   },
   {
    "duration": 9,
    "start_time": "2023-04-13T11:57:46.666Z"
   },
   {
    "duration": 17,
    "start_time": "2023-04-13T11:57:46.676Z"
   },
   {
    "duration": 15,
    "start_time": "2023-04-13T11:57:46.721Z"
   },
   {
    "duration": 8,
    "start_time": "2023-04-13T11:57:46.742Z"
   },
   {
    "duration": 38,
    "start_time": "2023-04-13T11:57:46.752Z"
   },
   {
    "duration": 48,
    "start_time": "2023-04-13T11:57:46.792Z"
   },
   {
    "duration": 28,
    "start_time": "2023-04-13T11:57:46.841Z"
   },
   {
    "duration": 23,
    "start_time": "2023-04-13T11:57:46.871Z"
   },
   {
    "duration": 22,
    "start_time": "2023-04-13T11:57:46.896Z"
   },
   {
    "duration": 43,
    "start_time": "2023-04-13T11:57:46.920Z"
   },
   {
    "duration": 27,
    "start_time": "2023-04-13T11:57:46.965Z"
   },
   {
    "duration": 62,
    "start_time": "2023-04-13T11:57:46.994Z"
   },
   {
    "duration": 40,
    "start_time": "2023-04-13T11:57:47.060Z"
   },
   {
    "duration": 6,
    "start_time": "2023-04-13T11:58:12.768Z"
   },
   {
    "duration": 32,
    "start_time": "2023-04-13T11:58:12.932Z"
   },
   {
    "duration": 49,
    "start_time": "2023-04-13T11:58:14.108Z"
   },
   {
    "duration": 41,
    "start_time": "2023-04-13T11:58:14.446Z"
   },
   {
    "duration": 48,
    "start_time": "2023-04-13T11:58:14.779Z"
   },
   {
    "duration": 5,
    "start_time": "2023-04-13T11:58:15.299Z"
   },
   {
    "duration": 23,
    "start_time": "2023-04-13T11:58:15.601Z"
   },
   {
    "duration": 1411,
    "start_time": "2023-04-13T11:58:20.088Z"
   },
   {
    "duration": 262,
    "start_time": "2023-04-13T11:58:21.501Z"
   },
   {
    "duration": 61,
    "start_time": "2023-04-13T11:58:21.766Z"
   },
   {
    "duration": 13,
    "start_time": "2023-04-13T11:58:21.834Z"
   },
   {
    "duration": 80,
    "start_time": "2023-04-13T11:58:21.849Z"
   },
   {
    "duration": 161,
    "start_time": "2023-04-13T11:58:21.933Z"
   },
   {
    "duration": 34,
    "start_time": "2023-04-13T11:58:22.096Z"
   },
   {
    "duration": 97,
    "start_time": "2023-04-13T11:58:22.138Z"
   },
   {
    "duration": 22,
    "start_time": "2023-04-13T11:58:22.237Z"
   },
   {
    "duration": 5,
    "start_time": "2023-04-13T11:58:22.264Z"
   },
   {
    "duration": 11,
    "start_time": "2023-04-13T11:58:22.271Z"
   },
   {
    "duration": 4,
    "start_time": "2023-04-13T11:58:22.283Z"
   },
   {
    "duration": 60,
    "start_time": "2023-04-13T11:58:22.289Z"
   },
   {
    "duration": 17,
    "start_time": "2023-04-13T11:58:22.352Z"
   },
   {
    "duration": 4,
    "start_time": "2023-04-13T11:58:22.371Z"
   },
   {
    "duration": 898,
    "start_time": "2023-04-13T11:58:22.376Z"
   },
   {
    "duration": 43,
    "start_time": "2023-04-13T11:58:23.276Z"
   },
   {
    "duration": 14,
    "start_time": "2023-04-13T11:58:23.327Z"
   },
   {
    "duration": 16,
    "start_time": "2023-04-13T11:58:23.348Z"
   },
   {
    "duration": 8,
    "start_time": "2023-04-13T11:58:23.366Z"
   },
   {
    "duration": 24,
    "start_time": "2023-04-13T11:58:23.376Z"
   },
   {
    "duration": 58,
    "start_time": "2023-04-13T11:58:23.403Z"
   },
   {
    "duration": 85,
    "start_time": "2023-04-13T11:58:23.463Z"
   },
   {
    "duration": 12,
    "start_time": "2023-04-13T11:58:23.550Z"
   },
   {
    "duration": 21,
    "start_time": "2023-04-13T11:58:23.564Z"
   },
   {
    "duration": 429,
    "start_time": "2023-04-13T11:58:23.587Z"
   },
   {
    "duration": 43,
    "start_time": "2023-04-13T11:58:24.022Z"
   },
   {
    "duration": 71,
    "start_time": "2023-04-13T11:58:24.070Z"
   },
   {
    "duration": 82,
    "start_time": "2023-04-13T11:58:24.143Z"
   },
   {
    "duration": 85,
    "start_time": "2023-04-13T11:58:24.228Z"
   },
   {
    "duration": 117,
    "start_time": "2023-04-13T11:58:24.315Z"
   },
   {
    "duration": 66,
    "start_time": "2023-04-13T11:58:24.441Z"
   },
   {
    "duration": 23,
    "start_time": "2023-04-13T11:58:24.509Z"
   },
   {
    "duration": 14,
    "start_time": "2023-04-13T11:58:24.534Z"
   },
   {
    "duration": 9,
    "start_time": "2023-04-13T11:58:24.552Z"
   },
   {
    "duration": 28,
    "start_time": "2023-04-13T11:58:24.563Z"
   },
   {
    "duration": 38,
    "start_time": "2023-04-13T11:58:24.592Z"
   },
   {
    "duration": 52,
    "start_time": "2023-04-13T11:58:24.632Z"
   },
   {
    "duration": 65,
    "start_time": "2023-04-13T11:58:24.687Z"
   },
   {
    "duration": 27,
    "start_time": "2023-04-13T11:58:24.754Z"
   },
   {
    "duration": 41,
    "start_time": "2023-04-13T11:58:24.782Z"
   },
   {
    "duration": 17,
    "start_time": "2023-04-13T11:58:24.828Z"
   },
   {
    "duration": 34,
    "start_time": "2023-04-13T11:58:24.847Z"
   },
   {
    "duration": 34,
    "start_time": "2023-04-13T11:58:24.883Z"
   },
   {
    "duration": 43,
    "start_time": "2023-04-13T11:58:24.924Z"
   },
   {
    "duration": 25,
    "start_time": "2023-04-13T11:58:24.969Z"
   },
   {
    "duration": 14,
    "start_time": "2023-04-13T11:59:31.214Z"
   },
   {
    "duration": 14,
    "start_time": "2023-04-13T11:59:41.129Z"
   },
   {
    "duration": 1080,
    "start_time": "2023-06-06T14:03:15.766Z"
   },
   {
    "duration": 823,
    "start_time": "2023-06-06T14:03:16.848Z"
   },
   {
    "duration": 32,
    "start_time": "2023-06-06T14:03:17.674Z"
   },
   {
    "duration": 7,
    "start_time": "2023-06-06T14:03:17.708Z"
   },
   {
    "duration": 123,
    "start_time": "2023-06-06T14:03:17.725Z"
   },
   {
    "duration": 165,
    "start_time": "2023-06-06T14:03:17.851Z"
   },
   {
    "duration": 25,
    "start_time": "2023-06-06T14:03:18.018Z"
   },
   {
    "duration": 89,
    "start_time": "2023-06-06T14:03:18.044Z"
   },
   {
    "duration": 19,
    "start_time": "2023-06-06T14:03:18.135Z"
   },
   {
    "duration": 13,
    "start_time": "2023-06-06T14:03:18.156Z"
   },
   {
    "duration": 11,
    "start_time": "2023-06-06T14:03:18.171Z"
   },
   {
    "duration": 5,
    "start_time": "2023-06-06T14:03:18.183Z"
   },
   {
    "duration": 57,
    "start_time": "2023-06-06T14:03:18.189Z"
   },
   {
    "duration": 33,
    "start_time": "2023-06-06T14:03:18.250Z"
   },
   {
    "duration": 5,
    "start_time": "2023-06-06T14:03:18.285Z"
   },
   {
    "duration": 628,
    "start_time": "2023-06-06T14:03:18.292Z"
   },
   {
    "duration": 20,
    "start_time": "2023-06-06T14:03:18.924Z"
   },
   {
    "duration": 4,
    "start_time": "2023-06-06T14:03:18.946Z"
   },
   {
    "duration": 16,
    "start_time": "2023-06-06T14:03:18.951Z"
   },
   {
    "duration": 20,
    "start_time": "2023-06-06T14:03:18.969Z"
   },
   {
    "duration": 34,
    "start_time": "2023-06-06T14:03:18.991Z"
   },
   {
    "duration": 46,
    "start_time": "2023-06-06T14:03:19.028Z"
   },
   {
    "duration": 96,
    "start_time": "2023-06-06T14:03:19.077Z"
   },
   {
    "duration": 9,
    "start_time": "2023-06-06T14:03:19.175Z"
   },
   {
    "duration": 11,
    "start_time": "2023-06-06T14:03:19.186Z"
   },
   {
    "duration": 175,
    "start_time": "2023-06-06T14:03:19.198Z"
   },
   {
    "duration": 12,
    "start_time": "2023-06-06T14:03:19.375Z"
   },
   {
    "duration": 76,
    "start_time": "2023-06-06T14:03:19.389Z"
   },
   {
    "duration": 77,
    "start_time": "2023-06-06T14:03:19.467Z"
   },
   {
    "duration": 96,
    "start_time": "2023-06-06T14:03:19.546Z"
   },
   {
    "duration": 94,
    "start_time": "2023-06-06T14:03:19.645Z"
   },
   {
    "duration": 47,
    "start_time": "2023-06-06T14:03:19.741Z"
   },
   {
    "duration": 7,
    "start_time": "2023-06-06T14:03:19.790Z"
   },
   {
    "duration": 28,
    "start_time": "2023-06-06T14:03:19.799Z"
   },
   {
    "duration": 11,
    "start_time": "2023-06-06T14:03:19.830Z"
   },
   {
    "duration": 15,
    "start_time": "2023-06-06T14:03:19.845Z"
   },
   {
    "duration": 13,
    "start_time": "2023-06-06T14:03:19.863Z"
   },
   {
    "duration": 66,
    "start_time": "2023-06-06T14:03:19.878Z"
   },
   {
    "duration": 34,
    "start_time": "2023-06-06T14:03:19.948Z"
   },
   {
    "duration": 58,
    "start_time": "2023-06-06T14:03:19.986Z"
   },
   {
    "duration": 37,
    "start_time": "2023-06-06T14:03:20.048Z"
   },
   {
    "duration": 5,
    "start_time": "2023-06-06T14:03:20.087Z"
   },
   {
    "duration": 64,
    "start_time": "2023-06-06T14:03:20.095Z"
   },
   {
    "duration": 30,
    "start_time": "2023-06-06T14:03:20.162Z"
   },
   {
    "duration": 53,
    "start_time": "2023-06-06T14:03:20.195Z"
   },
   {
    "duration": 35,
    "start_time": "2023-06-06T14:03:20.249Z"
   },
   {
    "duration": 21,
    "start_time": "2023-06-06T14:09:24.953Z"
   },
   {
    "duration": 13,
    "start_time": "2023-06-06T14:14:17.113Z"
   }
  ],
  "kernelspec": {
   "display_name": "Python 3 (ipykernel)",
   "language": "python",
   "name": "python3"
  },
  "language_info": {
   "codemirror_mode": {
    "name": "ipython",
    "version": 3
   },
   "file_extension": ".py",
   "mimetype": "text/x-python",
   "name": "python",
   "nbconvert_exporter": "python",
   "pygments_lexer": "ipython3",
   "version": "3.9.13"
  },
  "toc": {
   "base_numbering": 1,
   "nav_menu": {},
   "number_sections": true,
   "sideBar": true,
   "skip_h1_title": true,
   "title_cell": "Table of Contents",
   "title_sidebar": "Contents",
   "toc_cell": true,
   "toc_position": {},
   "toc_section_display": true,
   "toc_window_display": true
  }
 },
 "nbformat": 4,
 "nbformat_minor": 2
}
